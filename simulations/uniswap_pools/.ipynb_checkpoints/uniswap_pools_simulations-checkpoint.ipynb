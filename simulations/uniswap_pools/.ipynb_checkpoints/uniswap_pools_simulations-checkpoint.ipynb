{
 "cells": [
  {
   "cell_type": "code",
   "execution_count": 1,
   "metadata": {},
   "outputs": [
    {
     "name": "stdout",
     "output_type": "stream",
     "text": [
      "86400 24 3600\n"
     ]
    }
   ],
   "source": [
    "import os\n",
    "import sys\n",
    "import pandas as pd\n",
    "import numpy as np\n",
    "import datetime\n",
    "import matplotlib.pyplot as plt\n",
    "sys.path.insert(0, \"C:/workspace/data-science//libs\")\n",
    "from simulation_core import Simulation\n",
    "\n",
    "pd.set_option('display.max_columns', None)"
   ]
  },
  {
   "cell_type": "markdown",
   "metadata": {},
   "source": [
    "The only plot function  left here, all other plotting functions related to the simulations are placed in the ```Simulation``` class of the ```simulation_core.py```"
   ]
  },
  {
   "cell_type": "code",
   "execution_count": 2,
   "metadata": {},
   "outputs": [],
   "source": [
    "def plot_mints(mitigated_mints: pd.DataFrame, pure_mints: pd.DataFrame, pool_name: str, width: int=10, height: int=10):\n",
    "    \"\"\"plot red line of original mints and blue dots of mitigated ones\n",
    "\n",
    "    Args:\n",
    "        mitigated_mints (pd.DataFrame): dataset of mitigated mints\n",
    "        pure_mints (pd.DataFrame): pure dataset of mints without mitigation\n",
    "        width (int, optional): width. Defaults to 10.\n",
    "        height (int, optional): height. Defaults to 10.\n",
    "    \"\"\"\n",
    "    fig, ax = plt.subplots(figsize=(width, height))\n",
    "    ax2 = ax.twinx()\n",
    "\n",
    "    ax.plot(pd.to_datetime(pure_mints.timestamp, unit='s'), pure_mints.Y_amount, c='red', label='mitigation off')\n",
    "    ax2.plot_date(pd.to_datetime(mitigated_mints.timestamp, unit='s'), mitigated_mints.Y_amount, linestyle='--', c='blue', label='mitigation on')\n",
    "\n",
    "    ax.set_title(f'Scatterplot of the mints for {pool_name} pool')\n",
    "    plt.legend()\n",
    "    ax.set_xlabel('time')\n",
    "    ax.set_ylabel('Y token amount')\n",
    "    ax2.set_ylabel('Y token mitigated amount')\n",
    "    fig.autofmt_xdate(rotation=25)\n",
    "    ax.grid(True, linestyle='--')\n",
    "\n",
    "    plt.show()"
   ]
  },
  {
   "cell_type": "markdown",
   "metadata": {},
   "source": [
    "Setting up the simulations parameters, with identifying their paths"
   ]
  },
  {
   "cell_type": "markdown",
   "metadata": {},
   "source": [
    "**cell below is executed ONLY ONCE BECAUSE OF FOUND MINTS TABLE ERROR**\n",
    "\n",
    "In some unique cases pools set pairs in unexpected order of tokens, meaning that all mints and burns will differ from expected format and therefore it is required to set them back into expected order. Unexpected order can be found if during simulations most of the transactions are blocked by ```NOT_ENOUGH_RESERVES``` status."
   ]
  },
  {
   "cell_type": "code",
   "execution_count": 3,
   "metadata": {},
   "outputs": [],
   "source": [
    "# mints_df = pd.read_pickle(f'{os.getcwd()}\\data\\pair_history\\PERL_WETH\\perl_weth_mints.pkl')\n",
    "# perl_series = mints_df.amount1.copy()   # copy placed, because otherwise reference is placed\n",
    "# weth_series = mints_df.amount0.copy()\n",
    "# mints_df.amount0 = perl_series\n",
    "# mints_df.amount1 = weth_series\n",
    "# mints_df.to_pickle(f'{os.getcwd()}\\data\\pair_history\\PERL_WETH\\perl_weth_mints.pkl')"
   ]
  },
  {
   "cell_type": "markdown",
   "metadata": {},
   "source": [
    "Each pool has its simulation parameters required to be set up in order to perform correct reading of the pickle files and where to save all simulation results."
   ]
  },
  {
   "cell_type": "code",
   "execution_count": 4,
   "metadata": {},
   "outputs": [],
   "source": [
    "# classic pools\n",
    "wbtc_usdc_sim = Simulation(experiment_id = 1, x_name = 'WBTC', y_name = 'USDC', window_size = 24, \n",
    "                           base_dir = fr\"{os.getcwd()}\\data\\real_transactions\\experiment_\")\n",
    "weth_usdc_sim = Simulation(experiment_id = 2, x_name = 'WETH', y_name = 'USDC', window_size = 24, \n",
    "                           base_dir = fr\"{os.getcwd()}\\data\\real_transactions\\experiment_\", x_index='1', y_index='0')\n",
    "wbtc_dai_sim = Simulation(experiment_id = 3, x_name = 'WBTC', y_name = 'DAI', window_size = 24, \n",
    "                           base_dir = fr\"{os.getcwd()}\\data\\real_transactions\\experiment_\")\n",
    "fei_weth_sim = Simulation(experiment_id = 4, x_name = 'FEI', y_name = 'WETH', window_size = 24, \n",
    "                           base_dir = fr\"{os.getcwd()}\\data\\real_transactions\\experiment_\")\n",
    "hkmt_usdt_sim = Simulation(experiment_id = 5, x_name = 'HKMT', y_name = 'USDT', window_size = 24, \n",
    "                           base_dir = fr\"{os.getcwd()}\\data\\real_transactions\\experiment_\")\n",
    "ixs_weth_sim = Simulation(experiment_id = 6, x_name = 'IXS', y_name = 'WETH', window_size = 24, \n",
    "                           base_dir = fr\"{os.getcwd()}\\data\\real_transactions\\experiment_\")\n",
    "\n",
    "# NFT token pools or NFT-related token pools\n",
    "axs_weth_sim = Simulation(experiment_id = 11, x_name = 'AXS', y_name = 'WETH', window_size = 24, \n",
    "                           base_dir = fr\"{os.getcwd()}\\data\\real_transactions\\experiment_\")\n",
    "mana_weth_sim = Simulation(experiment_id = 12, x_name = 'MANA', y_name = 'WETH', window_size = 24, \n",
    "                           base_dir = fr\"{os.getcwd()}\\data\\real_transactions\\experiment_\")\n",
    "enj_weth_sim = Simulation(experiment_id = 13, x_name = 'ENJ', y_name = 'WETH', window_size = 24, \n",
    "                           base_dir = fr\"{os.getcwd()}\\data\\real_transactions\\experiment_\", x_index = '1', y_index = '0')\n",
    "sand_weth_sim = Simulation(experiment_id = 14, x_name = 'SAND', y_name = 'WETH', window_size = 24, \n",
    "                           base_dir = fr\"{os.getcwd()}\\data\\real_transactions\\experiment_\")\n",
    "alice_weth_sim = Simulation(experiment_id = 15, x_name = 'ALICE', y_name = 'WETH', window_size = 24, \n",
    "                           base_dir = fr\"{os.getcwd()}\\data\\real_transactions\\experiment_\")\n",
    "\n",
    "# Meme token pools\n",
    "doge_weth_sim = Simulation(experiment_id = 21, x_name = 'DOGE', y_name = 'WETH', window_size = 24, \n",
    "                           base_dir = fr\"{os.getcwd()}\\data\\real_transactions\\experiment_\")\n",
    "elon_weth_sim = Simulation(experiment_id = 22, x_name = 'ELON', y_name = 'WETH', window_size = 24, \n",
    "                           base_dir = fr\"{os.getcwd()}\\data\\real_transactions\\experiment_\")\n",
    "shib_weth_sim = Simulation(experiment_id = 23, x_name = 'SHIB', y_name = 'WETH', window_size = 24, \n",
    "                           base_dir = fr\"{os.getcwd()}\\data\\real_transactions\\experiment_\")\n",
    "squid_weth_sim = Simulation(experiment_id = 24, x_name = 'SQUID', y_name = 'WETH', window_size = 24, \n",
    "                           base_dir = fr\"{os.getcwd()}\\data\\real_transactions\\experiment_\")\n",
    "\n",
    "# STO token pools\n",
    "xaut_weth_sim = Simulation(experiment_id = 31, x_name = 'XAUt', y_name = 'WETH', window_size = 24, \n",
    "                           base_dir = fr\"{os.getcwd()}\\data\\real_transactions\\experiment_\")\n",
    "uma_fei_sim = Simulation(experiment_id = 32, x_name = 'UMA', y_name = 'FEI', window_size = 24, \n",
    "                           base_dir = fr\"{os.getcwd()}\\data\\real_transactions\\experiment_\")\n",
    "perl_weth_sim = Simulation(experiment_id = 33, x_name = 'PERL', y_name = 'WETH', window_size = 24, \n",
    "                           base_dir = fr\"{os.getcwd()}\\data\\real_transactions\\experiment_\")\n",
    "bpt_weth_sim = Simulation(experiment_id = 34, x_name = 'BPT', y_name = 'WETH', window_size = 24, \n",
    "                           base_dir = fr\"{os.getcwd()}\\data\\real_transactions\\experiment_\")\n",
    "ustonks_usdc_sim = Simulation(experiment_id = 35, x_name = 'uSTONKS_APR_21', y_name = 'USDC', window_size = 24, \n",
    "                           base_dir = fr\"{os.getcwd()}\\data\\real_transactions\\experiment_\")\n",
    "\n",
    "# Mirrored shares tokens\n",
    "mamzn_ust_sim = Simulation(experiment_id = 41, x_name = 'mAMZN', y_name = 'UST', window_size = 24, \n",
    "                           base_dir = fr\"{os.getcwd()}\\data\\real_transactions\\experiment_\")\n",
    "mbaba_ust_sim = Simulation(experiment_id = 42, x_name = 'mBABA', y_name = 'UST', window_size = 24, \n",
    "                           base_dir = fr\"{os.getcwd()}\\data\\real_transactions\\experiment_\")\n",
    "maapl_ust_sim = Simulation(experiment_id = 43, x_name = 'mAAPL', y_name = 'UST', window_size = 24, \n",
    "                           base_dir = fr\"{os.getcwd()}\\data\\real_transactions\\experiment_\")"
   ]
  },
  {
   "cell_type": "markdown",
   "metadata": {},
   "source": [
    "**IMPORTANT: launch those simulations only if there is no data in package ```data\\real_transactions```, otherwise skip this part (comment it)**"
   ]
  },
  {
   "cell_type": "code",
   "execution_count": 5,
   "metadata": {},
   "outputs": [],
   "source": [
    "# # classic pools\n",
    "# wbtc_usdc_sim.run_simulation(isBurnAvailable = True, isMintAvailable = True)    # passed, experiment 1\n",
    "# weth_usdc_sim.run_simulation(isBurnAvailable = True, isMintAvailable = True)    # passed, experiment 2\n",
    "# wbtc_dai_sim.run_simulation(isBurnAvailable = True, isMintAvailable = True)     # passed, experiment 3\n",
    "# fei_weth_sim.run_simulation(isBurnAvailable = True, isMintAvailable = True)     # passed, experiment 4\n",
    "# hkmt_usdt_sim.run_simulation(isBurnAvailable = True, isMintAvailable = True)    # passed, experiment 5\n",
    "# ixs_weth_sim.run_simulation(isBurnAvailable = True, isMintAvailable = True)     # passed, experiment 6\n",
    "\n",
    "# # NFT token or NFT related pools\n",
    "# axs_weth_sim.run_simulation(isBurnAvailable = True, isMintAvailable = True)     # passed, experiment 11\n",
    "# mana_weth_sim.run_simulation(isBurnAvailable = True, isMintAvailable = True)    # passed, experiment 12\n",
    "# enj_weth_sim.run_simulation(isBurnAvailable = True, isMintAvailable = True)     # passed, experiment 13\n",
    "# sand_weth_sim.run_simulation(isBurnAvailable = True, isMintAvailable = True)    # passed, experiment 14\n",
    "# alice_weth_sim.run_simulation(isBurnAvailable = True, isMintAvailable = True)   # passed, experiment 15\n",
    "\n",
    "# # meme token pools\n",
    "# doge_weth_sim.run_simulation(isBurnAvailable = True, isMintAvailable = True)    # passed, experiment 21\n",
    "# elon_weth_sim.run_simulation(isBurnAvailable = True, isMintAvailable = True)    # passed, experiment 22\n",
    "# shib_weth_sim.run_simulation(isBurnAvailable = True, isMintAvailable = True)    # passed, experiment 23\n",
    "# squid_weth_sim.run_simulation(isBurnAvailable = False, isMintAvailable = True)  # passed, experiment 24\n",
    "\n",
    "# # STO token pools\n",
    "# xaut_weth_sim.run_simulation(isBurnAvailable = False, isMintAvailable = True)   # passed, experiment 31\n",
    "# uma_fei_sim.run_simulation(isBurnAvailable = False, isMintAvailable = True)     # passed, experiment 32\n",
    "# perl_weth_sim.run_simulation(isBurnAvailable = True, isMintAvailable = True)    # passed, experiment 33\n",
    "# bpt_weth_sim.run_simulation(isBurnAvailable = True, isMintAvailable = True)     # passed, experiment 34\n",
    "# ustonks_usdc_sim.run_simulation(isBurnAvailable = True, isMintAvailable = True) # passed, experiment 35\n",
    "\n",
    "# # Mirrored shares token pools\n",
    "# mamzn_ust_sim.run_simulation(isBurnAvailable = True, isMintAvailable = True)    # passed, experiment 41\n",
    "# mbaba_ust_sim.run_simulation(isBurnAvailable = True, isMintAvailable = True)    # passed, experiment 42\n",
    "# maapl_ust_sim.run_simulation(isBurnAvailable = True, isMintAvailable = True)    # passed, experiment 43"
   ]
  },
  {
   "cell_type": "markdown",
   "metadata": {},
   "source": [
    "Reading all simulations separating them by categories for pool types.\n",
    "\n",
    "## Classic Pool (WBTC/USDC, WETH/USDC, WBTC/DAI, FEI/WETH, HKMT/USDT, IXS/WETH)"
   ]
  },
  {
   "cell_type": "code",
   "execution_count": null,
   "metadata": {},
   "outputs": [
    {
     "name": "stderr",
     "output_type": "stream",
     "text": [
      "C:\\Users\\Zbook\\anaconda3\\lib\\site-packages\\IPython\\core\\interactiveshell.py:3357: DtypeWarning: Columns (4) have mixed types.Specify dtype option on import or set low_memory=False.\n",
      "  if (await self.run_code(code, result,  async_=asy)):\n"
     ]
    }
   ],
   "source": [
    "wbtc_usdc_swaps_mitigation_off_df, wbtc_usdc_mints_mitigation_off_df, wbtc_usdc_burns_mitigation_off_df = wbtc_usdc_sim.read_simulation(0)\n",
    "wbtc_usdc_swaps_mitigation_on_df, wbtc_usdc_mints_mitigation_on_df, wbtc_usdc_burns_mitigation_on_df = wbtc_usdc_sim.read_simulation(1)\n",
    "\n",
    "weth_usdc_swaps_mitigation_off_df, weth_usdc_mints_mitigation_off_df, weth_usdc_burns_mitigation_off_df = weth_usdc_sim.read_simulation(0)\n",
    "weth_usdc_swaps_mitigation_on_df, weth_usdc_mints_mitigation_on_df, weth_usdc_burns_mitigation_on_df = weth_usdc_sim.read_simulation(1)\n",
    "\n",
    "wbtc_dai_swaps_mitigation_off_df, wbtc_dai_mints_mitigation_off_df, wbtc_dai_burns_mitigation_off_df = wbtc_dai_sim.read_simulation(0)\n",
    "wbtc_dai_swaps_mitigation_on_df, wbtc_dai_mints_mitigation_on_df, wbtc_dai_burns_mitigation_on_df = wbtc_dai_sim.read_simulation(1)\n",
    "\n",
    "fei_weth_swaps_mitigation_off_df, fei_weth_mints_mitigation_off_df, fei_weth_burns_mitigation_off_df = fei_weth_sim.read_simulation(0)\n",
    "fei_weth_swaps_mitigation_on_df, fei_weth_mints_mitigation_on_df, fei_weth_burns_mitigation_on_df = fei_weth_sim.read_simulation(1)\n",
    "\n",
    "hkmt_usdt_swaps_mitigation_off_df, hkmt_usdt_mints_mitigation_off_df, hkmt_usdt_burns_mitigation_off_df = hkmt_usdt_sim.read_simulation(0)\n",
    "hkmt_usdt_swaps_mitigation_on_df, hkmt_usdt_mints_mitigation_on_df, hkmt_usdt_burns_mitigation_on_df = hkmt_usdt_sim.read_simulation(1)\n",
    "\n",
    "ixs_weth_swaps_mitigation_off_df, ixs_weth_mints_mitigation_off_df, ixs_weth_burns_mitigation_off_df = ixs_weth_sim.read_simulation(0)\n",
    "ixs_weth_swaps_mitigation_on_df, ixs_weth_mints_mitigation_on_df, ixs_weth_burns_mitigation_on_df = ixs_weth_sim.read_simulation(1)"
   ]
  },
  {
   "cell_type": "markdown",
   "metadata": {},
   "source": [
    "## NFT and NFT related tokens pools (AXS/WETH, MANA/WETH, ENJ/WETH, SAND/WETH, ALICE/WETH)"
   ]
  },
  {
   "cell_type": "code",
   "execution_count": null,
   "metadata": {},
   "outputs": [],
   "source": [
    "axs_weth_swaps_mitigation_off_df, axs_weth_mints_mitigation_off_df, axs_weth_burns_mitigation_off_df = axs_weth_sim.read_simulation(0)\n",
    "axs_weth_swaps_mitigation_on_df, axs_weth_mints_mitigation_on_df, axs_weth_burns_mitigation_on_df = axs_weth_sim.read_simulation(1)\n",
    "\n",
    "mana_weth_swaps_mitigation_off_df, mana_weth_mints_mitigation_off_df, mana_weth_burns_mitigation_off_df = mana_weth_sim.read_simulation(0)\n",
    "mana_weth_swaps_mitigation_on_df, mana_weth_mints_mitigation_on_df, mana_weth_burns_mitigation_on_df = mana_weth_sim.read_simulation(1)\n",
    "\n",
    "enj_weth_swaps_mitigation_off_df, enj_weth_mints_mitigation_off_df, enj_weth_burns_mitigation_off_df = enj_weth_sim.read_simulation(0)\n",
    "enj_weth_swaps_mitigation_on_df, enj_weth_mints_mitigation_on_df, enj_weth_burns_mitigation_on_df = enj_weth_sim.read_simulation(1)\n",
    "\n",
    "sand_weth_swaps_mitigation_off_df, sand_weth_mints_mitigation_off_df, sand_weth_burns_mitigation_off_df = sand_weth_sim.read_simulation(0)\n",
    "sand_weth_swaps_mitigation_on_df, sand_weth_mints_mitigation_on_df, sand_weth_burns_mitigation_on_df = sand_weth_sim.read_simulation(1)\n",
    "\n",
    "alice_weth_swaps_mitigation_off_df, alice_weth_mints_mitigation_off_df, alice_weth_burns_mitigation_off_df = alice_weth_sim.read_simulation(0)\n",
    "alice_weth_swaps_mitigation_on_df, alice_weth_mints_mitigation_on_df, alice_weth_burns_mitigation_on_df = alice_weth_sim.read_simulation(1)"
   ]
  },
  {
   "cell_type": "markdown",
   "metadata": {},
   "source": [
    "## Meme-tokens pools (DOGE/WETH, SHIB/WETH, ELON/WETH, SQUID/WETH)"
   ]
  },
  {
   "cell_type": "code",
   "execution_count": null,
   "metadata": {},
   "outputs": [],
   "source": [
    "doge_weth_swaps_mitigation_off_df, doge_weth_mints_mitigation_off_df, doge_weth_burns_mitigation_off_df = doge_weth_sim.read_simulation(0)\n",
    "doge_weth_swaps_mitigation_on_df, doge_weth_mints_mitigation_on_df, doge_weth_burns_mitigation_on_df = doge_weth_sim.read_simulation(1)\n",
    "\n",
    "shib_weth_swaps_mitigation_off_df, shib_weth_mints_mitigation_off_df, shib_weth_burns_mitigation_off_df = shib_weth_sim.read_simulation(0)\n",
    "shib_weth_swaps_mitigation_on_df, shib_weth_mints_mitigation_on_df, shib_weth_burns_mitigation_on_df = shib_weth_sim.read_simulation(1)\n",
    "\n",
    "elon_weth_swaps_mitigation_off_df, elon_weth_mints_mitigation_off_df, elon_weth_burns_mitigation_off_df = elon_weth_sim.read_simulation(0)\n",
    "elon_weth_swaps_mitigation_on_df, elon_weth_mints_mitigation_on_df, elon_weth_burns_mitigation_on_df = elon_weth_sim.read_simulation(1)\n",
    "\n",
    "squid_weth_swaps_mitigation_off_df, squid_weth_mints_mitigation_off_df, squid_weth_burns_mitigation_off_df = squid_weth_sim.read_simulation(0)\n",
    "squid_weth_swaps_mitigation_on_df, squid_weth_mints_mitigation_on_df, squid_weth_burns_mitigation_on_df = squid_weth_sim.read_simulation(1)"
   ]
  },
  {
   "cell_type": "markdown",
   "metadata": {},
   "source": [
    "## STO token pools (XAUt/WETH, UMA/FEI, PERL/WETH, BPT/WETH, uSTONKS_APR_21/USDC)"
   ]
  },
  {
   "cell_type": "code",
   "execution_count": null,
   "metadata": {},
   "outputs": [],
   "source": [
    "xaut_weth_swaps_mitigation_off_df, xaut_weth_mints_mitigation_off_df, xaut_weth_burns_mitigation_off_df = xaut_weth_sim.read_simulation(0)\n",
    "xaut_weth_swaps_mitigation_on_df, xaut_weth_mints_mitigation_on_df, xaut_weth_burns_mitigation_on_df = xaut_weth_sim.read_simulation(1)\n",
    "\n",
    "uma_fei_swaps_mitigation_off_df, uma_fei_mints_mitigation_off_df, uma_fei_burns_mitigation_off_df = uma_fei_sim.read_simulation(0)\n",
    "uma_fei_swaps_mitigation_on_df, uma_fei_mints_mitigation_on_df, uma_fei_burns_mitigation_on_df = uma_fei_sim.read_simulation(1)\n",
    "\n",
    "perl_weth_swaps_mitigation_off_df, perl_weth_mints_mitigation_off_df, perl_weth_burns_mitigation_off_df = perl_weth_sim.read_simulation(0)\n",
    "perl_weth_swaps_mitigation_on_df, perl_weth_mints_mitigation_on_df, perl_weth_burns_mitigation_on_df = perl_weth_sim.read_simulation(1)\n",
    "\n",
    "bpt_weth_swaps_mitigation_off_df, bpt_weth_mints_mitigation_off_df, bpt_weth_burns_mitigation_off_df = bpt_weth_sim.read_simulation(0)\n",
    "bpt_weth_swaps_mitigation_on_df, bpt_weth_mints_mitigation_on_df, bpt_weth_burns_mitigation_on_df = bpt_weth_sim.read_simulation(1)\n",
    "\n",
    "ustonks_usdc_swaps_mitigation_off_df, ustonks_usdc_mints_mitigation_off_df, ustonks_usdc_burns_mitigation_off_df = ustonks_usdc_sim.read_simulation(0)\n",
    "ustonks_usdc_swaps_mitigation_on_df, ustonks_usdc_mints_mitigation_on_df, ustonks_usdc_burns_mitigation_on_df = ustonks_usdc_sim.read_simulation(1)"
   ]
  },
  {
   "cell_type": "markdown",
   "metadata": {},
   "source": [
    "## Mirrored shares tokens pools (mAMZN/UST, mBABA/UST, mAAPL/UST)"
   ]
  },
  {
   "cell_type": "code",
   "execution_count": null,
   "metadata": {},
   "outputs": [],
   "source": [
    "mamzn_ust_swaps_mitigation_off_df, mamzn_ust_mints_mitigation_off_df, mamzn_ust_burns_mitigation_off_df = mamzn_ust_sim.read_simulation(0)\n",
    "mamzn_ust_swaps_mitigation_on_df, mamzn_ust_mints_mitigation_on_df, mamzn_ust_burns_mitigation_on_df = mamzn_ust_sim.read_simulation(1)\n",
    "\n",
    "mbaba_ust_swaps_mitigation_off_df, mbaba_ust_mints_mitigation_off_df, mbaba_ust_burns_mitigation_off_df = mbaba_ust_sim.read_simulation(0)\n",
    "mbaba_ust_swaps_mitigation_on_df, mbaba_ust_mints_mitigation_on_df, mbaba_ust_burns_mitigation_on_df = mbaba_ust_sim.read_simulation(1)\n",
    "\n",
    "maapl_ust_swaps_mitigation_off_df, maapl_ust_mints_mitigation_off_df, maapl_ust_burns_mitigation_off_df = maapl_ust_sim.read_simulation(0)\n",
    "maapl_ust_swaps_mitigation_on_df, maapl_ust_mints_mitigation_on_df, maapl_ust_burns_mitigation_on_df = maapl_ust_sim.read_simulation(1)"
   ]
  },
  {
   "cell_type": "markdown",
   "metadata": {},
   "source": [
    "# WBTC/USDC pool\n",
    "\n",
    "There are around 68 200 transactions in the pool with 631 mints and 478 burns from May 2020 till November 2021, meaning large transaction history."
   ]
  },
  {
   "cell_type": "code",
   "execution_count": null,
   "metadata": {},
   "outputs": [],
   "source": [
    "wbtc_usdc_mints_mitigation_off_df"
   ]
  },
  {
   "cell_type": "code",
   "execution_count": null,
   "metadata": {},
   "outputs": [],
   "source": [
    "wbtc_usdc_burns_mitigation_off_df"
   ]
  },
  {
   "cell_type": "code",
   "execution_count": null,
   "metadata": {},
   "outputs": [],
   "source": [
    "wbtc_usdc_swaps_mitigation_off_df"
   ]
  },
  {
   "cell_type": "code",
   "execution_count": null,
   "metadata": {},
   "outputs": [],
   "source": [
    "plot_mints(wbtc_usdc_mints_mitigation_on_df, wbtc_usdc_mints_mitigation_off_df, pool_name='WBTC/USDC')"
   ]
  },
  {
   "cell_type": "markdown",
   "metadata": {},
   "source": [
    "## MEV transactions extraction and analysis\n",
    "\n",
    "### MEV attacks and possible MEVs extraction\n",
    "\n",
    "There are 77 MEV attacks performed on the pool"
   ]
  },
  {
   "cell_type": "code",
   "execution_count": null,
   "metadata": {},
   "outputs": [],
   "source": [
    "wbtc_usdc_filtered_swaps_df, wbtc_usdc_mevs_df = wbtc_usdc_sim.extract_filtered_and_mevs_dfs()"
   ]
  },
  {
   "cell_type": "markdown",
   "metadata": {},
   "source": [
    "There are 230 episodes of possible MEV attacks (suspicious \"sandwiches\" with difference smaller than 5%)"
   ]
  },
  {
   "cell_type": "code",
   "execution_count": null,
   "metadata": {},
   "outputs": [],
   "source": [
    "wbtc_usdc_suspicious_filtered_swaps_df, wbtc_usdc_possible_mevs_df = wbtc_usdc_sim.extract_suspicious_and_filtered_swaps_dfs()"
   ]
  },
  {
   "cell_type": "markdown",
   "metadata": {},
   "source": [
    "### Plotting values of MEVs and possible MEVs with filtered swaps values\n",
    "\n",
    "Plotting MEV transactions"
   ]
  },
  {
   "cell_type": "code",
   "execution_count": null,
   "metadata": {},
   "outputs": [],
   "source": [
    "wbtc_usdc_sim.show_swaps_and_mevs_by_token(wbtc_usdc_filtered_swaps_df, wbtc_usdc_mevs_df, width=15, height=5)"
   ]
  },
  {
   "cell_type": "markdown",
   "metadata": {},
   "source": [
    "Plotting suspicious transactions"
   ]
  },
  {
   "cell_type": "code",
   "execution_count": null,
   "metadata": {},
   "outputs": [],
   "source": [
    "wbtc_usdc_sim.show_swaps_and_mevs_by_token(wbtc_usdc_suspicious_filtered_swaps_df, wbtc_usdc_possible_mevs_df, width=15, height=5)"
   ]
  },
  {
   "cell_type": "markdown",
   "metadata": {},
   "source": [
    "### Plotting MEV transactions and possible MEV transactions with filtered swaps daily count distributions\n",
    "\n",
    "Plotting MEV transactions and swaps daily count distributions"
   ]
  },
  {
   "cell_type": "code",
   "execution_count": null,
   "metadata": {},
   "outputs": [],
   "source": [
    "wbtc_usdc_sim.show_swaps_and_mevs_daily_count_by_token(wbtc_usdc_filtered_swaps_df, wbtc_usdc_mevs_df, mevs_alter_axis=True)"
   ]
  },
  {
   "cell_type": "markdown",
   "metadata": {},
   "source": [
    "Plotting possible MEV transactions and swaps daily count distributions"
   ]
  },
  {
   "cell_type": "code",
   "execution_count": null,
   "metadata": {},
   "outputs": [],
   "source": [
    "wbtc_usdc_sim.show_swaps_and_mevs_daily_count_by_token(wbtc_usdc_suspicious_filtered_swaps_df, wbtc_usdc_possible_mevs_df, mevs_alter_axis=True)"
   ]
  },
  {
   "cell_type": "markdown",
   "metadata": {},
   "source": [
    "### Plotting ratio of MEV attacks to filtered swaps\n",
    "\n",
    "Plotting ratio of daily count"
   ]
  },
  {
   "cell_type": "code",
   "execution_count": null,
   "metadata": {},
   "outputs": [],
   "source": [
    "wbtc_usdc_sim.show_mevs_to_swaps_ratio(wbtc_usdc_filtered_swaps_df, wbtc_usdc_mevs_df)"
   ]
  },
  {
   "cell_type": "markdown",
   "metadata": {},
   "source": [
    "Plotting ratio of daily count for suspicious transactions"
   ]
  },
  {
   "cell_type": "code",
   "execution_count": null,
   "metadata": {},
   "outputs": [],
   "source": [
    "wbtc_usdc_sim.show_mevs_to_swaps_ratio(wbtc_usdc_suspicious_filtered_swaps_df, wbtc_usdc_possible_mevs_df)"
   ]
  },
  {
   "cell_type": "markdown",
   "metadata": {},
   "source": [
    "### Plotting ratio of MEVs and suspicious transactions to filtered swaps"
   ]
  },
  {
   "cell_type": "code",
   "execution_count": null,
   "metadata": {},
   "outputs": [],
   "source": [
    "wbtc_usdc_sim.show_mevs_to_reserves_ratio(wbtc_usdc_swaps_mitigation_off_df, wbtc_usdc_mevs_df, width=15, height=10)\n",
    "wbtc_usdc_sim.show_mevs_values_to_reserves_ratio(wbtc_usdc_swaps_mitigation_off_df, wbtc_usdc_mevs_df, width=15, height=10)"
   ]
  },
  {
   "cell_type": "markdown",
   "metadata": {},
   "source": [
    "### Plotting transaction values distribution of passed swaps, blocked swaps and not enough reserves swaps"
   ]
  },
  {
   "cell_type": "code",
   "execution_count": null,
   "metadata": {},
   "outputs": [],
   "source": [
    "wbtc_usdc_sim.plot_transactions_by_type(wbtc_usdc_swaps_mitigation_on_df, ignore_success=False, width=15, height=7)"
   ]
  },
  {
   "cell_type": "markdown",
   "metadata": {},
   "source": [
    "### Plotting mitigation comparison, slice factor distribution, reserves distributions, cumulative prices distributions, transaction frequency distributions, price impact after each transaction distributions"
   ]
  },
  {
   "cell_type": "code",
   "execution_count": null,
   "metadata": {
    "scrolled": false
   },
   "outputs": [],
   "source": [
    "wbtc_usdc_sim.show_mitigation_comparison(wbtc_usdc_swaps_mitigation_off_df, wbtc_usdc_swaps_mitigation_on_df)\n",
    "wbtc_usdc_sim.px_hist_blocked_transactions_slice(wbtc_usdc_swaps_mitigation_on_df)\n",
    "wbtc_usdc_sim.px_hist_blocked_transactions_difference_from_oracle(wbtc_usdc_swaps_mitigation_on_df)\n",
    "wbtc_usdc_sim.plot_slice_distribution_and_diff_limit_line(wbtc_usdc_swaps_mitigation_on_df)\n",
    "wbtc_usdc_sim.plot_reserves_with_and_without_mitigation(wbtc_usdc_swaps_mitigation_off_df, wbtc_usdc_swaps_mitigation_on_df)\n",
    "wbtc_usdc_sim.plot_cumulative_prices_with_and_without_mitigation(wbtc_usdc_swaps_mitigation_off_df, wbtc_usdc_swaps_mitigation_off_df)\n",
    "wbtc_usdc_sim.plot_price_distribution(wbtc_usdc_swaps_mitigation_off_df, wbtc_usdc_swaps_mitigation_on_df, separate_plots=True)\n",
    "wbtc_usdc_sim.plot_frequency_distribution(wbtc_usdc_swaps_mitigation_on_df)\n",
    "wbtc_usdc_sim.plot_price_impact(wbtc_usdc_swaps_mitigation_off_df, wbtc_usdc_swaps_mitigation_on_df, \n",
    "                                smallest_y=wbtc_usdc_swaps_mitigation_off_df['price_diff'].min(), \n",
    "                                biggest_y=wbtc_usdc_swaps_mitigation_off_df['price_diff'].max())"
   ]
  },
  {
   "cell_type": "code",
   "execution_count": null,
   "metadata": {},
   "outputs": [],
   "source": [
    "wbtc_usdc_blocked_df = wbtc_usdc_swaps_mitigation_on_df[wbtc_usdc_swaps_mitigation_on_df['status'] == 'BLOCKED_BY_VOLATILITY_MITIGATION']\n",
    "wbtc_usdc_blocked_mevs_df = pd.merge(wbtc_usdc_blocked_df, wbtc_usdc_mevs_df, on='txd')\n",
    "wbtc_usdc_blocked_mevs_df"
   ]
  },
  {
   "cell_type": "markdown",
   "metadata": {},
   "source": [
    "# WETH/USDC pool\n",
    "\n",
    "There are around 2 896 000 transaction with 32 000 mints and 23 370 burns"
   ]
  },
  {
   "cell_type": "code",
   "execution_count": null,
   "metadata": {},
   "outputs": [],
   "source": [
    "weth_usdc_mints_mitigation_off_df"
   ]
  },
  {
   "cell_type": "code",
   "execution_count": null,
   "metadata": {},
   "outputs": [],
   "source": [
    "weth_usdc_burns_mitigation_off_df"
   ]
  },
  {
   "cell_type": "code",
   "execution_count": null,
   "metadata": {},
   "outputs": [],
   "source": [
    "weth_usdc_swaps_mitigation_off_df"
   ]
  },
  {
   "cell_type": "code",
   "execution_count": null,
   "metadata": {},
   "outputs": [],
   "source": [
    "plot_mints(weth_usdc_mints_mitigation_on_df, weth_usdc_mints_mitigation_off_df, pool_name='WETH/USDC')"
   ]
  },
  {
   "cell_type": "markdown",
   "metadata": {},
   "source": [
    "## MEV transactions extraction and analysis\n",
    "\n",
    "### MEV attacks and possible MEVs extraction\n",
    "\n",
    "There are 136 MEV attacks performed on the pool and 8789 possible attacks"
   ]
  },
  {
   "cell_type": "code",
   "execution_count": null,
   "metadata": {},
   "outputs": [],
   "source": [
    "weth_usdc_filtered_swaps_df, weth_usdc_mevs_df = weth_usdc_sim.extract_filtered_and_mevs_dfs()"
   ]
  },
  {
   "cell_type": "code",
   "execution_count": null,
   "metadata": {},
   "outputs": [],
   "source": [
    "weth_usdc_suspicious_filtered_swaps_df, weth_usdc_possible_mevs_df = weth_usdc_sim.extract_suspicious_and_filtered_swaps_dfs()"
   ]
  },
  {
   "cell_type": "markdown",
   "metadata": {},
   "source": [
    "### Plotting values of MEVs and possible MEVs with filtered swaps values"
   ]
  },
  {
   "cell_type": "code",
   "execution_count": null,
   "metadata": {},
   "outputs": [],
   "source": [
    "weth_usdc_sim.show_swaps_and_mevs_by_token(weth_usdc_filtered_swaps_df, weth_usdc_mevs_df, width=15, height=5)"
   ]
  },
  {
   "cell_type": "code",
   "execution_count": null,
   "metadata": {},
   "outputs": [],
   "source": [
    "weth_usdc_sim.show_swaps_and_mevs_by_token(weth_usdc_suspicious_filtered_swaps_df, weth_usdc_possible_mevs_df, width=15, height=5)"
   ]
  },
  {
   "cell_type": "markdown",
   "metadata": {},
   "source": [
    "### Plotting MEV transactions and possible MEV transactions with filtered swaps daily count distributions"
   ]
  },
  {
   "cell_type": "code",
   "execution_count": null,
   "metadata": {},
   "outputs": [],
   "source": [
    "weth_usdc_sim.show_swaps_and_mevs_daily_count_by_token(weth_usdc_filtered_swaps_df, weth_usdc_mevs_df, mevs_alter_axis=True)"
   ]
  },
  {
   "cell_type": "code",
   "execution_count": null,
   "metadata": {},
   "outputs": [],
   "source": [
    "weth_usdc_sim.show_swaps_and_mevs_daily_count_by_token(weth_usdc_suspicious_filtered_swaps_df, weth_usdc_possible_mevs_df, mevs_alter_axis=True)"
   ]
  },
  {
   "cell_type": "markdown",
   "metadata": {},
   "source": [
    "### Plotting ratio of MEV attacks to filtered swaps"
   ]
  },
  {
   "cell_type": "code",
   "execution_count": null,
   "metadata": {},
   "outputs": [],
   "source": [
    "weth_usdc_sim.show_mevs_to_swaps_ratio(weth_usdc_filtered_swaps_df, weth_usdc_mevs_df)"
   ]
  },
  {
   "cell_type": "code",
   "execution_count": null,
   "metadata": {},
   "outputs": [],
   "source": [
    "weth_usdc_sim.show_mevs_to_swaps_ratio(weth_usdc_suspicious_filtered_swaps_df, weth_usdc_possible_mevs_df)"
   ]
  },
  {
   "cell_type": "markdown",
   "metadata": {},
   "source": [
    "### Plotting ratio of MEVs and suspicious transactions to filtered swaps"
   ]
  },
  {
   "cell_type": "code",
   "execution_count": null,
   "metadata": {},
   "outputs": [],
   "source": [
    "weth_usdc_sim.show_mevs_to_reserves_ratio(weth_usdc_swaps_mitigation_off_df, weth_usdc_mevs_df, width=15, height=10)\n",
    "weth_usdc_sim.show_mevs_values_to_reserves_ratio(weth_usdc_swaps_mitigation_off_df, weth_usdc_mevs_df, width=15, height=10)"
   ]
  },
  {
   "cell_type": "code",
   "execution_count": null,
   "metadata": {},
   "outputs": [],
   "source": [
    "weth_usdc_sim.show_mevs_to_reserves_ratio(weth_usdc_swaps_mitigation_off_df.iloc[:1700000], weth_usdc_mevs_df, width=15, height=10)\n",
    "weth_usdc_sim.show_mevs_values_to_reserves_ratio(weth_usdc_swaps_mitigation_off_df.iloc[:1700000], weth_usdc_mevs_df, width=15, height=10)"
   ]
  },
  {
   "cell_type": "markdown",
   "metadata": {},
   "source": [
    "### Plotting transaction values distribution of passed swaps, blocked swaps and not enough reserves swaps"
   ]
  },
  {
   "cell_type": "code",
   "execution_count": null,
   "metadata": {},
   "outputs": [],
   "source": [
    "weth_usdc_sim.plot_transactions_by_type(weth_usdc_swaps_mitigation_on_df, ignore_success=False, width=15, height=7)"
   ]
  },
  {
   "cell_type": "markdown",
   "metadata": {},
   "source": [
    "### Plotting mitigation comparison, slice factor distribution, reserves distributions, cumulative prices distributions, transaction frequency distributions, price impact after each transaction distributions"
   ]
  },
  {
   "cell_type": "code",
   "execution_count": null,
   "metadata": {
    "scrolled": false
   },
   "outputs": [],
   "source": [
    "weth_usdc_sim.show_mitigation_comparison(weth_usdc_swaps_mitigation_off_df, weth_usdc_swaps_mitigation_on_df)\n",
    "weth_usdc_sim.px_hist_blocked_transactions_slice(weth_usdc_swaps_mitigation_on_df)\n",
    "weth_usdc_sim.px_hist_blocked_transactions_difference_from_oracle(weth_usdc_swaps_mitigation_on_df)\n",
    "weth_usdc_sim.plot_slice_distribution_and_diff_limit_line(weth_usdc_swaps_mitigation_on_df)\n",
    "weth_usdc_sim.plot_reserves_with_and_without_mitigation(weth_usdc_swaps_mitigation_off_df, weth_usdc_swaps_mitigation_on_df)\n",
    "weth_usdc_sim.plot_cumulative_prices_with_and_without_mitigation(weth_usdc_swaps_mitigation_off_df, weth_usdc_swaps_mitigation_off_df)\n",
    "weth_usdc_sim.plot_price_distribution(weth_usdc_swaps_mitigation_off_df, weth_usdc_swaps_mitigation_on_df, separate_plots=True)\n",
    "weth_usdc_sim.plot_frequency_distribution(weth_usdc_swaps_mitigation_on_df)\n",
    "weth_usdc_sim.plot_price_impact(weth_usdc_swaps_mitigation_off_df, weth_usdc_swaps_mitigation_on_df, \n",
    "                                smallest_y=weth_usdc_swaps_mitigation_off_df['price_diff'].min(), \n",
    "                                biggest_y=weth_usdc_swaps_mitigation_off_df['price_diff'].max())"
   ]
  },
  {
   "cell_type": "markdown",
   "metadata": {},
   "source": [
    "### MEVs blocked by mitigation mechanism"
   ]
  },
  {
   "cell_type": "code",
   "execution_count": null,
   "metadata": {},
   "outputs": [],
   "source": [
    "weth_usdc_blocked_df = weth_usdc_swaps_mitigation_on_df[weth_usdc_swaps_mitigation_on_df['status'] == 'BLOCKED_BY_VOLATILITY_MITIGATION']\n",
    "weth_usdc_blocked_mevs_df = pd.merge(weth_usdc_blocked_df, weth_usdc_mevs_df, on='txd')\n",
    "weth_usdc_blocked_mevs_df"
   ]
  },
  {
   "cell_type": "code",
   "execution_count": null,
   "metadata": {},
   "outputs": [],
   "source": [
    "weth_usdc_blocked_mevs_df['txd'][0]"
   ]
  },
  {
   "cell_type": "markdown",
   "metadata": {},
   "source": [
    "### Possible MEVs blocked by mitigation mechanism"
   ]
  },
  {
   "cell_type": "code",
   "execution_count": null,
   "metadata": {},
   "outputs": [],
   "source": [
    "weth_usdc_blocked_df = weth_usdc_swaps_mitigation_on_df[weth_usdc_swaps_mitigation_on_df['status'] == 'BLOCKED_BY_VOLATILITY_MITIGATION']\n",
    "weth_usdc_blocked_mevs_df = pd.merge(weth_usdc_blocked_df, weth_usdc_possible_mevs_df, on='txd')\n",
    "weth_usdc_blocked_mevs_df"
   ]
  },
  {
   "cell_type": "code",
   "execution_count": null,
   "metadata": {},
   "outputs": [],
   "source": [
    "weth_usdc_blocked_mevs_df['txd'][0]"
   ]
  },
  {
   "cell_type": "markdown",
   "metadata": {},
   "source": [
    "# WBTC/DAI pool"
   ]
  },
  {
   "cell_type": "code",
   "execution_count": null,
   "metadata": {},
   "outputs": [],
   "source": [
    "wbtc_dai_mints_mitigation_off_df"
   ]
  },
  {
   "cell_type": "code",
   "execution_count": null,
   "metadata": {},
   "outputs": [],
   "source": [
    "wbtc_dai_burns_mitigation_off_df"
   ]
  },
  {
   "cell_type": "code",
   "execution_count": null,
   "metadata": {},
   "outputs": [],
   "source": [
    "wbtc_dai_swaps_mitigation_off_df"
   ]
  },
  {
   "cell_type": "code",
   "execution_count": null,
   "metadata": {},
   "outputs": [],
   "source": [
    "plot_mints(wbtc_dai_mints_mitigation_on_df, wbtc_dai_mints_mitigation_off_df, pool_name='WBTC/DAI')"
   ]
  },
  {
   "cell_type": "markdown",
   "metadata": {},
   "source": [
    "## MEV transactions extraction and analysis\n",
    "\n",
    "### MEV attacks and possible MEVs extraction\n",
    "\n",
    "There are 136 MEV attacks performed on the pool and 8789 possible attacks"
   ]
  },
  {
   "cell_type": "code",
   "execution_count": null,
   "metadata": {},
   "outputs": [],
   "source": [
    "wbtc_dai_filtered_swaps_df, wbtc_dai_mevs_df = wbtc_dai_sim.extract_filtered_and_mevs_dfs()"
   ]
  },
  {
   "cell_type": "code",
   "execution_count": null,
   "metadata": {},
   "outputs": [],
   "source": [
    "wbtc_dai_suspicious_filtered_swaps_df, wbtc_dai_possible_mevs_df = wbtc_dai_sim.extract_suspicious_and_filtered_swaps_dfs()"
   ]
  },
  {
   "cell_type": "markdown",
   "metadata": {},
   "source": [
    "### Plotting values of MEVs and possible MEVs with filtered swaps values"
   ]
  },
  {
   "cell_type": "code",
   "execution_count": null,
   "metadata": {},
   "outputs": [],
   "source": [
    "wbtc_dai_sim.show_swaps_and_mevs_by_token(wbtc_dai_filtered_swaps_df, wbtc_dai_mevs_df, width=15, height=5)"
   ]
  },
  {
   "cell_type": "code",
   "execution_count": null,
   "metadata": {},
   "outputs": [],
   "source": [
    "wbtc_dai_sim.show_swaps_and_mevs_by_token(wbtc_dai_suspicious_filtered_swaps_df, wbtc_dai_possible_mevs_df, width=15, height=5)"
   ]
  },
  {
   "cell_type": "markdown",
   "metadata": {},
   "source": [
    "### Plotting MEV transactions and possible MEV transactions with filtered swaps daily count distributions"
   ]
  },
  {
   "cell_type": "code",
   "execution_count": null,
   "metadata": {},
   "outputs": [],
   "source": [
    "wbtc_dai_sim.show_swaps_and_mevs_daily_count_by_token(wbtc_dai_filtered_swaps_df, wbtc_dai_mevs_df, mevs_alter_axis=True)"
   ]
  },
  {
   "cell_type": "code",
   "execution_count": null,
   "metadata": {},
   "outputs": [],
   "source": [
    "wbtc_dai_sim.show_swaps_and_mevs_daily_count_by_token(wbtc_dai_suspicious_filtered_swaps_df, wbtc_dai_possible_mevs_df, mevs_alter_axis=True)"
   ]
  },
  {
   "cell_type": "markdown",
   "metadata": {},
   "source": [
    "### Plotting ratio of MEV attacks to filtered swaps"
   ]
  },
  {
   "cell_type": "code",
   "execution_count": null,
   "metadata": {},
   "outputs": [],
   "source": [
    "wbtc_dai_sim.show_mevs_to_swaps_ratio(wbtc_dai_filtered_swaps_df, wbtc_dai_mevs_df)"
   ]
  },
  {
   "cell_type": "code",
   "execution_count": null,
   "metadata": {},
   "outputs": [],
   "source": [
    "wbtc_dai_sim.show_mevs_to_swaps_ratio(wbtc_dai_suspicious_filtered_swaps_df, wbtc_dai_possible_mevs_df)"
   ]
  },
  {
   "cell_type": "markdown",
   "metadata": {},
   "source": [
    "### Plotting ratio of MEVs and suspicious transactions to filtered swaps"
   ]
  },
  {
   "cell_type": "code",
   "execution_count": null,
   "metadata": {},
   "outputs": [],
   "source": [
    "wbtc_dai_sim.show_mevs_to_reserves_ratio(wbtc_dai_swaps_mitigation_off_df, wbtc_dai_mevs_df, width=15, height=10)\n",
    "wbtc_dai_sim.show_mevs_values_to_reserves_ratio(wbtc_dai_swaps_mitigation_off_df, wbtc_dai_mevs_df, width=15, height=10)"
   ]
  },
  {
   "cell_type": "markdown",
   "metadata": {},
   "source": [
    "### Plotting transaction values distribution of passed swaps, blocked swaps and not enough reserves swaps"
   ]
  },
  {
   "cell_type": "code",
   "execution_count": null,
   "metadata": {},
   "outputs": [],
   "source": [
    "wbtc_dai_sim.plot_transactions_by_type(wbtc_dai_swaps_mitigation_on_df, ignore_success=False, width=15, height=7)"
   ]
  },
  {
   "cell_type": "markdown",
   "metadata": {},
   "source": [
    "### Plotting mitigation comparison, slice factor distribution, reserves distributions, cumulative prices distributions, transaction frequency distributions, price impact after each transaction distributions"
   ]
  },
  {
   "cell_type": "code",
   "execution_count": null,
   "metadata": {
    "scrolled": false
   },
   "outputs": [],
   "source": [
    "wbtc_dai_sim.show_mitigation_comparison(wbtc_dai_swaps_mitigation_off_df, wbtc_dai_swaps_mitigation_on_df)\n",
    "wbtc_dai_sim.px_hist_blocked_transactions_slice(wbtc_dai_swaps_mitigation_on_df)\n",
    "wbtc_dai_sim.px_hist_blocked_transactions_difference_from_oracle(wbtc_dai_swaps_mitigation_on_df)\n",
    "wbtc_dai_sim.plot_slice_distribution_and_diff_limit_line(wbtc_dai_swaps_mitigation_on_df)\n",
    "wbtc_dai_sim.plot_reserves_with_and_without_mitigation(wbtc_dai_swaps_mitigation_off_df, wbtc_dai_swaps_mitigation_on_df)\n",
    "wbtc_dai_sim.plot_cumulative_prices_with_and_without_mitigation(wbtc_dai_swaps_mitigation_off_df, wbtc_dai_swaps_mitigation_off_df)\n",
    "wbtc_dai_sim.plot_price_distribution(wbtc_dai_swaps_mitigation_off_df, wbtc_dai_swaps_mitigation_on_df, separate_plots=True)\n",
    "wbtc_dai_sim.plot_frequency_distribution(wbtc_dai_swaps_mitigation_on_df)\n",
    "wbtc_dai_sim.plot_price_impact(wbtc_dai_swaps_mitigation_off_df, wbtc_dai_swaps_mitigation_on_df, \n",
    "                                smallest_y=wbtc_dai_swaps_mitigation_off_df['price_diff'].min(), \n",
    "                                biggest_y=wbtc_dai_swaps_mitigation_off_df['price_diff'].max())"
   ]
  },
  {
   "cell_type": "code",
   "execution_count": null,
   "metadata": {},
   "outputs": [],
   "source": [
    "wbtc_dai_blocked_df = wbtc_dai_swaps_mitigation_on_df[wbtc_dai_swaps_mitigation_on_df['status'] == 'BLOCKED_BY_VOLATILITY_MITIGATION']\n",
    "wbtc_dai_blocked_mevs_df = pd.merge(wbtc_dai_blocked_df, wbtc_dai_mevs_df, on='txd')\n",
    "wbtc_dai_blocked_mevs_df"
   ]
  },
  {
   "cell_type": "markdown",
   "metadata": {},
   "source": [
    "# FEI/WETH pool"
   ]
  },
  {
   "cell_type": "code",
   "execution_count": null,
   "metadata": {},
   "outputs": [],
   "source": [
    "fei_weth_mints_mitigation_off_df"
   ]
  },
  {
   "cell_type": "code",
   "execution_count": null,
   "metadata": {},
   "outputs": [],
   "source": [
    "fei_weth_burns_mitigation_off_df"
   ]
  },
  {
   "cell_type": "code",
   "execution_count": null,
   "metadata": {},
   "outputs": [],
   "source": [
    "fei_weth_swaps_mitigation_off_df"
   ]
  },
  {
   "cell_type": "code",
   "execution_count": null,
   "metadata": {},
   "outputs": [],
   "source": [
    "plot_mints(fei_weth_mints_mitigation_on_df, fei_weth_mints_mitigation_off_df, pool_name='FEI/WETH')"
   ]
  },
  {
   "cell_type": "markdown",
   "metadata": {},
   "source": [
    "## MEV transactions extraction and analysis\n",
    "\n",
    "### MEV attacks and possible MEVs extraction\n",
    "\n",
    "There are 136 MEV attacks performed on the pool and 8789 possible attacks"
   ]
  },
  {
   "cell_type": "code",
   "execution_count": null,
   "metadata": {},
   "outputs": [],
   "source": [
    "fei_weth_filtered_swaps_df, fei_weth_mevs_df = fei_weth_sim.extract_filtered_and_mevs_dfs()"
   ]
  },
  {
   "cell_type": "code",
   "execution_count": null,
   "metadata": {},
   "outputs": [],
   "source": [
    "fei_weth_suspicious_filtered_swaps_df, fei_weth_possible_mevs_df = fei_weth_sim.extract_suspicious_and_filtered_swaps_dfs()"
   ]
  },
  {
   "cell_type": "markdown",
   "metadata": {},
   "source": [
    "### Plotting values of MEVs and possible MEVs with filtered swaps values"
   ]
  },
  {
   "cell_type": "code",
   "execution_count": null,
   "metadata": {},
   "outputs": [],
   "source": [
    "fei_weth_sim.show_swaps_and_mevs_by_token(fei_weth_filtered_swaps_df, fei_weth_mevs_df, width=15, height=5)"
   ]
  },
  {
   "cell_type": "code",
   "execution_count": null,
   "metadata": {},
   "outputs": [],
   "source": [
    "fei_weth_sim.show_swaps_and_mevs_by_token(fei_weth_suspicious_filtered_swaps_df, fei_weth_possible_mevs_df, width=15, height=5)"
   ]
  },
  {
   "cell_type": "markdown",
   "metadata": {},
   "source": [
    "### Plotting MEV transactions and possible MEV transactions with filtered swaps daily count distributions"
   ]
  },
  {
   "cell_type": "code",
   "execution_count": null,
   "metadata": {},
   "outputs": [],
   "source": [
    "fei_weth_sim.show_swaps_and_mevs_daily_count_by_token(fei_weth_filtered_swaps_df, fei_weth_mevs_df, mevs_alter_axis=True)"
   ]
  },
  {
   "cell_type": "code",
   "execution_count": null,
   "metadata": {},
   "outputs": [],
   "source": [
    "fei_weth_sim.show_swaps_and_mevs_daily_count_by_token(fei_weth_suspicious_filtered_swaps_df, fei_weth_possible_mevs_df, mevs_alter_axis=True)"
   ]
  },
  {
   "cell_type": "markdown",
   "metadata": {},
   "source": [
    "### Plotting ratio of MEV attacks to filtered swaps"
   ]
  },
  {
   "cell_type": "code",
   "execution_count": null,
   "metadata": {},
   "outputs": [],
   "source": [
    "fei_weth_sim.show_mevs_to_swaps_ratio(fei_weth_filtered_swaps_df, fei_weth_mevs_df)"
   ]
  },
  {
   "cell_type": "code",
   "execution_count": null,
   "metadata": {},
   "outputs": [],
   "source": [
    "fei_weth_sim.show_mevs_to_swaps_ratio(fei_weth_suspicious_filtered_swaps_df, fei_weth_possible_mevs_df)"
   ]
  },
  {
   "cell_type": "markdown",
   "metadata": {},
   "source": [
    "### Plotting ratio of MEVs and suspicious transactions to filtered swaps"
   ]
  },
  {
   "cell_type": "code",
   "execution_count": null,
   "metadata": {},
   "outputs": [],
   "source": [
    "fei_weth_sim.show_mevs_to_reserves_ratio(fei_weth_swaps_mitigation_off_df, fei_weth_mevs_df, width=15, height=10)\n",
    "fei_weth_sim.show_mevs_values_to_reserves_ratio(fei_weth_swaps_mitigation_off_df, fei_weth_mevs_df, width=15, height=10)"
   ]
  },
  {
   "cell_type": "markdown",
   "metadata": {},
   "source": [
    "### Plotting transaction values distribution of passed swaps, blocked swaps and not enough reserves swaps"
   ]
  },
  {
   "cell_type": "code",
   "execution_count": null,
   "metadata": {},
   "outputs": [],
   "source": [
    "fei_weth_sim.plot_transactions_by_type(fei_weth_swaps_mitigation_on_df, ignore_success=False, width=15, height=7)"
   ]
  },
  {
   "cell_type": "markdown",
   "metadata": {},
   "source": [
    "### Plotting mitigation comparison, slice factor distribution, reserves distributions, cumulative prices distributions, transaction frequency distributions, price impact after each transaction distributions"
   ]
  },
  {
   "cell_type": "code",
   "execution_count": null,
   "metadata": {
    "scrolled": false
   },
   "outputs": [],
   "source": [
    "fei_weth_sim.show_mitigation_comparison(fei_weth_swaps_mitigation_off_df, fei_weth_swaps_mitigation_on_df)\n",
    "fei_weth_sim.px_hist_blocked_transactions_slice(fei_weth_swaps_mitigation_on_df)\n",
    "fei_weth_sim.px_hist_blocked_transactions_difference_from_oracle(fei_weth_swaps_mitigation_on_df)\n",
    "fei_weth_sim.plot_slice_distribution_and_diff_limit_line(fei_weth_swaps_mitigation_on_df)\n",
    "fei_weth_sim.plot_reserves_with_and_without_mitigation(fei_weth_swaps_mitigation_off_df, fei_weth_swaps_mitigation_on_df)\n",
    "fei_weth_sim.plot_cumulative_prices_with_and_without_mitigation(fei_weth_swaps_mitigation_off_df, fei_weth_swaps_mitigation_off_df, make_big_num_convert=True)\n",
    "fei_weth_sim.plot_price_distribution(fei_weth_swaps_mitigation_off_df, fei_weth_swaps_mitigation_on_df, separate_plots=True)\n",
    "fei_weth_sim.plot_frequency_distribution(fei_weth_swaps_mitigation_on_df)\n",
    "fei_weth_sim.plot_price_impact(fei_weth_swaps_mitigation_off_df, fei_weth_swaps_mitigation_on_df, \n",
    "                                smallest_y=fei_weth_swaps_mitigation_off_df['price_diff'].min(), \n",
    "                                biggest_y=fei_weth_swaps_mitigation_off_df['price_diff'].max())"
   ]
  },
  {
   "cell_type": "code",
   "execution_count": null,
   "metadata": {},
   "outputs": [],
   "source": [
    "fei_weth_blocked_df = fei_weth_swaps_mitigation_on_df[fei_weth_swaps_mitigation_on_df['status'] == 'BLOCKED_BY_VOLATILITY_MITIGATION']\n",
    "fei_weth_blocked_mevs_df = pd.merge(fei_weth_blocked_df, fei_weth_mevs_df, on='txd')\n",
    "fei_weth_blocked_mevs_df"
   ]
  },
  {
   "cell_type": "markdown",
   "metadata": {},
   "source": [
    "# HKMT/USDT"
   ]
  },
  {
   "cell_type": "code",
   "execution_count": null,
   "metadata": {},
   "outputs": [],
   "source": [
    "hkmt_usdt_mints_mitigation_off_df"
   ]
  },
  {
   "cell_type": "code",
   "execution_count": null,
   "metadata": {},
   "outputs": [],
   "source": [
    "hkmt_usdt_burns_mitigation_off_df"
   ]
  },
  {
   "cell_type": "code",
   "execution_count": null,
   "metadata": {},
   "outputs": [],
   "source": [
    "hkmt_usdt_swaps_mitigation_off_df"
   ]
  },
  {
   "cell_type": "code",
   "execution_count": null,
   "metadata": {},
   "outputs": [],
   "source": [
    "plot_mints(hkmt_usdt_mints_mitigation_on_df, hkmt_usdt_mints_mitigation_off_df, pool_name='HKMT/USDT')"
   ]
  },
  {
   "cell_type": "markdown",
   "metadata": {},
   "source": [
    "## MEV transactions extraction and analysis\n",
    "\n",
    "### MEV attacks and possible MEVs extraction\n",
    "\n",
    "There are 136 MEV attacks performed on the pool and 8789 possible attacks"
   ]
  },
  {
   "cell_type": "code",
   "execution_count": null,
   "metadata": {},
   "outputs": [],
   "source": [
    "hkmt_usdt_filtered_swaps_df, hkmt_usdt_mevs_df = hkmt_usdt_sim.extract_filtered_and_mevs_dfs()"
   ]
  },
  {
   "cell_type": "code",
   "execution_count": null,
   "metadata": {},
   "outputs": [],
   "source": [
    "hkmt_usdt_suspicious_filtered_swaps_df, hkmt_usdt_possible_mevs_df = hkmt_usdt_sim.extract_suspicious_and_filtered_swaps_dfs()"
   ]
  },
  {
   "cell_type": "markdown",
   "metadata": {},
   "source": [
    "### Plotting values of MEVs and possible MEVs with filtered swaps values"
   ]
  },
  {
   "cell_type": "code",
   "execution_count": null,
   "metadata": {},
   "outputs": [],
   "source": [
    "hkmt_usdt_sim.show_swaps_and_mevs_by_token(hkmt_usdt_filtered_swaps_df, hkmt_usdt_mevs_df, width=15, height=5)"
   ]
  },
  {
   "cell_type": "code",
   "execution_count": null,
   "metadata": {},
   "outputs": [],
   "source": [
    "hkmt_usdt_sim.show_swaps_and_mevs_by_token(hkmt_usdt_suspicious_filtered_swaps_df, hkmt_usdt_possible_mevs_df, width=15, height=5)"
   ]
  },
  {
   "cell_type": "markdown",
   "metadata": {},
   "source": [
    "### Plotting MEV transactions and possible MEV transactions with filtered swaps daily count distributions"
   ]
  },
  {
   "cell_type": "code",
   "execution_count": null,
   "metadata": {},
   "outputs": [],
   "source": [
    "hkmt_usdt_sim.show_swaps_and_mevs_daily_count_by_token(hkmt_usdt_filtered_swaps_df, hkmt_usdt_mevs_df, mevs_alter_axis=True)"
   ]
  },
  {
   "cell_type": "code",
   "execution_count": null,
   "metadata": {},
   "outputs": [],
   "source": [
    "hkmt_usdt_sim.show_swaps_and_mevs_daily_count_by_token(hkmt_usdt_suspicious_filtered_swaps_df, hkmt_usdt_possible_mevs_df, mevs_alter_axis=True)"
   ]
  },
  {
   "cell_type": "markdown",
   "metadata": {},
   "source": [
    "### Plotting ratio of MEV attacks to filtered swaps"
   ]
  },
  {
   "cell_type": "code",
   "execution_count": null,
   "metadata": {},
   "outputs": [],
   "source": [
    "hkmt_usdt_sim.show_mevs_to_swaps_ratio(hkmt_usdt_filtered_swaps_df, hkmt_usdt_mevs_df)"
   ]
  },
  {
   "cell_type": "code",
   "execution_count": null,
   "metadata": {},
   "outputs": [],
   "source": [
    "hkmt_usdt_sim.show_mevs_to_swaps_ratio(hkmt_usdt_suspicious_filtered_swaps_df, hkmt_usdt_possible_mevs_df)"
   ]
  },
  {
   "cell_type": "markdown",
   "metadata": {},
   "source": [
    "### Plotting ratio of MEVs and suspicious transactions to filtered swaps"
   ]
  },
  {
   "cell_type": "code",
   "execution_count": null,
   "metadata": {},
   "outputs": [],
   "source": [
    "hkmt_usdt_sim.show_mevs_to_reserves_ratio(hkmt_usdt_swaps_mitigation_off_df, hkmt_usdt_mevs_df, width=15, height=10)\n",
    "hkmt_usdt_sim.show_mevs_values_to_reserves_ratio(hkmt_usdt_swaps_mitigation_off_df, hkmt_usdt_mevs_df, width=15, height=10)"
   ]
  },
  {
   "cell_type": "markdown",
   "metadata": {},
   "source": [
    "### Plotting transaction values distribution of passed swaps, blocked swaps and not enough reserves swaps"
   ]
  },
  {
   "cell_type": "code",
   "execution_count": null,
   "metadata": {},
   "outputs": [],
   "source": [
    "hkmt_usdt_sim.plot_transactions_by_type(hkmt_usdt_swaps_mitigation_on_df, ignore_success=False, width=15, height=7)"
   ]
  },
  {
   "cell_type": "markdown",
   "metadata": {},
   "source": [
    "### Plotting mitigation comparison, slice factor distribution, reserves distributions, cumulative prices distributions, transaction frequency distributions, price impact after each transaction distributions"
   ]
  },
  {
   "cell_type": "code",
   "execution_count": null,
   "metadata": {
    "scrolled": false
   },
   "outputs": [],
   "source": [
    "hkmt_usdt_sim.show_mitigation_comparison(hkmt_usdt_swaps_mitigation_off_df, hkmt_usdt_swaps_mitigation_on_df)\n",
    "hkmt_usdt_sim.px_hist_blocked_transactions_slice(hkmt_usdt_swaps_mitigation_on_df)\n",
    "hkmt_usdt_sim.px_hist_blocked_transactions_difference_from_oracle(hkmt_usdt_swaps_mitigation_on_df)\n",
    "hkmt_usdt_sim.plot_slice_distribution_and_diff_limit_line(hkmt_usdt_swaps_mitigation_on_df)\n",
    "hkmt_usdt_sim.plot_reserves_with_and_without_mitigation(hkmt_usdt_swaps_mitigation_off_df, hkmt_usdt_swaps_mitigation_on_df)\n",
    "hkmt_usdt_sim.plot_cumulative_prices_with_and_without_mitigation(hkmt_usdt_swaps_mitigation_off_df, hkmt_usdt_swaps_mitigation_off_df)\n",
    "hkmt_usdt_sim.plot_price_distribution(hkmt_usdt_swaps_mitigation_off_df, hkmt_usdt_swaps_mitigation_on_df, separate_plots=True)\n",
    "hkmt_usdt_sim.plot_frequency_distribution(hkmt_usdt_swaps_mitigation_on_df)\n",
    "hkmt_usdt_sim.plot_price_impact(hkmt_usdt_swaps_mitigation_off_df, hkmt_usdt_swaps_mitigation_on_df, \n",
    "                                smallest_y=hkmt_usdt_swaps_mitigation_off_df['price_diff'].min(), \n",
    "                                biggest_y=hkmt_usdt_swaps_mitigation_off_df['price_diff'].max())"
   ]
  },
  {
   "cell_type": "code",
   "execution_count": null,
   "metadata": {},
   "outputs": [],
   "source": [
    "hkmt_usdt_blocked_df = hkmt_usdt_swaps_mitigation_on_df[hkmt_usdt_swaps_mitigation_on_df['status'] == 'BLOCKED_BY_VOLATILITY_MITIGATION']\n",
    "hkmt_usdt_blocked_mevs_df = pd.merge(hkmt_usdt_blocked_df, hkmt_usdt_mevs_df, on='txd')\n",
    "hkmt_usdt_blocked_mevs_df"
   ]
  },
  {
   "cell_type": "markdown",
   "metadata": {},
   "source": [
    "# IXS/WETH\n",
    "\n",
    "There are around 68 200 transactions in the pool with 631 mints and 478 burns from May 2020 till November 2021, meaning large transaction history."
   ]
  },
  {
   "cell_type": "code",
   "execution_count": null,
   "metadata": {},
   "outputs": [],
   "source": [
    "ixs_weth_mints_mitigation_off_df"
   ]
  },
  {
   "cell_type": "code",
   "execution_count": null,
   "metadata": {},
   "outputs": [],
   "source": [
    "ixs_weth_burns_mitigation_off_df"
   ]
  },
  {
   "cell_type": "code",
   "execution_count": null,
   "metadata": {},
   "outputs": [],
   "source": [
    "ixs_weth_swaps_mitigation_off_df"
   ]
  },
  {
   "cell_type": "code",
   "execution_count": null,
   "metadata": {},
   "outputs": [],
   "source": [
    "plot_mints(ixs_weth_mints_mitigation_on_df, ixs_weth_mints_mitigation_off_df, pool_name='IXS/WETH')"
   ]
  },
  {
   "cell_type": "markdown",
   "metadata": {},
   "source": [
    "## MEV transactions extraction and analysis\n",
    "\n",
    "### MEV attacks and possible MEVs extraction\n",
    "\n",
    "There are 77 MEV attacks performed on the pool"
   ]
  },
  {
   "cell_type": "code",
   "execution_count": null,
   "metadata": {},
   "outputs": [],
   "source": [
    "ixs_weth_filtered_swaps_df, ixs_weth_mevs_df = ixs_weth_sim.extract_filtered_and_mevs_dfs()"
   ]
  },
  {
   "cell_type": "code",
   "execution_count": null,
   "metadata": {},
   "outputs": [],
   "source": [
    "ixs_weth_suspicious_filtered_swaps_df, ixs_weth_possible_mevs_df = ixs_weth_sim.extract_suspicious_and_filtered_swaps_dfs()"
   ]
  },
  {
   "cell_type": "markdown",
   "metadata": {},
   "source": [
    "### Plotting values of MEVs and possible MEVs with filtered swaps values"
   ]
  },
  {
   "cell_type": "code",
   "execution_count": null,
   "metadata": {},
   "outputs": [],
   "source": [
    "ixs_weth_sim.show_swaps_and_mevs_by_token(ixs_weth_filtered_swaps_df, ixs_weth_mevs_df, width=15, height=5)"
   ]
  },
  {
   "cell_type": "code",
   "execution_count": null,
   "metadata": {},
   "outputs": [],
   "source": [
    "ixs_weth_sim.show_swaps_and_mevs_by_token(ixs_weth_suspicious_filtered_swaps_df, ixs_weth_possible_mevs_df, width=15, height=5)"
   ]
  },
  {
   "cell_type": "markdown",
   "metadata": {},
   "source": [
    "### Plotting MEV transactions and possible MEV transactions with filtered swaps daily count distributions"
   ]
  },
  {
   "cell_type": "code",
   "execution_count": null,
   "metadata": {},
   "outputs": [],
   "source": [
    "ixs_weth_sim.show_swaps_and_mevs_daily_count_by_token(ixs_weth_filtered_swaps_df, ixs_weth_mevs_df, mevs_alter_axis=True)"
   ]
  },
  {
   "cell_type": "code",
   "execution_count": null,
   "metadata": {},
   "outputs": [],
   "source": [
    "ixs_weth_sim.show_swaps_and_mevs_daily_count_by_token(ixs_weth_suspicious_filtered_swaps_df, ixs_weth_possible_mevs_df, mevs_alter_axis=True)"
   ]
  },
  {
   "cell_type": "markdown",
   "metadata": {},
   "source": [
    "### Plotting ratio of MEV attacks to filtered swaps"
   ]
  },
  {
   "cell_type": "code",
   "execution_count": null,
   "metadata": {},
   "outputs": [],
   "source": [
    "ixs_weth_sim.show_mevs_to_swaps_ratio(ixs_weth_filtered_swaps_df, ixs_weth_mevs_df)"
   ]
  },
  {
   "cell_type": "code",
   "execution_count": null,
   "metadata": {},
   "outputs": [],
   "source": [
    "ixs_weth_sim.show_mevs_to_swaps_ratio(ixs_weth_suspicious_filtered_swaps_df, ixs_weth_possible_mevs_df)"
   ]
  },
  {
   "cell_type": "markdown",
   "metadata": {},
   "source": [
    "### Plotting ratio of MEVs and suspicious transactions to filtered swaps"
   ]
  },
  {
   "cell_type": "code",
   "execution_count": null,
   "metadata": {},
   "outputs": [],
   "source": [
    "ixs_weth_sim.show_mevs_to_reserves_ratio(ixs_weth_swaps_mitigation_off_df, ixs_weth_mevs_df, width=15, height=10)\n",
    "ixs_weth_sim.show_mevs_values_to_reserves_ratio(ixs_weth_swaps_mitigation_off_df, ixs_weth_mevs_df, width=15, height=10)"
   ]
  },
  {
   "cell_type": "markdown",
   "metadata": {},
   "source": [
    "### Plotting transaction values distribution of passed swaps, blocked swaps and not enough reserves swaps"
   ]
  },
  {
   "cell_type": "code",
   "execution_count": null,
   "metadata": {},
   "outputs": [],
   "source": [
    "ixs_weth_sim.plot_transactions_by_type(ixs_weth_swaps_mitigation_on_df, ignore_success=False, width=15, height=7)"
   ]
  },
  {
   "cell_type": "markdown",
   "metadata": {},
   "source": [
    "### Plotting mitigation comparison, slice factor distribution, reserves distributions, cumulative prices distributions, transaction frequency distributions, price impact after each transaction distributions"
   ]
  },
  {
   "cell_type": "code",
   "execution_count": null,
   "metadata": {
    "scrolled": false
   },
   "outputs": [],
   "source": [
    "ixs_weth_sim.show_mitigation_comparison(ixs_weth_swaps_mitigation_off_df, ixs_weth_swaps_mitigation_on_df)\n",
    "ixs_weth_sim.px_hist_blocked_transactions_slice(ixs_weth_swaps_mitigation_on_df)\n",
    "ixs_weth_sim.px_hist_blocked_transactions_difference_from_oracle(ixs_weth_swaps_mitigation_on_df)\n",
    "ixs_weth_sim.plot_slice_distribution_and_diff_limit_line(ixs_weth_swaps_mitigation_on_df)\n",
    "ixs_weth_sim.plot_reserves_with_and_without_mitigation(ixs_weth_swaps_mitigation_off_df, ixs_weth_swaps_mitigation_on_df)\n",
    "ixs_weth_sim.plot_cumulative_prices_with_and_without_mitigation(ixs_weth_swaps_mitigation_off_df, ixs_weth_swaps_mitigation_off_df)\n",
    "ixs_weth_sim.plot_price_distribution(ixs_weth_swaps_mitigation_off_df, ixs_weth_swaps_mitigation_on_df, separate_plots=True)\n",
    "ixs_weth_sim.plot_frequency_distribution(ixs_weth_swaps_mitigation_on_df)\n",
    "ixs_weth_sim.plot_price_impact(ixs_weth_swaps_mitigation_off_df, ixs_weth_swaps_mitigation_on_df, \n",
    "                                smallest_y=ixs_weth_swaps_mitigation_off_df['price_diff'].min(), \n",
    "                                biggest_y=ixs_weth_swaps_mitigation_off_df['price_diff'].max())"
   ]
  },
  {
   "cell_type": "code",
   "execution_count": null,
   "metadata": {},
   "outputs": [],
   "source": [
    "ixs_weth_blocked_df = ixs_weth_swaps_mitigation_on_df[ixs_weth_swaps_mitigation_on_df['status'] == 'BLOCKED_BY_VOLATILITY_MITIGATION']\n",
    "ixs_weth_blocked_mevs_df = pd.merge(ixs_weth_blocked_df, ixs_weth_mevs_df, on='txd')\n",
    "ixs_weth_blocked_mevs_df"
   ]
  },
  {
   "cell_type": "markdown",
   "metadata": {},
   "source": [
    "# AXS/WETH (NFT)"
   ]
  },
  {
   "cell_type": "code",
   "execution_count": null,
   "metadata": {},
   "outputs": [],
   "source": [
    "axs_weth_mints_mitigation_off_df"
   ]
  },
  {
   "cell_type": "code",
   "execution_count": null,
   "metadata": {},
   "outputs": [],
   "source": [
    "axs_weth_burns_mitigation_off_df"
   ]
  },
  {
   "cell_type": "code",
   "execution_count": null,
   "metadata": {},
   "outputs": [],
   "source": [
    "axs_weth_swaps_mitigation_off_df"
   ]
  },
  {
   "cell_type": "code",
   "execution_count": null,
   "metadata": {},
   "outputs": [],
   "source": [
    "plot_mints(axs_weth_mints_mitigation_on_df, axs_weth_mints_mitigation_off_df, pool_name='AXS/WETH')"
   ]
  },
  {
   "cell_type": "markdown",
   "metadata": {},
   "source": [
    "## MEV transactions extraction and analysis\n",
    "\n",
    "### MEV attacks and possible MEVs extraction\n",
    "\n",
    "There are 77 MEV attacks performed on the pool"
   ]
  },
  {
   "cell_type": "code",
   "execution_count": null,
   "metadata": {},
   "outputs": [],
   "source": [
    "axs_weth_filtered_swaps_df, axs_weth_mevs_df = axs_weth_sim.extract_filtered_and_mevs_dfs()"
   ]
  },
  {
   "cell_type": "code",
   "execution_count": null,
   "metadata": {},
   "outputs": [],
   "source": [
    "axs_weth_suspicious_filtered_swaps_df, axs_weth_possible_mevs_df = axs_weth_sim.extract_suspicious_and_filtered_swaps_dfs()"
   ]
  },
  {
   "cell_type": "markdown",
   "metadata": {},
   "source": [
    "### Plotting values of MEVs and possible MEVs with filtered swaps values"
   ]
  },
  {
   "cell_type": "code",
   "execution_count": null,
   "metadata": {},
   "outputs": [],
   "source": [
    "axs_weth_sim.show_swaps_and_mevs_by_token(axs_weth_filtered_swaps_df, axs_weth_mevs_df, width=15, height=5)"
   ]
  },
  {
   "cell_type": "code",
   "execution_count": null,
   "metadata": {},
   "outputs": [],
   "source": [
    "axs_weth_sim.show_swaps_and_mevs_by_token(axs_weth_suspicious_filtered_swaps_df, axs_weth_possible_mevs_df, width=15, height=5)"
   ]
  },
  {
   "cell_type": "markdown",
   "metadata": {},
   "source": [
    "### Plotting MEV transactions and possible MEV transactions with filtered swaps daily count distributions"
   ]
  },
  {
   "cell_type": "code",
   "execution_count": null,
   "metadata": {},
   "outputs": [],
   "source": [
    "axs_weth_sim.show_swaps_and_mevs_daily_count_by_token(axs_weth_filtered_swaps_df, axs_weth_mevs_df, mevs_alter_axis=True)"
   ]
  },
  {
   "cell_type": "code",
   "execution_count": null,
   "metadata": {},
   "outputs": [],
   "source": [
    "axs_weth_sim.show_swaps_and_mevs_daily_count_by_token(axs_weth_suspicious_filtered_swaps_df, axs_weth_possible_mevs_df, mevs_alter_axis=True)"
   ]
  },
  {
   "cell_type": "markdown",
   "metadata": {},
   "source": [
    "### Plotting ratio of MEV attacks to filtered swaps"
   ]
  },
  {
   "cell_type": "code",
   "execution_count": null,
   "metadata": {},
   "outputs": [],
   "source": [
    "axs_weth_sim.show_mevs_to_swaps_ratio(axs_weth_filtered_swaps_df, axs_weth_mevs_df)"
   ]
  },
  {
   "cell_type": "code",
   "execution_count": null,
   "metadata": {},
   "outputs": [],
   "source": [
    "axs_weth_sim.show_mevs_to_swaps_ratio(axs_weth_suspicious_filtered_swaps_df, axs_weth_possible_mevs_df)"
   ]
  },
  {
   "cell_type": "markdown",
   "metadata": {},
   "source": [
    "### Plotting ratio of MEVs and suspicious transactions to filtered swaps"
   ]
  },
  {
   "cell_type": "code",
   "execution_count": null,
   "metadata": {},
   "outputs": [],
   "source": [
    "axs_weth_sim.show_mevs_to_reserves_ratio(axs_weth_swaps_mitigation_off_df, axs_weth_mevs_df, width=15, height=10)\n",
    "axs_weth_sim.show_mevs_values_to_reserves_ratio(axs_weth_swaps_mitigation_off_df, axs_weth_mevs_df, width=15, height=10)"
   ]
  },
  {
   "cell_type": "markdown",
   "metadata": {},
   "source": [
    "### Plotting transaction values distribution of passed swaps, blocked swaps and not enough reserves swaps"
   ]
  },
  {
   "cell_type": "code",
   "execution_count": null,
   "metadata": {},
   "outputs": [],
   "source": [
    "axs_weth_sim.plot_transactions_by_type(axs_weth_swaps_mitigation_on_df, ignore_success=False, width=15, height=7)"
   ]
  },
  {
   "cell_type": "markdown",
   "metadata": {},
   "source": [
    "### Plotting mitigation comparison, slice factor distribution, reserves distributions, cumulative prices distributions, transaction frequency distributions, price impact after each transaction distributions"
   ]
  },
  {
   "cell_type": "code",
   "execution_count": null,
   "metadata": {
    "scrolled": false
   },
   "outputs": [],
   "source": [
    "axs_weth_sim.show_mitigation_comparison(axs_weth_swaps_mitigation_off_df, axs_weth_swaps_mitigation_on_df)\n",
    "axs_weth_sim.px_hist_blocked_transactions_slice(axs_weth_swaps_mitigation_on_df)\n",
    "axs_weth_sim.px_hist_blocked_transactions_difference_from_oracle(axs_weth_swaps_mitigation_on_df)\n",
    "axs_weth_sim.plot_slice_distribution_and_diff_limit_line(axs_weth_swaps_mitigation_on_df)\n",
    "axs_weth_sim.plot_reserves_with_and_without_mitigation(axs_weth_swaps_mitigation_off_df, axs_weth_swaps_mitigation_on_df)\n",
    "axs_weth_sim.plot_cumulative_prices_with_and_without_mitigation(axs_weth_swaps_mitigation_off_df, axs_weth_swaps_mitigation_off_df)\n",
    "axs_weth_sim.plot_price_distribution(axs_weth_swaps_mitigation_off_df, axs_weth_swaps_mitigation_on_df, separate_plots=True)\n",
    "axs_weth_sim.plot_frequency_distribution(axs_weth_swaps_mitigation_on_df)\n",
    "axs_weth_sim.plot_price_impact(axs_weth_swaps_mitigation_off_df, axs_weth_swaps_mitigation_on_df, \n",
    "                                smallest_y=axs_weth_swaps_mitigation_off_df['price_diff'].min(), \n",
    "                                biggest_y=axs_weth_swaps_mitigation_off_df['price_diff'].max())"
   ]
  },
  {
   "cell_type": "code",
   "execution_count": null,
   "metadata": {},
   "outputs": [],
   "source": [
    "axs_weth_blocked_df = axs_weth_swaps_mitigation_on_df[axs_weth_swaps_mitigation_on_df['status'] == 'BLOCKED_BY_VOLATILITY_MITIGATION']\n",
    "axs_weth_blocked_mevs_df = pd.merge(axs_weth_blocked_df, axs_weth_mevs_df, on='txd')\n",
    "axs_weth_blocked_mevs_df"
   ]
  },
  {
   "cell_type": "markdown",
   "metadata": {},
   "source": [
    "# MANA/WETH (NFT)"
   ]
  },
  {
   "cell_type": "code",
   "execution_count": null,
   "metadata": {},
   "outputs": [],
   "source": [
    "mana_weth_mints_mitigation_off_df"
   ]
  },
  {
   "cell_type": "code",
   "execution_count": null,
   "metadata": {},
   "outputs": [],
   "source": [
    "mana_weth_burns_mitigation_off_df"
   ]
  },
  {
   "cell_type": "code",
   "execution_count": null,
   "metadata": {},
   "outputs": [],
   "source": [
    "mana_weth_swaps_mitigation_off_df"
   ]
  },
  {
   "cell_type": "code",
   "execution_count": null,
   "metadata": {},
   "outputs": [],
   "source": [
    "plot_mints(mana_weth_mints_mitigation_on_df, mana_weth_mints_mitigation_off_df, pool_name='MANA/WETH')"
   ]
  },
  {
   "cell_type": "markdown",
   "metadata": {},
   "source": [
    "## MEV transactions extraction and analysis\n",
    "\n",
    "### MEV attacks and possible MEVs extraction\n",
    "\n",
    "There are 136 MEV attacks performed on the pool and 8789 possible attacks"
   ]
  },
  {
   "cell_type": "code",
   "execution_count": null,
   "metadata": {},
   "outputs": [],
   "source": [
    "mana_weth_filtered_swaps_df, mana_weth_mevs_df = mana_weth_sim.extract_filtered_and_mevs_dfs()"
   ]
  },
  {
   "cell_type": "code",
   "execution_count": null,
   "metadata": {},
   "outputs": [],
   "source": [
    "mana_weth_suspicious_filtered_swaps_df, mana_weth_possible_mevs_df = mana_weth_sim.extract_suspicious_and_filtered_swaps_dfs()"
   ]
  },
  {
   "cell_type": "markdown",
   "metadata": {},
   "source": [
    "### Plotting values of MEVs and possible MEVs with filtered swaps values"
   ]
  },
  {
   "cell_type": "code",
   "execution_count": null,
   "metadata": {},
   "outputs": [],
   "source": [
    "mana_weth_sim.show_swaps_and_mevs_by_token(mana_weth_filtered_swaps_df, mana_weth_mevs_df, width=15, height=5)"
   ]
  },
  {
   "cell_type": "code",
   "execution_count": null,
   "metadata": {},
   "outputs": [],
   "source": [
    "mana_weth_sim.show_swaps_and_mevs_by_token(mana_weth_suspicious_filtered_swaps_df, mana_weth_possible_mevs_df, width=15, height=5)"
   ]
  },
  {
   "cell_type": "markdown",
   "metadata": {},
   "source": [
    "### Plotting MEV transactions and possible MEV transactions with filtered swaps daily count distributions"
   ]
  },
  {
   "cell_type": "code",
   "execution_count": null,
   "metadata": {},
   "outputs": [],
   "source": [
    "mana_weth_sim.show_swaps_and_mevs_daily_count_by_token(mana_weth_filtered_swaps_df, mana_weth_mevs_df, mevs_alter_axis=True)"
   ]
  },
  {
   "cell_type": "code",
   "execution_count": null,
   "metadata": {},
   "outputs": [],
   "source": [
    "mana_weth_sim.show_swaps_and_mevs_daily_count_by_token(mana_weth_suspicious_filtered_swaps_df, mana_weth_possible_mevs_df, mevs_alter_axis=True)"
   ]
  },
  {
   "cell_type": "markdown",
   "metadata": {},
   "source": [
    "### Plotting ratio of MEV attacks to filtered swaps"
   ]
  },
  {
   "cell_type": "code",
   "execution_count": null,
   "metadata": {},
   "outputs": [],
   "source": [
    "mana_weth_sim.show_mevs_to_swaps_ratio(mana_weth_filtered_swaps_df, mana_weth_mevs_df)"
   ]
  },
  {
   "cell_type": "code",
   "execution_count": null,
   "metadata": {},
   "outputs": [],
   "source": [
    "mana_weth_sim.show_mevs_to_swaps_ratio(mana_weth_suspicious_filtered_swaps_df, mana_weth_possible_mevs_df)"
   ]
  },
  {
   "cell_type": "markdown",
   "metadata": {},
   "source": [
    "### Plotting ratio of MEVs and suspicious transactions to filtered swaps"
   ]
  },
  {
   "cell_type": "code",
   "execution_count": null,
   "metadata": {},
   "outputs": [],
   "source": [
    "mana_weth_sim.show_mevs_to_reserves_ratio(mana_weth_swaps_mitigation_off_df, mana_weth_mevs_df, width=15, height=10)\n",
    "mana_weth_sim.show_mevs_values_to_reserves_ratio(mana_weth_swaps_mitigation_off_df, mana_weth_mevs_df, width=15, height=10)"
   ]
  },
  {
   "cell_type": "markdown",
   "metadata": {},
   "source": [
    "### Plotting transaction values distribution of passed swaps, blocked swaps and not enough reserves swaps"
   ]
  },
  {
   "cell_type": "code",
   "execution_count": null,
   "metadata": {},
   "outputs": [],
   "source": [
    "mana_weth_sim.plot_transactions_by_type(mana_weth_swaps_mitigation_on_df, ignore_success=False, width=15, height=7)"
   ]
  },
  {
   "cell_type": "markdown",
   "metadata": {},
   "source": [
    "### Plotting mitigation comparison, slice factor distribution, reserves distributions, cumulative prices distributions, transaction frequency distributions, price impact after each transaction distributions"
   ]
  },
  {
   "cell_type": "code",
   "execution_count": null,
   "metadata": {
    "scrolled": false
   },
   "outputs": [],
   "source": [
    "mana_weth_sim.show_mitigation_comparison(mana_weth_swaps_mitigation_off_df, mana_weth_swaps_mitigation_on_df)\n",
    "mana_weth_sim.px_hist_blocked_transactions_slice(mana_weth_swaps_mitigation_on_df)\n",
    "mana_weth_sim.px_hist_blocked_transactions_difference_from_oracle(mana_weth_swaps_mitigation_on_df)\n",
    "mana_weth_sim.plot_slice_distribution_and_diff_limit_line(mana_weth_swaps_mitigation_on_df)\n",
    "mana_weth_sim.plot_reserves_with_and_without_mitigation(mana_weth_swaps_mitigation_off_df, mana_weth_swaps_mitigation_on_df)\n",
    "mana_weth_sim.plot_cumulative_prices_with_and_without_mitigation(mana_weth_swaps_mitigation_off_df, mana_weth_swaps_mitigation_off_df)\n",
    "mana_weth_sim.plot_price_distribution(mana_weth_swaps_mitigation_off_df, mana_weth_swaps_mitigation_on_df, separate_plots=True)\n",
    "mana_weth_sim.plot_frequency_distribution(mana_weth_swaps_mitigation_on_df)\n",
    "mana_weth_sim.plot_price_impact(mana_weth_swaps_mitigation_off_df, mana_weth_swaps_mitigation_on_df, \n",
    "                                smallest_y=mana_weth_swaps_mitigation_off_df['price_diff'].min(), \n",
    "                                biggest_y=mana_weth_swaps_mitigation_off_df['price_diff'].max())"
   ]
  },
  {
   "cell_type": "code",
   "execution_count": null,
   "metadata": {},
   "outputs": [],
   "source": [
    "mana_weth_blocked_df = mana_weth_swaps_mitigation_on_df[mana_weth_swaps_mitigation_on_df['status'] == 'BLOCKED_BY_VOLATILITY_MITIGATION']\n",
    "mana_weth_blocked_mevs_df = pd.merge(mana_weth_blocked_df, mana_weth_mevs_df, on='txd')\n",
    "mana_weth_blocked_mevs_df"
   ]
  },
  {
   "cell_type": "markdown",
   "metadata": {},
   "source": [
    "# ENJ/WETH (NFT)"
   ]
  },
  {
   "cell_type": "code",
   "execution_count": null,
   "metadata": {},
   "outputs": [],
   "source": [
    "enj_weth_mints_mitigation_off_df"
   ]
  },
  {
   "cell_type": "code",
   "execution_count": null,
   "metadata": {},
   "outputs": [],
   "source": [
    "enj_weth_burns_mitigation_off_df"
   ]
  },
  {
   "cell_type": "code",
   "execution_count": null,
   "metadata": {},
   "outputs": [],
   "source": [
    "enj_weth_swaps_mitigation_off_df"
   ]
  },
  {
   "cell_type": "code",
   "execution_count": null,
   "metadata": {},
   "outputs": [],
   "source": [
    "plot_mints(enj_weth_mints_mitigation_on_df, enj_weth_mints_mitigation_off_df, pool_name='ENJ/WETH')"
   ]
  },
  {
   "cell_type": "markdown",
   "metadata": {},
   "source": [
    "## MEV transactions extraction and analysis\n",
    "\n",
    "### MEV attacks and possible MEVs extraction\n",
    "\n",
    "There are 136 MEV attacks performed on the pool and 8789 possible attacks"
   ]
  },
  {
   "cell_type": "code",
   "execution_count": null,
   "metadata": {},
   "outputs": [],
   "source": [
    "enj_weth_filtered_swaps_df, enj_weth_mevs_df = enj_weth_sim.extract_filtered_and_mevs_dfs()"
   ]
  },
  {
   "cell_type": "code",
   "execution_count": null,
   "metadata": {},
   "outputs": [],
   "source": [
    "enj_weth_suspicious_filtered_swaps_df, enj_weth_possible_mevs_df = enj_weth_sim.extract_suspicious_and_filtered_swaps_dfs()"
   ]
  },
  {
   "cell_type": "markdown",
   "metadata": {},
   "source": [
    "### Plotting values of MEVs and possible MEVs with filtered swaps values"
   ]
  },
  {
   "cell_type": "code",
   "execution_count": null,
   "metadata": {},
   "outputs": [],
   "source": [
    "enj_weth_sim.show_swaps_and_mevs_by_token(enj_weth_filtered_swaps_df, enj_weth_mevs_df, width=15, height=5)"
   ]
  },
  {
   "cell_type": "code",
   "execution_count": null,
   "metadata": {},
   "outputs": [],
   "source": [
    "enj_weth_sim.show_swaps_and_mevs_by_token(enj_weth_suspicious_filtered_swaps_df, enj_weth_possible_mevs_df, width=15, height=5)"
   ]
  },
  {
   "cell_type": "markdown",
   "metadata": {},
   "source": [
    "### Plotting MEV transactions and possible MEV transactions with filtered swaps daily count distributions"
   ]
  },
  {
   "cell_type": "code",
   "execution_count": null,
   "metadata": {},
   "outputs": [],
   "source": [
    "enj_weth_sim.show_swaps_and_mevs_daily_count_by_token(enj_weth_filtered_swaps_df, enj_weth_mevs_df, mevs_alter_axis=True)"
   ]
  },
  {
   "cell_type": "code",
   "execution_count": null,
   "metadata": {},
   "outputs": [],
   "source": [
    "enj_weth_sim.show_swaps_and_mevs_daily_count_by_token(enj_weth_suspicious_filtered_swaps_df, enj_weth_possible_mevs_df, mevs_alter_axis=True)"
   ]
  },
  {
   "cell_type": "markdown",
   "metadata": {},
   "source": [
    "### Plotting ratio of MEV attacks to filtered swaps"
   ]
  },
  {
   "cell_type": "code",
   "execution_count": null,
   "metadata": {},
   "outputs": [],
   "source": [
    "enj_weth_sim.show_mevs_to_swaps_ratio(enj_weth_filtered_swaps_df, enj_weth_mevs_df)"
   ]
  },
  {
   "cell_type": "code",
   "execution_count": null,
   "metadata": {},
   "outputs": [],
   "source": [
    "enj_weth_sim.show_mevs_to_swaps_ratio(enj_weth_suspicious_filtered_swaps_df, enj_weth_possible_mevs_df)"
   ]
  },
  {
   "cell_type": "markdown",
   "metadata": {},
   "source": [
    "### Plotting ratio of MEVs and suspicious transactions to filtered swaps"
   ]
  },
  {
   "cell_type": "code",
   "execution_count": null,
   "metadata": {},
   "outputs": [],
   "source": [
    "enj_weth_sim.show_mevs_to_reserves_ratio(enj_weth_swaps_mitigation_off_df, enj_weth_mevs_df, width=15, height=10)\n",
    "enj_weth_sim.show_mevs_values_to_reserves_ratio(enj_weth_swaps_mitigation_off_df, enj_weth_mevs_df, width=15, height=10)"
   ]
  },
  {
   "cell_type": "markdown",
   "metadata": {},
   "source": [
    "### Plotting transaction values distribution of passed swaps, blocked swaps and not enough reserves swaps"
   ]
  },
  {
   "cell_type": "code",
   "execution_count": null,
   "metadata": {},
   "outputs": [],
   "source": [
    "enj_weth_sim.plot_transactions_by_type(enj_weth_swaps_mitigation_on_df, ignore_success=False, width=15, height=7)"
   ]
  },
  {
   "cell_type": "markdown",
   "metadata": {},
   "source": [
    "### Plotting mitigation comparison, slice factor distribution, reserves distributions, cumulative prices distributions, transaction frequency distributions, price impact after each transaction distributions"
   ]
  },
  {
   "cell_type": "code",
   "execution_count": null,
   "metadata": {
    "scrolled": false
   },
   "outputs": [],
   "source": [
    "enj_weth_sim.show_mitigation_comparison(enj_weth_swaps_mitigation_off_df, enj_weth_swaps_mitigation_on_df)\n",
    "enj_weth_sim.px_hist_blocked_transactions_slice(enj_weth_swaps_mitigation_on_df)\n",
    "enj_weth_sim.px_hist_blocked_transactions_difference_from_oracle(enj_weth_swaps_mitigation_on_df)\n",
    "enj_weth_sim.plot_slice_distribution_and_diff_limit_line(enj_weth_swaps_mitigation_on_df)\n",
    "enj_weth_sim.plot_reserves_with_and_without_mitigation(enj_weth_swaps_mitigation_off_df, enj_weth_swaps_mitigation_on_df)\n",
    "enj_weth_sim.plot_cumulative_prices_with_and_without_mitigation(enj_weth_swaps_mitigation_off_df, enj_weth_swaps_mitigation_off_df, make_big_num_convert=True)\n",
    "enj_weth_sim.plot_price_distribution(enj_weth_swaps_mitigation_off_df, enj_weth_swaps_mitigation_on_df, separate_plots=True)\n",
    "enj_weth_sim.plot_frequency_distribution(enj_weth_swaps_mitigation_on_df)\n",
    "enj_weth_sim.plot_price_impact(enj_weth_swaps_mitigation_off_df, enj_weth_swaps_mitigation_on_df, \n",
    "                                smallest_y=enj_weth_swaps_mitigation_off_df['price_diff'].min(), \n",
    "                                biggest_y=enj_weth_swaps_mitigation_off_df['price_diff'].max())"
   ]
  },
  {
   "cell_type": "code",
   "execution_count": null,
   "metadata": {},
   "outputs": [],
   "source": [
    "enj_weth_blocked_df = enj_weth_swaps_mitigation_on_df[enj_weth_swaps_mitigation_on_df['status'] == 'BLOCKED_BY_VOLATILITY_MITIGATION']\n",
    "enj_weth_blocked_mevs_df = pd.merge(enj_weth_blocked_df, enj_weth_mevs_df, on='txd')\n",
    "enj_weth_blocked_mevs_df"
   ]
  },
  {
   "cell_type": "markdown",
   "metadata": {},
   "source": [
    "# SAND/WETH (NFT)"
   ]
  },
  {
   "cell_type": "code",
   "execution_count": null,
   "metadata": {},
   "outputs": [],
   "source": [
    "sand_weth_mints_mitigation_off_df"
   ]
  },
  {
   "cell_type": "code",
   "execution_count": null,
   "metadata": {},
   "outputs": [],
   "source": [
    "sand_weth_burns_mitigation_off_df"
   ]
  },
  {
   "cell_type": "code",
   "execution_count": null,
   "metadata": {},
   "outputs": [],
   "source": [
    "sand_weth_swaps_mitigation_off_df"
   ]
  },
  {
   "cell_type": "code",
   "execution_count": null,
   "metadata": {},
   "outputs": [],
   "source": [
    "plot_mints(sand_weth_mints_mitigation_on_df, sand_weth_mints_mitigation_off_df, pool_name='SAND/WETH')"
   ]
  },
  {
   "cell_type": "markdown",
   "metadata": {},
   "source": [
    "## MEV transactions extraction and analysis\n",
    "\n",
    "### MEV attacks and possible MEVs extraction\n",
    "\n",
    "There are 77 MEV attacks performed on the pool"
   ]
  },
  {
   "cell_type": "code",
   "execution_count": null,
   "metadata": {},
   "outputs": [],
   "source": [
    "sand_weth_filtered_swaps_df, sand_weth_mevs_df = sand_weth_sim.extract_filtered_and_mevs_dfs()"
   ]
  },
  {
   "cell_type": "code",
   "execution_count": null,
   "metadata": {},
   "outputs": [],
   "source": [
    "sand_weth_suspicious_filtered_swaps_df, sand_weth_possible_mevs_df = sand_weth_sim.extract_suspicious_and_filtered_swaps_dfs()"
   ]
  },
  {
   "cell_type": "markdown",
   "metadata": {},
   "source": [
    "### Plotting values of MEVs and possible MEVs with filtered swaps values"
   ]
  },
  {
   "cell_type": "code",
   "execution_count": null,
   "metadata": {},
   "outputs": [],
   "source": [
    "sand_weth_sim.show_swaps_and_mevs_by_token(sand_weth_filtered_swaps_df, sand_weth_mevs_df, width=15, height=5)"
   ]
  },
  {
   "cell_type": "code",
   "execution_count": null,
   "metadata": {},
   "outputs": [],
   "source": [
    "sand_weth_sim.show_swaps_and_mevs_by_token(sand_weth_suspicious_filtered_swaps_df, sand_weth_possible_mevs_df, width=15, height=5)"
   ]
  },
  {
   "cell_type": "markdown",
   "metadata": {},
   "source": [
    "### Plotting MEV transactions and possible MEV transactions with filtered swaps daily count distributions"
   ]
  },
  {
   "cell_type": "code",
   "execution_count": null,
   "metadata": {},
   "outputs": [],
   "source": [
    "sand_weth_sim.show_swaps_and_mevs_daily_count_by_token(sand_weth_filtered_swaps_df, sand_weth_mevs_df, mevs_alter_axis=True)"
   ]
  },
  {
   "cell_type": "code",
   "execution_count": null,
   "metadata": {},
   "outputs": [],
   "source": [
    "sand_weth_sim.show_swaps_and_mevs_daily_count_by_token(sand_weth_suspicious_filtered_swaps_df, sand_weth_possible_mevs_df, mevs_alter_axis=True)"
   ]
  },
  {
   "cell_type": "markdown",
   "metadata": {},
   "source": [
    "### Plotting ratio of MEV attacks to filtered swaps"
   ]
  },
  {
   "cell_type": "code",
   "execution_count": null,
   "metadata": {},
   "outputs": [],
   "source": [
    "sand_weth_sim.show_mevs_to_swaps_ratio(sand_weth_filtered_swaps_df, sand_weth_mevs_df)"
   ]
  },
  {
   "cell_type": "code",
   "execution_count": null,
   "metadata": {},
   "outputs": [],
   "source": [
    "sand_weth_sim.show_mevs_to_swaps_ratio(sand_weth_suspicious_filtered_swaps_df, sand_weth_possible_mevs_df)"
   ]
  },
  {
   "cell_type": "markdown",
   "metadata": {},
   "source": [
    "### Plotting ratio of MEVs and suspicious transactions to filtered swaps"
   ]
  },
  {
   "cell_type": "code",
   "execution_count": null,
   "metadata": {},
   "outputs": [],
   "source": [
    "sand_weth_sim.show_mevs_to_reserves_ratio(sand_weth_swaps_mitigation_off_df, sand_weth_mevs_df, width=15, height=10)\n",
    "sand_weth_sim.show_mevs_values_to_reserves_ratio(sand_weth_swaps_mitigation_off_df, sand_weth_mevs_df, width=15, height=10)"
   ]
  },
  {
   "cell_type": "markdown",
   "metadata": {},
   "source": [
    "### Plotting transaction values distribution of passed swaps, blocked swaps and not enough reserves swaps"
   ]
  },
  {
   "cell_type": "code",
   "execution_count": null,
   "metadata": {},
   "outputs": [],
   "source": [
    "sand_weth_sim.plot_transactions_by_type(sand_weth_swaps_mitigation_on_df, ignore_success=False, width=15, height=7)"
   ]
  },
  {
   "cell_type": "markdown",
   "metadata": {},
   "source": [
    "### Plotting mitigation comparison, slice factor distribution, reserves distributions, cumulative prices distributions, transaction frequency distributions, price impact after each transaction distributions"
   ]
  },
  {
   "cell_type": "code",
   "execution_count": null,
   "metadata": {
    "scrolled": false
   },
   "outputs": [],
   "source": [
    "sand_weth_sim.show_mitigation_comparison(sand_weth_swaps_mitigation_off_df, sand_weth_swaps_mitigation_on_df)\n",
    "sand_weth_sim.px_hist_blocked_transactions_slice(sand_weth_swaps_mitigation_on_df)\n",
    "sand_weth_sim.px_hist_blocked_transactions_difference_from_oracle(sand_weth_swaps_mitigation_on_df)\n",
    "sand_weth_sim.plot_slice_distribution_and_diff_limit_line(sand_weth_swaps_mitigation_on_df)\n",
    "sand_weth_sim.plot_reserves_with_and_without_mitigation(sand_weth_swaps_mitigation_off_df, sand_weth_swaps_mitigation_on_df)\n",
    "sand_weth_sim.plot_cumulative_prices_with_and_without_mitigation(sand_weth_swaps_mitigation_off_df, sand_weth_swaps_mitigation_off_df, make_big_num_convert=True)\n",
    "sand_weth_sim.plot_price_distribution(sand_weth_swaps_mitigation_off_df, sand_weth_swaps_mitigation_on_df, separate_plots=True)\n",
    "sand_weth_sim.plot_frequency_distribution(sand_weth_swaps_mitigation_on_df)\n",
    "sand_weth_sim.plot_price_impact(sand_weth_swaps_mitigation_off_df, sand_weth_swaps_mitigation_on_df, \n",
    "                                smallest_y=sand_weth_swaps_mitigation_off_df['price_diff'].min(), \n",
    "                                biggest_y=sand_weth_swaps_mitigation_off_df['price_diff'].max())"
   ]
  },
  {
   "cell_type": "code",
   "execution_count": null,
   "metadata": {},
   "outputs": [],
   "source": [
    "sand_weth_blocked_df = sand_weth_swaps_mitigation_on_df[sand_weth_swaps_mitigation_on_df['status'] == 'BLOCKED_BY_VOLATILITY_MITIGATION']\n",
    "sand_weth_blocked_mevs_df = pd.merge(sand_weth_blocked_df, sand_weth_mevs_df, on='txd')\n",
    "sand_weth_blocked_mevs_df"
   ]
  },
  {
   "cell_type": "markdown",
   "metadata": {},
   "source": [
    "# ALICE/WETH (NFT)"
   ]
  },
  {
   "cell_type": "code",
   "execution_count": null,
   "metadata": {},
   "outputs": [],
   "source": [
    "alice_weth_mints_mitigation_off_df"
   ]
  },
  {
   "cell_type": "code",
   "execution_count": null,
   "metadata": {},
   "outputs": [],
   "source": [
    "alice_weth_burns_mitigation_off_df"
   ]
  },
  {
   "cell_type": "code",
   "execution_count": null,
   "metadata": {},
   "outputs": [],
   "source": [
    "alice_weth_swaps_mitigation_off_df"
   ]
  },
  {
   "cell_type": "code",
   "execution_count": null,
   "metadata": {},
   "outputs": [],
   "source": [
    "plot_mints(alice_weth_mints_mitigation_on_df, alice_weth_mints_mitigation_off_df, pool_name='ALICE/WETH')"
   ]
  },
  {
   "cell_type": "markdown",
   "metadata": {},
   "source": [
    "## MEV transactions extraction and analysis\n",
    "\n",
    "### MEV attacks and possible MEVs extraction\n",
    "\n",
    "There are 77 MEV attacks performed on the pool"
   ]
  },
  {
   "cell_type": "code",
   "execution_count": null,
   "metadata": {},
   "outputs": [],
   "source": [
    "alice_weth_filtered_swaps_df, alice_weth_mevs_df = alice_weth_sim.extract_filtered_and_mevs_dfs()"
   ]
  },
  {
   "cell_type": "code",
   "execution_count": null,
   "metadata": {},
   "outputs": [],
   "source": [
    "alice_weth_suspicious_filtered_swaps_df, alice_weth_possible_mevs_df = alice_weth_sim.extract_suspicious_and_filtered_swaps_dfs()"
   ]
  },
  {
   "cell_type": "markdown",
   "metadata": {},
   "source": [
    "### Plotting values of MEVs and possible MEVs with filtered swaps values"
   ]
  },
  {
   "cell_type": "code",
   "execution_count": null,
   "metadata": {},
   "outputs": [],
   "source": [
    "alice_weth_sim.show_swaps_and_mevs_by_token(alice_weth_filtered_swaps_df, alice_weth_mevs_df, width=15, height=5)"
   ]
  },
  {
   "cell_type": "code",
   "execution_count": null,
   "metadata": {},
   "outputs": [],
   "source": [
    "alice_weth_sim.show_swaps_and_mevs_by_token(alice_weth_suspicious_filtered_swaps_df, alice_weth_possible_mevs_df, width=15, height=5)"
   ]
  },
  {
   "cell_type": "markdown",
   "metadata": {},
   "source": [
    "### Plotting MEV transactions and possible MEV transactions with filtered swaps daily count distributions"
   ]
  },
  {
   "cell_type": "code",
   "execution_count": null,
   "metadata": {},
   "outputs": [],
   "source": [
    "alice_weth_sim.show_swaps_and_mevs_daily_count_by_token(alice_weth_filtered_swaps_df, alice_weth_mevs_df, mevs_alter_axis=True)"
   ]
  },
  {
   "cell_type": "code",
   "execution_count": null,
   "metadata": {},
   "outputs": [],
   "source": [
    "alice_weth_sim.show_swaps_and_mevs_daily_count_by_token(alice_weth_suspicious_filtered_swaps_df, alice_weth_possible_mevs_df, mevs_alter_axis=True)"
   ]
  },
  {
   "cell_type": "markdown",
   "metadata": {},
   "source": [
    "### Plotting ratio of MEV attacks to filtered swaps"
   ]
  },
  {
   "cell_type": "code",
   "execution_count": null,
   "metadata": {},
   "outputs": [],
   "source": [
    "alice_weth_sim.show_mevs_to_swaps_ratio(alice_weth_filtered_swaps_df, alice_weth_mevs_df)"
   ]
  },
  {
   "cell_type": "code",
   "execution_count": null,
   "metadata": {},
   "outputs": [],
   "source": [
    "alice_weth_sim.show_mevs_to_swaps_ratio(alice_weth_suspicious_filtered_swaps_df, alice_weth_possible_mevs_df)"
   ]
  },
  {
   "cell_type": "markdown",
   "metadata": {},
   "source": [
    "### Plotting ratio of MEVs and suspicious transactions to filtered swaps"
   ]
  },
  {
   "cell_type": "code",
   "execution_count": null,
   "metadata": {},
   "outputs": [],
   "source": [
    "alice_weth_sim.show_mevs_to_reserves_ratio(alice_weth_swaps_mitigation_off_df, alice_weth_mevs_df, width=15, height=10)\n",
    "alice_weth_sim.show_mevs_values_to_reserves_ratio(alice_weth_swaps_mitigation_off_df, alice_weth_mevs_df, width=15, height=10)"
   ]
  },
  {
   "cell_type": "markdown",
   "metadata": {},
   "source": [
    "### Plotting transaction values distribution of passed swaps, blocked swaps and not enough reserves swaps"
   ]
  },
  {
   "cell_type": "code",
   "execution_count": null,
   "metadata": {},
   "outputs": [],
   "source": [
    "alice_weth_sim.plot_transactions_by_type(alice_weth_swaps_mitigation_on_df, ignore_success=False, width=15, height=7)"
   ]
  },
  {
   "cell_type": "markdown",
   "metadata": {},
   "source": [
    "### Plotting mitigation comparison, slice factor distribution, reserves distributions, cumulative prices distributions, transaction frequency distributions, price impact after each transaction distributions"
   ]
  },
  {
   "cell_type": "code",
   "execution_count": null,
   "metadata": {},
   "outputs": [],
   "source": [
    "alice_weth_sim.show_mitigation_comparison(alice_weth_swaps_mitigation_off_df, alice_weth_swaps_mitigation_on_df)\n",
    "alice_weth_sim.px_hist_blocked_transactions_slice(alice_weth_swaps_mitigation_on_df)\n",
    "alice_weth_sim.px_hist_blocked_transactions_difference_from_oracle(alice_weth_swaps_mitigation_on_df)\n",
    "alice_weth_sim.plot_slice_distribution_and_diff_limit_line(alice_weth_swaps_mitigation_on_df)\n",
    "alice_weth_sim.plot_reserves_with_and_without_mitigation(alice_weth_swaps_mitigation_off_df, alice_weth_swaps_mitigation_on_df)\n",
    "alice_weth_sim.plot_cumulative_prices_with_and_without_mitigation(alice_weth_swaps_mitigation_off_df, alice_weth_swaps_mitigation_off_df)\n",
    "alice_weth_sim.plot_price_distribution(alice_weth_swaps_mitigation_off_df, alice_weth_swaps_mitigation_on_df, separate_plots=True)\n",
    "alice_weth_sim.plot_frequency_distribution(alice_weth_swaps_mitigation_on_df)\n",
    "alice_weth_sim.plot_price_impact(alice_weth_swaps_mitigation_off_df, alice_weth_swaps_mitigation_on_df, \n",
    "                                smallest_y=alice_weth_swaps_mitigation_off_df['price_diff'].min(), \n",
    "                                biggest_y=alice_weth_swaps_mitigation_off_df['price_diff'].max())"
   ]
  },
  {
   "cell_type": "code",
   "execution_count": null,
   "metadata": {},
   "outputs": [],
   "source": [
    "alice_weth_blocked_df = alice_weth_swaps_mitigation_on_df[alice_weth_swaps_mitigation_on_df['status'] == 'BLOCKED_BY_VOLATILITY_MITIGATION']\n",
    "alice_weth_blocked_mevs_df = pd.merge(alice_weth_blocked_df, alice_weth_mevs_df, on='txd')\n",
    "alice_weth_blocked_mevs_df"
   ]
  },
  {
   "cell_type": "markdown",
   "metadata": {},
   "source": [
    "# DOGE/WETH"
   ]
  },
  {
   "cell_type": "code",
   "execution_count": null,
   "metadata": {},
   "outputs": [],
   "source": [
    "doge_weth_mints_mitigation_off_df"
   ]
  },
  {
   "cell_type": "code",
   "execution_count": null,
   "metadata": {},
   "outputs": [],
   "source": [
    "doge_weth_burns_mitigation_off_df"
   ]
  },
  {
   "cell_type": "code",
   "execution_count": null,
   "metadata": {},
   "outputs": [],
   "source": [
    "doge_weth_swaps_mitigation_off_df"
   ]
  },
  {
   "cell_type": "code",
   "execution_count": null,
   "metadata": {},
   "outputs": [],
   "source": [
    "plot_mints(doge_weth_mints_mitigation_on_df, doge_weth_mints_mitigation_off_df, pool_name='DOGE/WETH')"
   ]
  },
  {
   "cell_type": "markdown",
   "metadata": {},
   "source": [
    "## MEV transactions extraction and analysis\n",
    "\n",
    "### MEV attacks and possible MEVs extraction\n",
    "\n",
    "There are 136 MEV attacks performed on the pool and 8789 possible attacks"
   ]
  },
  {
   "cell_type": "code",
   "execution_count": null,
   "metadata": {},
   "outputs": [],
   "source": [
    "doge_weth_filtered_swaps_df, doge_weth_mevs_df = doge_weth_sim.extract_filtered_and_mevs_dfs()"
   ]
  },
  {
   "cell_type": "code",
   "execution_count": null,
   "metadata": {},
   "outputs": [],
   "source": [
    "doge_weth_suspicious_filtered_swaps_df, doge_weth_possible_mevs_df = doge_weth_sim.extract_suspicious_and_filtered_swaps_dfs()"
   ]
  },
  {
   "cell_type": "markdown",
   "metadata": {},
   "source": [
    "### Plotting values of MEVs and possible MEVs with filtered swaps values"
   ]
  },
  {
   "cell_type": "code",
   "execution_count": null,
   "metadata": {},
   "outputs": [],
   "source": [
    "doge_weth_sim.show_swaps_and_mevs_by_token(doge_weth_filtered_swaps_df, doge_weth_mevs_df, width=15, height=5)"
   ]
  },
  {
   "cell_type": "code",
   "execution_count": null,
   "metadata": {},
   "outputs": [],
   "source": [
    "doge_weth_sim.show_swaps_and_mevs_by_token(doge_weth_suspicious_filtered_swaps_df, doge_weth_possible_mevs_df, width=15, height=5)"
   ]
  },
  {
   "cell_type": "markdown",
   "metadata": {},
   "source": [
    "### Plotting MEV transactions and possible MEV transactions with filtered swaps daily count distributions"
   ]
  },
  {
   "cell_type": "code",
   "execution_count": null,
   "metadata": {},
   "outputs": [],
   "source": [
    "doge_weth_sim.show_swaps_and_mevs_daily_count_by_token(doge_weth_filtered_swaps_df, doge_weth_mevs_df, mevs_alter_axis=True)"
   ]
  },
  {
   "cell_type": "code",
   "execution_count": null,
   "metadata": {},
   "outputs": [],
   "source": [
    "doge_weth_sim.show_swaps_and_mevs_daily_count_by_token(doge_weth_suspicious_filtered_swaps_df, doge_weth_possible_mevs_df, mevs_alter_axis=True)"
   ]
  },
  {
   "cell_type": "markdown",
   "metadata": {},
   "source": [
    "### Plotting ratio of MEV attacks to filtered swaps"
   ]
  },
  {
   "cell_type": "code",
   "execution_count": null,
   "metadata": {},
   "outputs": [],
   "source": [
    "doge_weth_sim.show_mevs_to_swaps_ratio(doge_weth_filtered_swaps_df, doge_weth_mevs_df)"
   ]
  },
  {
   "cell_type": "code",
   "execution_count": null,
   "metadata": {},
   "outputs": [],
   "source": [
    "doge_weth_sim.show_mevs_to_swaps_ratio(doge_weth_suspicious_filtered_swaps_df, doge_weth_possible_mevs_df)"
   ]
  },
  {
   "cell_type": "markdown",
   "metadata": {},
   "source": [
    "### Plotting ratio of MEVs and suspicious transactions to filtered swaps"
   ]
  },
  {
   "cell_type": "code",
   "execution_count": null,
   "metadata": {},
   "outputs": [],
   "source": [
    "doge_weth_sim.show_mevs_to_reserves_ratio(doge_weth_swaps_mitigation_off_df, doge_weth_mevs_df, width=15, height=10)\n",
    "doge_weth_sim.show_mevs_values_to_reserves_ratio(doge_weth_swaps_mitigation_off_df, doge_weth_mevs_df, width=15, height=10)"
   ]
  },
  {
   "cell_type": "markdown",
   "metadata": {},
   "source": [
    "### Plotting transaction values distribution of passed swaps, blocked swaps and not enough reserves swaps"
   ]
  },
  {
   "cell_type": "code",
   "execution_count": null,
   "metadata": {},
   "outputs": [],
   "source": [
    "doge_weth_sim.plot_transactions_by_type(doge_weth_swaps_mitigation_on_df, ignore_success=False, width=15, height=7)"
   ]
  },
  {
   "cell_type": "markdown",
   "metadata": {},
   "source": [
    "### Plotting mitigation comparison, slice factor distribution, reserves distributions, cumulative prices distributions, transaction frequency distributions, price impact after each transaction distributions"
   ]
  },
  {
   "cell_type": "code",
   "execution_count": null,
   "metadata": {},
   "outputs": [],
   "source": [
    "doge_weth_sim.show_mitigation_comparison(doge_weth_swaps_mitigation_off_df, doge_weth_swaps_mitigation_on_df)\n",
    "doge_weth_sim.px_hist_blocked_transactions_slice(doge_weth_swaps_mitigation_on_df)\n",
    "doge_weth_sim.px_hist_blocked_transactions_difference_from_oracle(doge_weth_swaps_mitigation_on_df)\n",
    "doge_weth_sim.plot_slice_distribution_and_diff_limit_line(doge_weth_swaps_mitigation_on_df)\n",
    "doge_weth_sim.plot_reserves_with_and_without_mitigation(doge_weth_swaps_mitigation_off_df, doge_weth_swaps_mitigation_on_df)\n",
    "doge_weth_sim.plot_cumulative_prices_with_and_without_mitigation(doge_weth_swaps_mitigation_off_df, doge_weth_swaps_mitigation_off_df)\n",
    "doge_weth_sim.plot_price_distribution(doge_weth_swaps_mitigation_off_df, doge_weth_swaps_mitigation_on_df, separate_plots=True)\n",
    "doge_weth_sim.plot_frequency_distribution(doge_weth_swaps_mitigation_on_df)\n",
    "doge_weth_sim.plot_price_impact(doge_weth_swaps_mitigation_off_df, doge_weth_swaps_mitigation_on_df, \n",
    "                                smallest_y=doge_weth_swaps_mitigation_off_df['price_diff'].min(), \n",
    "                                biggest_y=doge_weth_swaps_mitigation_off_df['price_diff'].max())"
   ]
  },
  {
   "cell_type": "markdown",
   "metadata": {},
   "source": [
    "### MEVs blocked by mitigation mechanism"
   ]
  },
  {
   "cell_type": "code",
   "execution_count": null,
   "metadata": {},
   "outputs": [],
   "source": [
    "doge_weth_blocked_df = doge_weth_swaps_mitigation_on_df[doge_weth_swaps_mitigation_on_df['status'] == 'BLOCKED_BY_VOLATILITY_MITIGATION']\n",
    "doge_weth_blocked_mevs_df = pd.merge(doge_weth_blocked_df, doge_weth_mevs_df, on='txd')\n",
    "doge_weth_blocked_mevs_df"
   ]
  },
  {
   "cell_type": "code",
   "execution_count": null,
   "metadata": {},
   "outputs": [],
   "source": [
    "doge_weth_blocked_df = doge_weth_swaps_mitigation_on_df[doge_weth_swaps_mitigation_on_df['status'] == 'BLOCKED_BY_VOLATILITY_MITIGATION']\n",
    "doge_weth_blocked_mevs_df = pd.merge(doge_weth_blocked_df, doge_weth_possible_mevs_df, on='txd')\n",
    "doge_weth_blocked_mevs_df"
   ]
  },
  {
   "cell_type": "markdown",
   "metadata": {},
   "source": [
    "# SHIB/WETH"
   ]
  },
  {
   "cell_type": "code",
   "execution_count": null,
   "metadata": {},
   "outputs": [],
   "source": [
    "shib_weth_mints_mitigation_off_df"
   ]
  },
  {
   "cell_type": "code",
   "execution_count": null,
   "metadata": {},
   "outputs": [],
   "source": [
    "shib_weth_burns_mitigation_off_df"
   ]
  },
  {
   "cell_type": "code",
   "execution_count": null,
   "metadata": {},
   "outputs": [],
   "source": [
    "shib_weth_swaps_mitigation_off_df"
   ]
  },
  {
   "cell_type": "code",
   "execution_count": null,
   "metadata": {},
   "outputs": [],
   "source": [
    "plot_mints(shib_weth_mints_mitigation_on_df, shib_weth_mints_mitigation_off_df, pool_name='SHIB/WETH')"
   ]
  },
  {
   "cell_type": "markdown",
   "metadata": {},
   "source": [
    "## MEV transactions extraction and analysis\n",
    "\n",
    "### MEV attacks and possible MEVs extraction\n",
    "\n",
    "There are 136 MEV attacks performed on the pool and 8789 possible attacks"
   ]
  },
  {
   "cell_type": "code",
   "execution_count": null,
   "metadata": {},
   "outputs": [],
   "source": [
    "shib_weth_filtered_swaps_df, shib_weth_mevs_df = shib_weth_sim.extract_filtered_and_mevs_dfs()"
   ]
  },
  {
   "cell_type": "code",
   "execution_count": null,
   "metadata": {},
   "outputs": [],
   "source": [
    "shib_weth_suspicious_filtered_swaps_df, shib_weth_possible_mevs_df = shib_weth_sim.extract_suspicious_and_filtered_swaps_dfs()"
   ]
  },
  {
   "cell_type": "markdown",
   "metadata": {},
   "source": [
    "### Plotting values of MEVs and possible MEVs with filtered swaps values"
   ]
  },
  {
   "cell_type": "code",
   "execution_count": null,
   "metadata": {},
   "outputs": [],
   "source": [
    "shib_weth_sim.show_swaps_and_mevs_by_token(shib_weth_filtered_swaps_df, shib_weth_mevs_df, width=15, height=5)"
   ]
  },
  {
   "cell_type": "code",
   "execution_count": null,
   "metadata": {},
   "outputs": [],
   "source": [
    "shib_weth_sim.show_swaps_and_mevs_by_token(shib_weth_suspicious_filtered_swaps_df, shib_weth_possible_mevs_df, width=15, height=5)"
   ]
  },
  {
   "cell_type": "markdown",
   "metadata": {},
   "source": [
    "### Plotting MEV transactions and possible MEV transactions with filtered swaps daily count distributions"
   ]
  },
  {
   "cell_type": "code",
   "execution_count": null,
   "metadata": {},
   "outputs": [],
   "source": [
    "shib_weth_sim.show_swaps_and_mevs_daily_count_by_token(shib_weth_filtered_swaps_df, shib_weth_mevs_df, mevs_alter_axis=True)"
   ]
  },
  {
   "cell_type": "code",
   "execution_count": null,
   "metadata": {},
   "outputs": [],
   "source": [
    "shib_weth_sim.show_swaps_and_mevs_daily_count_by_token(shib_weth_suspicious_filtered_swaps_df, shib_weth_possible_mevs_df, mevs_alter_axis=True)"
   ]
  },
  {
   "cell_type": "markdown",
   "metadata": {},
   "source": [
    "### Plotting ratio of MEV attacks to filtered swaps"
   ]
  },
  {
   "cell_type": "code",
   "execution_count": null,
   "metadata": {},
   "outputs": [],
   "source": [
    "shib_weth_sim.show_mevs_to_swaps_ratio(shib_weth_filtered_swaps_df, shib_weth_mevs_df)"
   ]
  },
  {
   "cell_type": "code",
   "execution_count": null,
   "metadata": {},
   "outputs": [],
   "source": [
    "shib_weth_sim.show_mevs_to_swaps_ratio(shib_weth_suspicious_filtered_swaps_df, shib_weth_possible_mevs_df)"
   ]
  },
  {
   "cell_type": "markdown",
   "metadata": {},
   "source": [
    "### Plotting ratio of MEVs and suspicious transactions to filtered swaps"
   ]
  },
  {
   "cell_type": "code",
   "execution_count": null,
   "metadata": {},
   "outputs": [],
   "source": [
    "shib_weth_sim.show_mevs_to_reserves_ratio(shib_weth_swaps_mitigation_off_df, shib_weth_mevs_df, width=15, height=10)\n",
    "shib_weth_sim.show_mevs_values_to_reserves_ratio(shib_weth_swaps_mitigation_off_df, shib_weth_mevs_df, width=15, height=10)"
   ]
  },
  {
   "cell_type": "markdown",
   "metadata": {},
   "source": [
    "### Plotting transaction values distribution of passed swaps, blocked swaps and not enough reserves swaps"
   ]
  },
  {
   "cell_type": "code",
   "execution_count": null,
   "metadata": {},
   "outputs": [],
   "source": [
    "shib_weth_sim.plot_transactions_by_type(shib_weth_swaps_mitigation_on_df, ignore_success=False, width=15, height=7)"
   ]
  },
  {
   "cell_type": "markdown",
   "metadata": {},
   "source": [
    "### Plotting mitigation comparison, slice factor distribution, reserves distributions, cumulative prices distributions, transaction frequency distributions, price impact after each transaction distributions"
   ]
  },
  {
   "cell_type": "code",
   "execution_count": null,
   "metadata": {},
   "outputs": [],
   "source": [
    "shib_weth_sim.show_mitigation_comparison(shib_weth_swaps_mitigation_off_df, shib_weth_swaps_mitigation_on_df)\n",
    "shib_weth_sim.px_hist_blocked_transactions_slice(shib_weth_swaps_mitigation_on_df)\n",
    "shib_weth_sim.px_hist_blocked_transactions_difference_from_oracle(shib_weth_swaps_mitigation_on_df)\n",
    "shib_weth_sim.plot_slice_distribution_and_diff_limit_line(shib_weth_swaps_mitigation_on_df)\n",
    "shib_weth_sim.plot_reserves_with_and_without_mitigation(shib_weth_swaps_mitigation_off_df, shib_weth_swaps_mitigation_on_df)\n",
    "shib_weth_sim.plot_cumulative_prices_with_and_without_mitigation(shib_weth_swaps_mitigation_off_df, shib_weth_swaps_mitigation_off_df, make_big_num_convert=True)\n",
    "shib_weth_sim.plot_price_distribution(shib_weth_swaps_mitigation_off_df, shib_weth_swaps_mitigation_on_df, separate_plots=True)\n",
    "shib_weth_sim.plot_frequency_distribution(shib_weth_swaps_mitigation_on_df)\n",
    "shib_weth_sim.plot_price_impact(shib_weth_swaps_mitigation_off_df, shib_weth_swaps_mitigation_on_df, \n",
    "                                smallest_y=shib_weth_swaps_mitigation_off_df['price_diff'].min(), \n",
    "                                biggest_y=shib_weth_swaps_mitigation_off_df['price_diff'].max())"
   ]
  },
  {
   "cell_type": "code",
   "execution_count": null,
   "metadata": {},
   "outputs": [],
   "source": [
    "shib_weth_blocked_df = shib_weth_swaps_mitigation_on_df[shib_weth_swaps_mitigation_on_df['status'] == 'BLOCKED_BY_VOLATILITY_MITIGATION']\n",
    "shib_weth_blocked_mevs_df = pd.merge(shib_weth_blocked_df, shib_weth_mevs_df, on='txd')\n",
    "shib_weth_blocked_mevs_df"
   ]
  },
  {
   "cell_type": "code",
   "execution_count": null,
   "metadata": {},
   "outputs": [],
   "source": [
    "shib_weth_blocked_df = shib_weth_swaps_mitigation_on_df[shib_weth_swaps_mitigation_on_df['status'] == 'BLOCKED_BY_VOLATILITY_MITIGATION']\n",
    "shib_weth_blocked_mevs_df = pd.merge(shib_weth_blocked_df, shib_weth_possible_mevs_df, on='txd')\n",
    "shib_weth_blocked_mevs_df"
   ]
  },
  {
   "cell_type": "markdown",
   "metadata": {},
   "source": [
    "# ELON/WETH"
   ]
  },
  {
   "cell_type": "code",
   "execution_count": null,
   "metadata": {},
   "outputs": [],
   "source": [
    "elon_weth_mints_mitigation_off_df"
   ]
  },
  {
   "cell_type": "code",
   "execution_count": null,
   "metadata": {},
   "outputs": [],
   "source": [
    "elon_weth_burns_mitigation_off_df"
   ]
  },
  {
   "cell_type": "code",
   "execution_count": null,
   "metadata": {},
   "outputs": [],
   "source": [
    "elon_weth_swaps_mitigation_off_df"
   ]
  },
  {
   "cell_type": "code",
   "execution_count": null,
   "metadata": {},
   "outputs": [],
   "source": [
    "plot_mints(elon_weth_mints_mitigation_on_df, elon_weth_mints_mitigation_off_df, pool_name='ELON/WETH')"
   ]
  },
  {
   "cell_type": "markdown",
   "metadata": {},
   "source": [
    "## MEV transactions extraction and analysis\n",
    "\n",
    "### MEV attacks and possible MEVs extraction\n",
    "\n",
    "There are 136 MEV attacks performed on the pool and 8789 possible attacks"
   ]
  },
  {
   "cell_type": "code",
   "execution_count": null,
   "metadata": {},
   "outputs": [],
   "source": [
    "elon_weth_filtered_swaps_df, elon_weth_mevs_df = elon_weth_sim.extract_filtered_and_mevs_dfs()"
   ]
  },
  {
   "cell_type": "code",
   "execution_count": null,
   "metadata": {},
   "outputs": [],
   "source": [
    "elon_weth_suspicious_filtered_swaps_df, elon_weth_possible_mevs_df = elon_weth_sim.extract_suspicious_and_filtered_swaps_dfs()"
   ]
  },
  {
   "cell_type": "markdown",
   "metadata": {},
   "source": [
    "### Plotting values of MEVs and possible MEVs with filtered swaps values"
   ]
  },
  {
   "cell_type": "code",
   "execution_count": null,
   "metadata": {},
   "outputs": [],
   "source": [
    "elon_weth_sim.show_swaps_and_mevs_by_token(elon_weth_filtered_swaps_df, elon_weth_mevs_df, width=15, height=5)"
   ]
  },
  {
   "cell_type": "code",
   "execution_count": null,
   "metadata": {},
   "outputs": [],
   "source": [
    "elon_weth_sim.show_swaps_and_mevs_by_token(elon_weth_suspicious_filtered_swaps_df, elon_weth_possible_mevs_df, width=15, height=5)"
   ]
  },
  {
   "cell_type": "markdown",
   "metadata": {},
   "source": [
    "### Plotting MEV transactions and possible MEV transactions with filtered swaps daily count distributions"
   ]
  },
  {
   "cell_type": "code",
   "execution_count": null,
   "metadata": {},
   "outputs": [],
   "source": [
    "elon_weth_sim.show_swaps_and_mevs_daily_count_by_token(elon_weth_filtered_swaps_df, elon_weth_mevs_df, mevs_alter_axis=True)"
   ]
  },
  {
   "cell_type": "code",
   "execution_count": null,
   "metadata": {},
   "outputs": [],
   "source": [
    "elon_weth_sim.show_swaps_and_mevs_daily_count_by_token(elon_weth_suspicious_filtered_swaps_df, elon_weth_possible_mevs_df, mevs_alter_axis=True)"
   ]
  },
  {
   "cell_type": "markdown",
   "metadata": {},
   "source": [
    "### Plotting ratio of MEV attacks to filtered swaps"
   ]
  },
  {
   "cell_type": "code",
   "execution_count": null,
   "metadata": {},
   "outputs": [],
   "source": [
    "elon_weth_sim.show_mevs_to_swaps_ratio(elon_weth_filtered_swaps_df, elon_weth_mevs_df)"
   ]
  },
  {
   "cell_type": "code",
   "execution_count": null,
   "metadata": {},
   "outputs": [],
   "source": [
    "elon_weth_sim.show_mevs_to_swaps_ratio(elon_weth_suspicious_filtered_swaps_df, elon_weth_possible_mevs_df)"
   ]
  },
  {
   "cell_type": "markdown",
   "metadata": {},
   "source": [
    "### Plotting ratio of MEVs and suspicious transactions to filtered swaps"
   ]
  },
  {
   "cell_type": "code",
   "execution_count": null,
   "metadata": {},
   "outputs": [],
   "source": [
    "elon_weth_sim.show_mevs_to_reserves_ratio(elon_weth_swaps_mitigation_off_df, elon_weth_mevs_df, width=15, height=10)\n",
    "elon_weth_sim.show_mevs_values_to_reserves_ratio(elon_weth_swaps_mitigation_off_df, elon_weth_mevs_df, width=15, height=10)"
   ]
  },
  {
   "cell_type": "markdown",
   "metadata": {},
   "source": [
    "### Plotting transaction values distribution of passed swaps, blocked swaps and not enough reserves swaps"
   ]
  },
  {
   "cell_type": "code",
   "execution_count": null,
   "metadata": {},
   "outputs": [],
   "source": [
    "elon_weth_sim.plot_transactions_by_type(elon_weth_swaps_mitigation_on_df, ignore_success=False, width=15, height=7)"
   ]
  },
  {
   "cell_type": "markdown",
   "metadata": {},
   "source": [
    "### Plotting mitigation comparison, slice factor distribution, reserves distributions, cumulative prices distributions, transaction frequency distributions, price impact after each transaction distributions"
   ]
  },
  {
   "cell_type": "code",
   "execution_count": null,
   "metadata": {},
   "outputs": [],
   "source": [
    "elon_weth_sim.show_mitigation_comparison(elon_weth_swaps_mitigation_off_df, elon_weth_swaps_mitigation_on_df)\n",
    "elon_weth_sim.px_hist_blocked_transactions_slice(elon_weth_swaps_mitigation_on_df)\n",
    "elon_weth_sim.px_hist_blocked_transactions_difference_from_oracle(elon_weth_swaps_mitigation_on_df)\n",
    "elon_weth_sim.plot_slice_distribution_and_diff_limit_line(elon_weth_swaps_mitigation_on_df)\n",
    "elon_weth_sim.plot_reserves_with_and_without_mitigation(elon_weth_swaps_mitigation_off_df, elon_weth_swaps_mitigation_on_df)\n",
    "elon_weth_sim.plot_cumulative_prices_with_and_without_mitigation(elon_weth_swaps_mitigation_off_df, elon_weth_swaps_mitigation_off_df, make_big_num_convert=True)\n",
    "elon_weth_sim.plot_price_distribution(elon_weth_swaps_mitigation_off_df, elon_weth_swaps_mitigation_on_df, separate_plots=True)\n",
    "elon_weth_sim.plot_frequency_distribution(elon_weth_swaps_mitigation_on_df)\n",
    "elon_weth_sim.plot_price_impact(elon_weth_swaps_mitigation_off_df, elon_weth_swaps_mitigation_on_df, \n",
    "                                smallest_y=elon_weth_swaps_mitigation_off_df['price_diff'].min(), \n",
    "                                biggest_y=elon_weth_swaps_mitigation_off_df['price_diff'].max())"
   ]
  },
  {
   "cell_type": "code",
   "execution_count": null,
   "metadata": {},
   "outputs": [],
   "source": [
    "elon_weth_blocked_df = elon_weth_swaps_mitigation_on_df[elon_weth_swaps_mitigation_on_df['status'] == 'BLOCKED_BY_VOLATILITY_MITIGATION']\n",
    "elon_weth_blocked_mevs_df = pd.merge(elon_weth_blocked_df, elon_weth_mevs_df, on='txd')\n",
    "elon_weth_blocked_mevs_df"
   ]
  },
  {
   "cell_type": "code",
   "execution_count": null,
   "metadata": {},
   "outputs": [],
   "source": [
    "elon_weth_blocked_df = elon_weth_swaps_mitigation_on_df[elon_weth_swaps_mitigation_on_df['status'] == 'BLOCKED_BY_VOLATILITY_MITIGATION']\n",
    "elon_weth_blocked_mevs_df = pd.merge(elon_weth_blocked_df, elon_weth_possible_mevs_df, on='txd')\n",
    "elon_weth_blocked_mevs_df"
   ]
  },
  {
   "cell_type": "markdown",
   "metadata": {},
   "source": [
    "# SQUID/WETH"
   ]
  },
  {
   "cell_type": "code",
   "execution_count": null,
   "metadata": {},
   "outputs": [],
   "source": [
    "squid_weth_mints_mitigation_off_df"
   ]
  },
  {
   "cell_type": "code",
   "execution_count": null,
   "metadata": {},
   "outputs": [],
   "source": [
    "squid_weth_burns_mitigation_off_df"
   ]
  },
  {
   "cell_type": "code",
   "execution_count": null,
   "metadata": {},
   "outputs": [],
   "source": [
    "squid_weth_swaps_mitigation_off_df"
   ]
  },
  {
   "cell_type": "code",
   "execution_count": null,
   "metadata": {},
   "outputs": [],
   "source": [
    "plot_mints(squid_weth_mints_mitigation_on_df, squid_weth_mints_mitigation_off_df, pool_name='SQUID/WETH')"
   ]
  },
  {
   "cell_type": "markdown",
   "metadata": {},
   "source": [
    "## MEV transactions extraction and analysis\n",
    "\n",
    "### MEV attacks and possible MEVs extraction\n",
    "\n",
    "There are 136 MEV attacks performed on the pool and 8789 possible attacks"
   ]
  },
  {
   "cell_type": "code",
   "execution_count": null,
   "metadata": {},
   "outputs": [],
   "source": [
    "squid_weth_filtered_swaps_df, squid_weth_mevs_df = squid_weth_sim.extract_filtered_and_mevs_dfs()"
   ]
  },
  {
   "cell_type": "code",
   "execution_count": null,
   "metadata": {},
   "outputs": [],
   "source": [
    "squid_weth_suspicious_filtered_swaps_df, squid_weth_possible_mevs_df = squid_weth_sim.extract_suspicious_and_filtered_swaps_dfs()"
   ]
  },
  {
   "cell_type": "markdown",
   "metadata": {},
   "source": [
    "### Plotting transaction values distribution of passed swaps, blocked swaps and not enough reserves swaps"
   ]
  },
  {
   "cell_type": "code",
   "execution_count": null,
   "metadata": {},
   "outputs": [],
   "source": [
    "squid_weth_sim.plot_transactions_by_type(squid_weth_swaps_mitigation_on_df, ignore_success=False, width=15, height=7)"
   ]
  },
  {
   "cell_type": "markdown",
   "metadata": {},
   "source": [
    "### Plotting mitigation comparison, slice factor distribution, reserves distributions, cumulative prices distributions, transaction frequency distributions, price impact after each transaction distributions"
   ]
  },
  {
   "cell_type": "code",
   "execution_count": null,
   "metadata": {},
   "outputs": [],
   "source": [
    "squid_weth_sim.show_mitigation_comparison(squid_weth_swaps_mitigation_off_df, squid_weth_swaps_mitigation_on_df)\n",
    "squid_weth_sim.px_hist_blocked_transactions_slice(squid_weth_swaps_mitigation_on_df)\n",
    "squid_weth_sim.px_hist_blocked_transactions_difference_from_oracle(squid_weth_swaps_mitigation_on_df)\n",
    "squid_weth_sim.plot_slice_distribution_and_diff_limit_line(squid_weth_swaps_mitigation_on_df)\n",
    "squid_weth_sim.plot_reserves_with_and_without_mitigation(squid_weth_swaps_mitigation_off_df, squid_weth_swaps_mitigation_on_df)\n",
    "squid_weth_sim.plot_cumulative_prices_with_and_without_mitigation(squid_weth_swaps_mitigation_off_df, squid_weth_swaps_mitigation_off_df, make_big_num_convert=True)\n",
    "squid_weth_sim.plot_price_distribution(squid_weth_swaps_mitigation_off_df, squid_weth_swaps_mitigation_on_df, separate_plots=True)\n",
    "squid_weth_sim.plot_frequency_distribution(squid_weth_swaps_mitigation_on_df)\n",
    "squid_weth_sim.plot_price_impact(squid_weth_swaps_mitigation_off_df, squid_weth_swaps_mitigation_on_df, \n",
    "                                smallest_y=squid_weth_swaps_mitigation_off_df['price_diff'].min(), \n",
    "                                biggest_y=squid_weth_swaps_mitigation_off_df['price_diff'].max())\n"
   ]
  },
  {
   "cell_type": "markdown",
   "metadata": {},
   "source": [
    "# XAUt/WETH"
   ]
  },
  {
   "cell_type": "code",
   "execution_count": null,
   "metadata": {},
   "outputs": [],
   "source": [
    "xaut_weth_mints_mitigation_off_df"
   ]
  },
  {
   "cell_type": "code",
   "execution_count": null,
   "metadata": {},
   "outputs": [],
   "source": [
    "xaut_weth_burns_mitigation_off_df"
   ]
  },
  {
   "cell_type": "code",
   "execution_count": null,
   "metadata": {},
   "outputs": [],
   "source": [
    "xaut_weth_swaps_mitigation_off_df"
   ]
  },
  {
   "cell_type": "code",
   "execution_count": null,
   "metadata": {},
   "outputs": [],
   "source": [
    "plot_mints(xaut_weth_mints_mitigation_on_df, xaut_weth_mints_mitigation_off_df, pool_name='XAUt/DAI')"
   ]
  },
  {
   "cell_type": "markdown",
   "metadata": {},
   "source": [
    "## MEV transactions extraction and analysis\n",
    "\n",
    "### MEV attacks and possible MEVs extraction\n",
    "\n",
    "There are 136 MEV attacks performed on the pool and 8789 possible attacks"
   ]
  },
  {
   "cell_type": "code",
   "execution_count": null,
   "metadata": {},
   "outputs": [],
   "source": [
    "xaut_weth_filtered_swaps_df, xaut_weth_mevs_df = xaut_weth_sim.extract_filtered_and_mevs_dfs()"
   ]
  },
  {
   "cell_type": "code",
   "execution_count": null,
   "metadata": {},
   "outputs": [],
   "source": [
    "xaut_weth_suspicious_filtered_swaps_df, xaut_weth_possible_mevs_df = xaut_weth_sim.extract_suspicious_and_filtered_swaps_dfs()"
   ]
  },
  {
   "cell_type": "markdown",
   "metadata": {},
   "source": [
    "### Plotting mitigation comparison, slice factor distribution, reserves distributions, cumulative prices distributions, transaction frequency distributions, price impact after each transaction distributions"
   ]
  },
  {
   "cell_type": "code",
   "execution_count": null,
   "metadata": {},
   "outputs": [],
   "source": [
    "xaut_weth_sim.show_mitigation_comparison(xaut_weth_swaps_mitigation_off_df, xaut_weth_swaps_mitigation_on_df)\n",
    "xaut_weth_sim.px_hist_blocked_transactions_slice(xaut_weth_swaps_mitigation_on_df)\n",
    "xaut_weth_sim.px_hist_blocked_transactions_difference_from_oracle(xaut_weth_swaps_mitigation_on_df)\n",
    "xaut_weth_sim.plot_slice_distribution_and_diff_limit_line(xaut_weth_swaps_mitigation_on_df)\n",
    "xaut_weth_sim.plot_reserves_with_and_without_mitigation(xaut_weth_swaps_mitigation_off_df, xaut_weth_swaps_mitigation_on_df)\n",
    "xaut_weth_sim.plot_cumulative_prices_with_and_without_mitigation(xaut_weth_swaps_mitigation_off_df, xaut_weth_swaps_mitigation_off_df)\n",
    "xaut_weth_sim.plot_price_distribution(xaut_weth_swaps_mitigation_off_df, xaut_weth_swaps_mitigation_on_df, separate_plots=True)\n",
    "xaut_weth_sim.plot_frequency_distribution(xaut_weth_swaps_mitigation_on_df)\n",
    "xaut_weth_sim.plot_price_impact(xaut_weth_swaps_mitigation_off_df, xaut_weth_swaps_mitigation_on_df, \n",
    "                                smallest_y=xaut_weth_swaps_mitigation_off_df['price_diff'].min(), \n",
    "                                biggest_y=xaut_weth_swaps_mitigation_off_df['price_diff'].max())"
   ]
  },
  {
   "cell_type": "markdown",
   "metadata": {},
   "source": [
    "# UMA/FEI"
   ]
  },
  {
   "cell_type": "code",
   "execution_count": null,
   "metadata": {},
   "outputs": [],
   "source": [
    "uma_fei_mints_mitigation_off_df"
   ]
  },
  {
   "cell_type": "code",
   "execution_count": null,
   "metadata": {},
   "outputs": [],
   "source": [
    "uma_fei_burns_mitigation_off_df"
   ]
  },
  {
   "cell_type": "code",
   "execution_count": null,
   "metadata": {},
   "outputs": [],
   "source": [
    "uma_fei_swaps_mitigation_off_df"
   ]
  },
  {
   "cell_type": "code",
   "execution_count": null,
   "metadata": {},
   "outputs": [],
   "source": [
    "plot_mints(uma_fei_mints_mitigation_on_df, uma_fei_mints_mitigation_off_df, pool_name='UMA/FEI')"
   ]
  },
  {
   "cell_type": "markdown",
   "metadata": {},
   "source": [
    "## MEV transactions extraction and analysis\n",
    "\n",
    "### MEV attacks and possible MEVs extraction\n",
    "\n",
    "There are 136 MEV attacks performed on the pool and 8789 possible attacks"
   ]
  },
  {
   "cell_type": "code",
   "execution_count": null,
   "metadata": {},
   "outputs": [],
   "source": [
    "uma_fei_filtered_swaps_df, uma_fei_mevs_df = uma_fei_sim.extract_filtered_and_mevs_dfs()"
   ]
  },
  {
   "cell_type": "code",
   "execution_count": null,
   "metadata": {},
   "outputs": [],
   "source": [
    "uma_fei_suspicious_filtered_swaps_df, uma_fei_possible_mevs_df = uma_fei_sim.extract_suspicious_and_filtered_swaps_dfs()"
   ]
  },
  {
   "cell_type": "markdown",
   "metadata": {},
   "source": [
    "### Plotting mitigation comparison, slice factor distribution, reserves distributions, cumulative prices distributions, transaction frequency distributions, price impact after each transaction distributions"
   ]
  },
  {
   "cell_type": "code",
   "execution_count": null,
   "metadata": {},
   "outputs": [],
   "source": [
    "uma_fei_sim.show_mitigation_comparison(uma_fei_swaps_mitigation_off_df, uma_fei_swaps_mitigation_on_df)\n",
    "uma_fei_sim.px_hist_blocked_transactions_slice(uma_fei_swaps_mitigation_on_df)\n",
    "uma_fei_sim.px_hist_blocked_transactions_difference_from_oracle(uma_fei_swaps_mitigation_on_df)\n",
    "uma_fei_sim.plot_slice_distribution_and_diff_limit_line(uma_fei_swaps_mitigation_on_df)\n",
    "uma_fei_sim.plot_reserves_with_and_without_mitigation(uma_fei_swaps_mitigation_off_df, uma_fei_swaps_mitigation_on_df)\n",
    "uma_fei_sim.plot_cumulative_prices_with_and_without_mitigation(uma_fei_swaps_mitigation_off_df, uma_fei_swaps_mitigation_off_df)\n",
    "uma_fei_sim.plot_price_distribution(uma_fei_swaps_mitigation_off_df, uma_fei_swaps_mitigation_on_df, separate_plots=True)\n",
    "uma_fei_sim.plot_frequency_distribution(uma_fei_swaps_mitigation_on_df)\n",
    "uma_fei_sim.plot_price_impact(uma_fei_swaps_mitigation_off_df, uma_fei_swaps_mitigation_on_df, \n",
    "                                smallest_y=uma_fei_swaps_mitigation_off_df['price_diff'].min(), \n",
    "                                biggest_y=uma_fei_swaps_mitigation_off_df['price_diff'].max())"
   ]
  },
  {
   "cell_type": "markdown",
   "metadata": {},
   "source": [
    "# PERL/WETH"
   ]
  },
  {
   "cell_type": "code",
   "execution_count": null,
   "metadata": {},
   "outputs": [],
   "source": [
    "perl_weth_mints_mitigation_off_df"
   ]
  },
  {
   "cell_type": "code",
   "execution_count": null,
   "metadata": {},
   "outputs": [],
   "source": [
    "perl_weth_burns_mitigation_off_df"
   ]
  },
  {
   "cell_type": "code",
   "execution_count": null,
   "metadata": {},
   "outputs": [],
   "source": [
    "perl_weth_swaps_mitigation_off_df"
   ]
  },
  {
   "cell_type": "code",
   "execution_count": null,
   "metadata": {},
   "outputs": [],
   "source": [
    "plot_mints(perl_weth_mints_mitigation_on_df, perl_weth_mints_mitigation_off_df, pool_name='PERL/WETH')"
   ]
  },
  {
   "cell_type": "markdown",
   "metadata": {},
   "source": [
    "## MEV transactions extraction and analysis\n",
    "\n",
    "### MEV attacks and possible MEVs extraction\n",
    "\n",
    "There are 136 MEV attacks performed on the pool and 8789 possible attacks"
   ]
  },
  {
   "cell_type": "code",
   "execution_count": null,
   "metadata": {},
   "outputs": [],
   "source": [
    "perl_weth_filtered_swaps_df, perl_weth_mevs_df = perl_weth_sim.extract_filtered_and_mevs_dfs()"
   ]
  },
  {
   "cell_type": "code",
   "execution_count": null,
   "metadata": {},
   "outputs": [],
   "source": [
    "perl_weth_suspicious_filtered_swaps_df, perl_weth_possible_mevs_df = perl_weth_sim.extract_suspicious_and_filtered_swaps_dfs()"
   ]
  },
  {
   "cell_type": "markdown",
   "metadata": {},
   "source": [
    "### Plotting values of MEVs and possible MEVs with filtered swaps values"
   ]
  },
  {
   "cell_type": "code",
   "execution_count": null,
   "metadata": {},
   "outputs": [],
   "source": [
    "perl_weth_sim.show_swaps_and_mevs_by_token(perl_weth_filtered_swaps_df, perl_weth_mevs_df, width=15, height=5)"
   ]
  },
  {
   "cell_type": "code",
   "execution_count": null,
   "metadata": {},
   "outputs": [],
   "source": [
    "perl_weth_sim.show_swaps_and_mevs_by_token(perl_weth_suspicious_filtered_swaps_df, perl_weth_possible_mevs_df, width=15, height=5)"
   ]
  },
  {
   "cell_type": "markdown",
   "metadata": {},
   "source": [
    "### Plotting MEV transactions and possible MEV transactions with filtered swaps daily count distributions"
   ]
  },
  {
   "cell_type": "code",
   "execution_count": null,
   "metadata": {},
   "outputs": [],
   "source": [
    "perl_weth_sim.show_swaps_and_mevs_daily_count_by_token(perl_weth_filtered_swaps_df, perl_weth_mevs_df, mevs_alter_axis=True)"
   ]
  },
  {
   "cell_type": "code",
   "execution_count": null,
   "metadata": {},
   "outputs": [],
   "source": [
    "perl_weth_sim.show_swaps_and_mevs_daily_count_by_token(perl_weth_suspicious_filtered_swaps_df, perl_weth_possible_mevs_df, mevs_alter_axis=True)"
   ]
  },
  {
   "cell_type": "markdown",
   "metadata": {},
   "source": [
    "### Plotting ratio of MEV attacks to filtered swaps"
   ]
  },
  {
   "cell_type": "code",
   "execution_count": null,
   "metadata": {},
   "outputs": [],
   "source": [
    "perl_weth_sim.show_mevs_to_swaps_ratio(perl_weth_filtered_swaps_df, perl_weth_mevs_df)"
   ]
  },
  {
   "cell_type": "code",
   "execution_count": null,
   "metadata": {},
   "outputs": [],
   "source": [
    "perl_weth_sim.show_mevs_to_swaps_ratio(perl_weth_suspicious_filtered_swaps_df, perl_weth_possible_mevs_df)"
   ]
  },
  {
   "cell_type": "markdown",
   "metadata": {},
   "source": [
    "### Plotting ratio of MEVs and suspicious transactions to filtered swaps"
   ]
  },
  {
   "cell_type": "code",
   "execution_count": null,
   "metadata": {},
   "outputs": [],
   "source": [
    "perl_weth_sim.show_mevs_to_reserves_ratio(perl_weth_swaps_mitigation_off_df, perl_weth_mevs_df, width=15, height=10)\n",
    "perl_weth_sim.show_mevs_values_to_reserves_ratio(perl_weth_swaps_mitigation_off_df, perl_weth_mevs_df, width=15, height=10)"
   ]
  },
  {
   "cell_type": "markdown",
   "metadata": {},
   "source": [
    "### Plotting transaction values distribution of passed swaps, blocked swaps and not enough reserves swaps"
   ]
  },
  {
   "cell_type": "code",
   "execution_count": null,
   "metadata": {},
   "outputs": [],
   "source": [
    "perl_weth_sim.plot_transactions_by_type(perl_weth_swaps_mitigation_on_df, ignore_success=False, width=15, height=7)"
   ]
  },
  {
   "cell_type": "markdown",
   "metadata": {},
   "source": [
    "### Plotting mitigation comparison, slice factor distribution, reserves distributions, cumulative prices distributions, transaction frequency distributions, price impact after each transaction distributions"
   ]
  },
  {
   "cell_type": "code",
   "execution_count": null,
   "metadata": {},
   "outputs": [],
   "source": [
    "perl_weth_sim.show_mitigation_comparison(perl_weth_swaps_mitigation_off_df, perl_weth_swaps_mitigation_on_df)\n",
    "perl_weth_sim.px_hist_blocked_transactions_slice(perl_weth_swaps_mitigation_on_df)\n",
    "perl_weth_sim.px_hist_blocked_transactions_difference_from_oracle(perl_weth_swaps_mitigation_on_df)\n",
    "perl_weth_sim.plot_slice_distribution_and_diff_limit_line(perl_weth_swaps_mitigation_on_df)\n",
    "perl_weth_sim.plot_reserves_with_and_without_mitigation(perl_weth_swaps_mitigation_off_df, perl_weth_swaps_mitigation_on_df)\n",
    "perl_weth_sim.plot_cumulative_prices_with_and_without_mitigation(perl_weth_swaps_mitigation_off_df, perl_weth_swaps_mitigation_off_df, make_big_num_convert=True)\n",
    "perl_weth_sim.plot_price_distribution(perl_weth_swaps_mitigation_off_df, perl_weth_swaps_mitigation_on_df, separate_plots=True)\n",
    "perl_weth_sim.plot_frequency_distribution(perl_weth_swaps_mitigation_on_df)\n",
    "perl_weth_sim.plot_price_impact(perl_weth_swaps_mitigation_off_df, perl_weth_swaps_mitigation_on_df, \n",
    "                                smallest_y=perl_weth_swaps_mitigation_off_df['price_diff'].min(), \n",
    "                                biggest_y=perl_weth_swaps_mitigation_off_df['price_diff'].max())"
   ]
  },
  {
   "cell_type": "markdown",
   "metadata": {},
   "source": [
    "# BPT/WETH"
   ]
  },
  {
   "cell_type": "code",
   "execution_count": null,
   "metadata": {},
   "outputs": [],
   "source": [
    "bpt_weth_mints_mitigation_off_df"
   ]
  },
  {
   "cell_type": "code",
   "execution_count": null,
   "metadata": {},
   "outputs": [],
   "source": [
    "bpt_weth_burns_mitigation_off_df"
   ]
  },
  {
   "cell_type": "code",
   "execution_count": null,
   "metadata": {},
   "outputs": [],
   "source": [
    "bpt_weth_swaps_mitigation_off_df"
   ]
  },
  {
   "cell_type": "code",
   "execution_count": null,
   "metadata": {},
   "outputs": [],
   "source": [
    "plot_mints(bpt_weth_mints_mitigation_on_df, bpt_weth_mints_mitigation_off_df, pool_name='BPT/WETH')"
   ]
  },
  {
   "cell_type": "markdown",
   "metadata": {},
   "source": [
    "## MEV transactions extraction and analysis\n",
    "\n",
    "### MEV attacks and possible MEVs extraction\n",
    "\n",
    "There are 136 MEV attacks performed on the pool and 8789 possible attacks"
   ]
  },
  {
   "cell_type": "code",
   "execution_count": null,
   "metadata": {},
   "outputs": [],
   "source": [
    "bpt_weth_filtered_swaps_df, bpt_weth_mevs_df = bpt_weth_sim.extract_filtered_and_mevs_dfs()"
   ]
  },
  {
   "cell_type": "code",
   "execution_count": null,
   "metadata": {},
   "outputs": [],
   "source": [
    "bpt_weth_suspicious_filtered_swaps_df, bpt_weth_possible_mevs_df = bpt_weth_sim.extract_suspicious_and_filtered_swaps_dfs()"
   ]
  },
  {
   "cell_type": "markdown",
   "metadata": {},
   "source": [
    "### Plotting values of MEVs and possible MEVs with filtered swaps values"
   ]
  },
  {
   "cell_type": "code",
   "execution_count": null,
   "metadata": {},
   "outputs": [],
   "source": [
    "bpt_weth_sim.show_swaps_and_mevs_by_token(bpt_weth_filtered_swaps_df, bpt_weth_mevs_df, width=15, height=5)"
   ]
  },
  {
   "cell_type": "code",
   "execution_count": null,
   "metadata": {},
   "outputs": [],
   "source": [
    "bpt_weth_sim.show_swaps_and_mevs_by_token(bpt_weth_suspicious_filtered_swaps_df, bpt_weth_possible_mevs_df, width=15, height=5)"
   ]
  },
  {
   "cell_type": "markdown",
   "metadata": {},
   "source": [
    "### Plotting MEV transactions and possible MEV transactions with filtered swaps daily count distributions"
   ]
  },
  {
   "cell_type": "code",
   "execution_count": null,
   "metadata": {},
   "outputs": [],
   "source": [
    "bpt_weth_sim.show_swaps_and_mevs_daily_count_by_token(bpt_weth_filtered_swaps_df, bpt_weth_mevs_df, mevs_alter_axis=True)"
   ]
  },
  {
   "cell_type": "code",
   "execution_count": null,
   "metadata": {},
   "outputs": [],
   "source": [
    "bpt_weth_sim.show_swaps_and_mevs_daily_count_by_token(bpt_weth_suspicious_filtered_swaps_df, bpt_weth_possible_mevs_df, mevs_alter_axis=True)"
   ]
  },
  {
   "cell_type": "markdown",
   "metadata": {},
   "source": [
    "### Plotting ratio of MEV attacks to filtered swaps"
   ]
  },
  {
   "cell_type": "code",
   "execution_count": null,
   "metadata": {},
   "outputs": [],
   "source": [
    "bpt_weth_sim.show_mevs_to_swaps_ratio(bpt_weth_filtered_swaps_df, bpt_weth_mevs_df)"
   ]
  },
  {
   "cell_type": "code",
   "execution_count": null,
   "metadata": {},
   "outputs": [],
   "source": [
    "bpt_weth_sim.show_mevs_to_swaps_ratio(bpt_weth_suspicious_filtered_swaps_df, bpt_weth_possible_mevs_df)"
   ]
  },
  {
   "cell_type": "markdown",
   "metadata": {},
   "source": [
    "### Plotting ratio of MEVs and suspicious transactions to filtered swaps"
   ]
  },
  {
   "cell_type": "code",
   "execution_count": null,
   "metadata": {},
   "outputs": [],
   "source": [
    "bpt_weth_sim.show_mevs_to_reserves_ratio(bpt_weth_swaps_mitigation_off_df, bpt_weth_mevs_df, width=15, height=10)\n",
    "bpt_weth_sim.show_mevs_values_to_reserves_ratio(bpt_weth_swaps_mitigation_off_df, bpt_weth_mevs_df, width=15, height=10)"
   ]
  },
  {
   "cell_type": "markdown",
   "metadata": {},
   "source": [
    "### Plotting transaction values distribution of passed swaps, blocked swaps and not enough reserves swaps"
   ]
  },
  {
   "cell_type": "code",
   "execution_count": null,
   "metadata": {},
   "outputs": [],
   "source": [
    "bpt_weth_sim.plot_transactions_by_type(bpt_weth_swaps_mitigation_on_df, ignore_success=False, width=15, height=7)"
   ]
  },
  {
   "cell_type": "markdown",
   "metadata": {},
   "source": [
    "### Plotting mitigation comparison, slice factor distribution, reserves distributions, cumulative prices distributions, transaction frequency distributions, price impact after each transaction distributions"
   ]
  },
  {
   "cell_type": "code",
   "execution_count": null,
   "metadata": {},
   "outputs": [],
   "source": [
    "bpt_weth_sim.show_mitigation_comparison(bpt_weth_swaps_mitigation_off_df, bpt_weth_swaps_mitigation_on_df)\n",
    "bpt_weth_sim.px_hist_blocked_transactions_slice(bpt_weth_swaps_mitigation_on_df)\n",
    "bpt_weth_sim.px_hist_blocked_transactions_difference_from_oracle(bpt_weth_swaps_mitigation_on_df)\n",
    "bpt_weth_sim.plot_slice_distribution_and_diff_limit_line(bpt_weth_swaps_mitigation_on_df)\n",
    "bpt_weth_sim.plot_reserves_with_and_without_mitigation(bpt_weth_swaps_mitigation_off_df, bpt_weth_swaps_mitigation_on_df)\n",
    "bpt_weth_sim.plot_cumulative_prices_with_and_without_mitigation(bpt_weth_swaps_mitigation_off_df, bpt_weth_swaps_mitigation_off_df, make_big_num_convert=True)\n",
    "bpt_weth_sim.plot_price_distribution(bpt_weth_swaps_mitigation_off_df, bpt_weth_swaps_mitigation_on_df, separate_plots=True)\n",
    "bpt_weth_sim.plot_frequency_distribution(bpt_weth_swaps_mitigation_on_df)\n",
    "bpt_weth_sim.plot_price_impact(bpt_weth_swaps_mitigation_off_df, bpt_weth_swaps_mitigation_on_df, \n",
    "                                smallest_y=bpt_weth_swaps_mitigation_off_df['price_diff'].min(), \n",
    "                                biggest_y=bpt_weth_swaps_mitigation_off_df['price_diff'].max())"
   ]
  },
  {
   "cell_type": "code",
   "execution_count": null,
   "metadata": {},
   "outputs": [],
   "source": [
    "bpt_weth_blocked_df = bpt_weth_swaps_mitigation_on_df[bpt_weth_swaps_mitigation_on_df['status'] == 'BLOCKED_BY_VOLATILITY_MITIGATION']\n",
    "bpt_weth_blocked_mevs_df = pd.merge(bpt_weth_blocked_df, bpt_weth_mevs_df, on='txd')\n",
    "bpt_weth_blocked_mevs_df"
   ]
  },
  {
   "cell_type": "code",
   "execution_count": null,
   "metadata": {},
   "outputs": [],
   "source": [
    "bpt_weth_blocked_df = bpt_weth_swaps_mitigation_on_df[bpt_weth_swaps_mitigation_on_df['status'] == 'BLOCKED_BY_VOLATILITY_MITIGATION']\n",
    "bpt_weth_blocked_mevs_df = pd.merge(bpt_weth_blocked_df, bpt_weth_possible_mevs_df, on='txd')\n",
    "bpt_weth_blocked_mevs_df"
   ]
  },
  {
   "cell_type": "markdown",
   "metadata": {},
   "source": [
    "# uStonks_APR_21/USDC"
   ]
  },
  {
   "cell_type": "code",
   "execution_count": null,
   "metadata": {},
   "outputs": [],
   "source": [
    "ustonks_usdc_mints_mitigation_off_df"
   ]
  },
  {
   "cell_type": "code",
   "execution_count": null,
   "metadata": {},
   "outputs": [],
   "source": [
    "ustonks_usdc_burns_mitigation_off_df"
   ]
  },
  {
   "cell_type": "code",
   "execution_count": null,
   "metadata": {},
   "outputs": [],
   "source": [
    "ustonks_usdc_swaps_mitigation_off_df"
   ]
  },
  {
   "cell_type": "code",
   "execution_count": null,
   "metadata": {},
   "outputs": [],
   "source": [
    "plot_mints(ustonks_usdc_mints_mitigation_on_df, ustonks_usdc_mints_mitigation_off_df, pool_name='uSTONKS_APR_21/DAI')"
   ]
  },
  {
   "cell_type": "markdown",
   "metadata": {},
   "source": [
    "## MEV transactions extraction and analysis\n",
    "\n",
    "### MEV attacks and possible MEVs extraction\n",
    "\n",
    "There are 136 MEV attacks performed on the pool and 8789 possible attacks"
   ]
  },
  {
   "cell_type": "code",
   "execution_count": null,
   "metadata": {},
   "outputs": [],
   "source": [
    "ustonks_usdc_filtered_swaps_df, ustonks_usdc_mevs_df = ustonks_usdc_sim.extract_filtered_and_mevs_dfs()"
   ]
  },
  {
   "cell_type": "code",
   "execution_count": null,
   "metadata": {},
   "outputs": [],
   "source": [
    "ustonks_usdc_suspicious_filtered_swaps_df, ustonks_usdc_possible_mevs_df = ustonks_usdc_sim.extract_suspicious_and_filtered_swaps_dfs()"
   ]
  },
  {
   "cell_type": "markdown",
   "metadata": {},
   "source": [
    "### Plotting mitigation comparison, slice factor distribution, reserves distributions, cumulative prices distributions, transaction frequency distributions, price impact after each transaction distributions"
   ]
  },
  {
   "cell_type": "code",
   "execution_count": null,
   "metadata": {},
   "outputs": [],
   "source": [
    "ustonks_usdc_sim.show_mitigation_comparison(ustonks_usdc_swaps_mitigation_off_df, ustonks_usdc_swaps_mitigation_on_df)\n",
    "ustonks_usdc_sim.px_hist_blocked_transactions_slice(ustonks_usdc_swaps_mitigation_on_df)\n",
    "ustonks_usdc_sim.px_hist_blocked_transactions_difference_from_oracle(ustonks_usdc_swaps_mitigation_on_df)\n",
    "ustonks_usdc_sim.plot_slice_distribution_and_diff_limit_line(ustonks_usdc_swaps_mitigation_on_df)\n",
    "ustonks_usdc_sim.plot_reserves_with_and_without_mitigation(ustonks_usdc_swaps_mitigation_off_df, ustonks_usdc_swaps_mitigation_on_df)\n",
    "ustonks_usdc_sim.plot_cumulative_prices_with_and_without_mitigation(ustonks_usdc_swaps_mitigation_off_df, ustonks_usdc_swaps_mitigation_off_df, make_big_num_convert=True)\n",
    "ustonks_usdc_sim.plot_price_distribution(ustonks_usdc_swaps_mitigation_off_df, ustonks_usdc_swaps_mitigation_on_df, separate_plots=True)\n",
    "ustonks_usdc_sim.plot_frequency_distribution(ustonks_usdc_swaps_mitigation_on_df)\n",
    "ustonks_usdc_sim.plot_price_impact(ustonks_usdc_swaps_mitigation_off_df, ustonks_usdc_swaps_mitigation_on_df, \n",
    "                                smallest_y=ustonks_usdc_swaps_mitigation_off_df['price_diff'].min(), \n",
    "                                biggest_y=ustonks_usdc_swaps_mitigation_off_df['price_diff'].max())"
   ]
  },
  {
   "cell_type": "markdown",
   "metadata": {},
   "source": [
    "# mAMZN/UST"
   ]
  },
  {
   "cell_type": "code",
   "execution_count": null,
   "metadata": {},
   "outputs": [],
   "source": [
    "mamzn_ust_mints_mitigation_off_df"
   ]
  },
  {
   "cell_type": "code",
   "execution_count": null,
   "metadata": {},
   "outputs": [],
   "source": [
    "mamzn_ust_burns_mitigation_off_df"
   ]
  },
  {
   "cell_type": "code",
   "execution_count": null,
   "metadata": {},
   "outputs": [],
   "source": [
    "mamzn_ust_swaps_mitigation_off_df"
   ]
  },
  {
   "cell_type": "code",
   "execution_count": null,
   "metadata": {},
   "outputs": [],
   "source": [
    "plot_mints(mamzn_ust_mints_mitigation_on_df, mamzn_ust_mints_mitigation_off_df, pool_name='mAMZN/UST')"
   ]
  },
  {
   "cell_type": "markdown",
   "metadata": {},
   "source": [
    "## MEV transactions extraction and analysis\n",
    "\n",
    "### MEV attacks and possible MEVs extraction\n",
    "\n",
    "There are 136 MEV attacks performed on the pool and 8789 possible attacks"
   ]
  },
  {
   "cell_type": "code",
   "execution_count": null,
   "metadata": {},
   "outputs": [],
   "source": [
    "mamzn_ust_filtered_swaps_df, mamzn_ust_mevs_df = mamzn_ust_sim.extract_filtered_and_mevs_dfs()"
   ]
  },
  {
   "cell_type": "code",
   "execution_count": null,
   "metadata": {},
   "outputs": [],
   "source": [
    "mamzn_ust_suspicious_filtered_swaps_df, mamzn_ust_possible_mevs_df = mamzn_ust_sim.extract_suspicious_and_filtered_swaps_dfs()"
   ]
  },
  {
   "cell_type": "markdown",
   "metadata": {},
   "source": [
    "### Plotting values of MEVs and possible MEVs with filtered swaps values"
   ]
  },
  {
   "cell_type": "code",
   "execution_count": null,
   "metadata": {},
   "outputs": [],
   "source": [
    "mamzn_ust_sim.show_swaps_and_mevs_by_token(mamzn_ust_filtered_swaps_df, mamzn_ust_mevs_df, width=15, height=5)"
   ]
  },
  {
   "cell_type": "code",
   "execution_count": null,
   "metadata": {},
   "outputs": [],
   "source": [
    "mamzn_ust_sim.show_swaps_and_mevs_by_token(mamzn_ust_suspicious_filtered_swaps_df, mamzn_ust_possible_mevs_df, width=15, height=5)"
   ]
  },
  {
   "cell_type": "markdown",
   "metadata": {},
   "source": [
    "### Plotting MEV transactions and possible MEV transactions with filtered swaps daily count distributions"
   ]
  },
  {
   "cell_type": "code",
   "execution_count": null,
   "metadata": {},
   "outputs": [],
   "source": [
    "mamzn_ust_sim.show_swaps_and_mevs_daily_count_by_token(mamzn_ust_filtered_swaps_df, mamzn_ust_mevs_df, mevs_alter_axis=True)"
   ]
  },
  {
   "cell_type": "code",
   "execution_count": null,
   "metadata": {},
   "outputs": [],
   "source": [
    "mamzn_ust_sim.show_swaps_and_mevs_daily_count_by_token(mamzn_ust_suspicious_filtered_swaps_df, mamzn_ust_possible_mevs_df, mevs_alter_axis=True)"
   ]
  },
  {
   "cell_type": "markdown",
   "metadata": {},
   "source": [
    "### Plotting ratio of MEV attacks to filtered swaps"
   ]
  },
  {
   "cell_type": "code",
   "execution_count": null,
   "metadata": {},
   "outputs": [],
   "source": [
    "mamzn_ust_sim.show_mevs_to_swaps_ratio(mamzn_ust_filtered_swaps_df, mamzn_ust_mevs_df)"
   ]
  },
  {
   "cell_type": "code",
   "execution_count": null,
   "metadata": {},
   "outputs": [],
   "source": [
    "mamzn_ust_sim.show_mevs_to_swaps_ratio(mamzn_ust_suspicious_filtered_swaps_df, mamzn_ust_possible_mevs_df)"
   ]
  },
  {
   "cell_type": "markdown",
   "metadata": {},
   "source": [
    "### Plotting ratio of MEVs and suspicious transactions to filtered swaps"
   ]
  },
  {
   "cell_type": "code",
   "execution_count": null,
   "metadata": {},
   "outputs": [],
   "source": [
    "mamzn_ust_sim.show_mevs_to_reserves_ratio(mamzn_ust_swaps_mitigation_off_df, mamzn_ust_mevs_df, width=15, height=10)\n",
    "mamzn_ust_sim.show_mevs_values_to_reserves_ratio(mamzn_ust_swaps_mitigation_off_df, mamzn_ust_mevs_df, width=15, height=10)"
   ]
  },
  {
   "cell_type": "markdown",
   "metadata": {},
   "source": [
    "### Plotting transaction values distribution of passed swaps, blocked swaps and not enough reserves swaps"
   ]
  },
  {
   "cell_type": "code",
   "execution_count": null,
   "metadata": {},
   "outputs": [],
   "source": [
    "mamzn_ust_sim.plot_transactions_by_type(mamzn_ust_swaps_mitigation_on_df, ignore_success=False, width=15, height=7)"
   ]
  },
  {
   "cell_type": "markdown",
   "metadata": {},
   "source": [
    "### Plotting mitigation comparison, slice factor distribution, reserves distributions, cumulative prices distributions, transaction frequency distributions, price impact after each transaction distributions"
   ]
  },
  {
   "cell_type": "code",
   "execution_count": null,
   "metadata": {},
   "outputs": [],
   "source": [
    "mamzn_ust_sim.show_mitigation_comparison(mamzn_ust_swaps_mitigation_off_df, mamzn_ust_swaps_mitigation_on_df)\n",
    "mamzn_ust_sim.px_hist_blocked_transactions_slice(mamzn_ust_swaps_mitigation_on_df)\n",
    "mamzn_ust_sim.px_hist_blocked_transactions_difference_from_oracle(mamzn_ust_swaps_mitigation_on_df)\n",
    "mamzn_ust_sim.plot_slice_distribution_and_diff_limit_line(mamzn_ust_swaps_mitigation_on_df)\n",
    "mamzn_ust_sim.plot_reserves_with_and_without_mitigation(mamzn_ust_swaps_mitigation_off_df, mamzn_ust_swaps_mitigation_on_df)\n",
    "mamzn_ust_sim.plot_cumulative_prices_with_and_without_mitigation(mamzn_ust_swaps_mitigation_off_df, mamzn_ust_swaps_mitigation_off_df, make_big_num_convert=True)\n",
    "mamzn_ust_sim.plot_price_distribution(mamzn_ust_swaps_mitigation_off_df, mamzn_ust_swaps_mitigation_on_df, separate_plots=True)\n",
    "mamzn_ust_sim.plot_frequency_distribution(mamzn_ust_swaps_mitigation_on_df)\n",
    "mamzn_ust_sim.plot_price_impact(mamzn_ust_swaps_mitigation_off_df, mamzn_ust_swaps_mitigation_on_df, \n",
    "                                smallest_y=mamzn_ust_swaps_mitigation_off_df['price_diff'].min(), \n",
    "                                biggest_y=mamzn_ust_swaps_mitigation_off_df['price_diff'].max())"
   ]
  },
  {
   "cell_type": "code",
   "execution_count": null,
   "metadata": {},
   "outputs": [],
   "source": [
    "mamzn_ust_blocked_df = mamzn_ust_swaps_mitigation_on_df[mamzn_ust_swaps_mitigation_on_df['status'] == 'BLOCKED_BY_VOLATILITY_MITIGATION']\n",
    "mamzn_ust_blocked_mevs_df = pd.merge(mamzn_ust_blocked_df, mamzn_ust_mevs_df, on='txd')\n",
    "mamzn_ust_blocked_mevs_df"
   ]
  },
  {
   "cell_type": "code",
   "execution_count": null,
   "metadata": {},
   "outputs": [],
   "source": [
    "mamzn_ust_blocked_df = mamzn_ust_swaps_mitigation_on_df[mamzn_ust_swaps_mitigation_on_df['status'] == 'BLOCKED_BY_VOLATILITY_MITIGATION']\n",
    "mamzn_ust_blocked_mevs_df = pd.merge(mamzn_ust_blocked_df, mamzn_ust_possible_mevs_df, on='txd')\n",
    "mamzn_ust_blocked_mevs_df"
   ]
  },
  {
   "cell_type": "markdown",
   "metadata": {},
   "source": [
    "# AAPL/UST"
   ]
  },
  {
   "cell_type": "code",
   "execution_count": null,
   "metadata": {},
   "outputs": [],
   "source": [
    "maapl_ust_mints_mitigation_off_df"
   ]
  },
  {
   "cell_type": "code",
   "execution_count": null,
   "metadata": {},
   "outputs": [],
   "source": [
    "maapl_ust_burns_mitigation_off_df"
   ]
  },
  {
   "cell_type": "code",
   "execution_count": null,
   "metadata": {},
   "outputs": [],
   "source": [
    "maapl_ust_swaps_mitigation_off_df"
   ]
  },
  {
   "cell_type": "code",
   "execution_count": null,
   "metadata": {},
   "outputs": [],
   "source": [
    "plot_mints(maapl_ust_mints_mitigation_on_df, maapl_ust_mints_mitigation_off_df, pool_name='mAAPL/UST')"
   ]
  },
  {
   "cell_type": "markdown",
   "metadata": {},
   "source": [
    "## MEV transactions extraction and analysis\n",
    "\n",
    "### MEV attacks and possible MEVs extraction\n",
    "\n",
    "There are 136 MEV attacks performed on the pool and 8789 possible attacks"
   ]
  },
  {
   "cell_type": "code",
   "execution_count": null,
   "metadata": {},
   "outputs": [],
   "source": [
    "maapl_ust_filtered_swaps_df, maapl_ust_mevs_df = maapl_ust_sim.extract_filtered_and_mevs_dfs()"
   ]
  },
  {
   "cell_type": "code",
   "execution_count": null,
   "metadata": {},
   "outputs": [],
   "source": [
    "maapl_ust_suspicious_filtered_swaps_df, maapl_ust_possible_mevs_df = maapl_ust_sim.extract_suspicious_and_filtered_swaps_dfs()"
   ]
  },
  {
   "cell_type": "markdown",
   "metadata": {},
   "source": [
    "### Plotting values of MEVs and possible MEVs with filtered swaps values"
   ]
  },
  {
   "cell_type": "code",
   "execution_count": null,
   "metadata": {},
   "outputs": [],
   "source": [
    "maapl_ust_sim.show_swaps_and_mevs_by_token(maapl_ust_filtered_swaps_df, maapl_ust_mevs_df, width=15, height=5)"
   ]
  },
  {
   "cell_type": "code",
   "execution_count": null,
   "metadata": {},
   "outputs": [],
   "source": [
    "maapl_ust_sim.show_swaps_and_mevs_by_token(maapl_ust_suspicious_filtered_swaps_df, maapl_ust_possible_mevs_df, width=15, height=5)"
   ]
  },
  {
   "cell_type": "markdown",
   "metadata": {},
   "source": [
    "### Plotting MEV transactions and possible MEV transactions with filtered swaps daily count distributions"
   ]
  },
  {
   "cell_type": "code",
   "execution_count": null,
   "metadata": {},
   "outputs": [],
   "source": [
    "maapl_ust_sim.show_swaps_and_mevs_daily_count_by_token(maapl_ust_filtered_swaps_df, maapl_ust_mevs_df, mevs_alter_axis=True)"
   ]
  },
  {
   "cell_type": "markdown",
   "metadata": {},
   "source": [
    "### Plotting MEV transactions and possible MEV transactions with filtered swaps daily count distributions"
   ]
  },
  {
   "cell_type": "code",
   "execution_count": null,
   "metadata": {},
   "outputs": [],
   "source": [
    "maapl_ust_sim.show_swaps_and_mevs_daily_count_by_token(maapl_ust_suspicious_filtered_swaps_df, maapl_ust_possible_mevs_df, mevs_alter_axis=True)"
   ]
  },
  {
   "cell_type": "code",
   "execution_count": null,
   "metadata": {},
   "outputs": [],
   "source": [
    "maapl_ust_sim.show_swaps_and_mevs_daily_count_by_token(maapl_ust_suspicious_filtered_swaps_df, maapl_ust_possible_mevs_df, mevs_alter_axis=True)"
   ]
  },
  {
   "cell_type": "markdown",
   "metadata": {},
   "source": [
    "### Plotting ratio of MEV attacks to filtered swaps"
   ]
  },
  {
   "cell_type": "code",
   "execution_count": null,
   "metadata": {},
   "outputs": [],
   "source": [
    "maapl_ust_sim.show_mevs_to_swaps_ratio(maapl_ust_filtered_swaps_df, maapl_ust_mevs_df)"
   ]
  },
  {
   "cell_type": "code",
   "execution_count": null,
   "metadata": {},
   "outputs": [],
   "source": [
    "maapl_ust_sim.show_mevs_to_swaps_ratio(maapl_ust_suspicious_filtered_swaps_df, maapl_ust_possible_mevs_df)"
   ]
  },
  {
   "cell_type": "markdown",
   "metadata": {},
   "source": [
    "### Plotting ratio of MEVs and suspicious transactions to filtered swaps"
   ]
  },
  {
   "cell_type": "code",
   "execution_count": null,
   "metadata": {},
   "outputs": [],
   "source": [
    "maapl_ust_sim.show_mevs_to_reserves_ratio(maapl_ust_swaps_mitigation_off_df, maapl_ust_mevs_df, width=15, height=10)\n",
    "maapl_ust_sim.show_mevs_values_to_reserves_ratio(maapl_ust_swaps_mitigation_off_df, maapl_ust_mevs_df, width=15, height=10)"
   ]
  },
  {
   "cell_type": "markdown",
   "metadata": {},
   "source": [
    "### Plotting transaction values distribution of passed swaps, blocked swaps and not enough reserves swaps"
   ]
  },
  {
   "cell_type": "code",
   "execution_count": null,
   "metadata": {},
   "outputs": [],
   "source": [
    "maapl_ust_sim.plot_transactions_by_type(maapl_ust_swaps_mitigation_on_df, ignore_success=False, width=15, height=7)"
   ]
  },
  {
   "cell_type": "markdown",
   "metadata": {},
   "source": [
    "### Plotting mitigation comparison, slice factor distribution, reserves distributions, cumulative prices distributions, transaction frequency distributions, price impact after each transaction distributions"
   ]
  },
  {
   "cell_type": "code",
   "execution_count": null,
   "metadata": {},
   "outputs": [],
   "source": [
    "maapl_ust_sim.show_mitigation_comparison(maapl_ust_swaps_mitigation_off_df, maapl_ust_swaps_mitigation_on_df)\n",
    "maapl_ust_sim.px_hist_blocked_transactions_slice(maapl_ust_swaps_mitigation_on_df)\n",
    "maapl_ust_sim.px_hist_blocked_transactions_difference_from_oracle(maapl_ust_swaps_mitigation_on_df)\n",
    "maapl_ust_sim.plot_slice_distribution_and_diff_limit_line(maapl_ust_swaps_mitigation_on_df)\n",
    "maapl_ust_sim.plot_reserves_with_and_without_mitigation(maapl_ust_swaps_mitigation_off_df, maapl_ust_swaps_mitigation_on_df)\n",
    "maapl_ust_sim.plot_cumulative_prices_with_and_without_mitigation(maapl_ust_swaps_mitigation_off_df, maapl_ust_swaps_mitigation_off_df, make_big_num_convert=True)\n",
    "maapl_ust_sim.plot_price_distribution(maapl_ust_swaps_mitigation_off_df, maapl_ust_swaps_mitigation_on_df, separate_plots=True)\n",
    "maapl_ust_sim.plot_frequency_distribution(maapl_ust_swaps_mitigation_on_df)\n",
    "maapl_ust_sim.plot_price_impact(maapl_ust_swaps_mitigation_off_df, maapl_ust_swaps_mitigation_on_df, \n",
    "                                smallest_y=maapl_ust_swaps_mitigation_off_df['price_diff'].min(), \n",
    "                                biggest_y=maapl_ust_swaps_mitigation_off_df['price_diff'].max())"
   ]
  },
  {
   "cell_type": "code",
   "execution_count": null,
   "metadata": {},
   "outputs": [],
   "source": [
    "maapl_ust_blocked_df = maapl_ust_swaps_mitigation_on_df[maapl_ust_swaps_mitigation_on_df['status'] == 'BLOCKED_BY_VOLATILITY_MITIGATION']\n",
    "maapl_ust_blocked_mevs_df = pd.merge(maapl_ust_blocked_df, maapl_ust_mevs_df, on='txd')\n",
    "maapl_ust_blocked_mevs_df"
   ]
  },
  {
   "cell_type": "code",
   "execution_count": null,
   "metadata": {},
   "outputs": [],
   "source": [
    "maapl_ust_blocked_df = maapl_ust_swaps_mitigation_on_df[maapl_ust_swaps_mitigation_on_df['status'] == 'BLOCKED_BY_VOLATILITY_MITIGATION']\n",
    "maapl_ust_blocked_mevs_df = pd.merge(maapl_ust_blocked_df, maapl_ust_possible_mevs_df, on='txd')\n",
    "maapl_ust_blocked_mevs_df"
   ]
  },
  {
   "cell_type": "markdown",
   "metadata": {},
   "source": [
    "# mBABA/UST"
   ]
  },
  {
   "cell_type": "code",
   "execution_count": null,
   "metadata": {},
   "outputs": [],
   "source": [
    "mbaba_ust_mints_mitigation_off_df"
   ]
  },
  {
   "cell_type": "code",
   "execution_count": null,
   "metadata": {},
   "outputs": [],
   "source": [
    "mbaba_ust_burns_mitigation_off_df"
   ]
  },
  {
   "cell_type": "code",
   "execution_count": null,
   "metadata": {},
   "outputs": [],
   "source": [
    "mbaba_ust_swaps_mitigation_off_df"
   ]
  },
  {
   "cell_type": "code",
   "execution_count": null,
   "metadata": {},
   "outputs": [],
   "source": [
    "plot_mints(mbaba_ust_mints_mitigation_on_df, mbaba_ust_mints_mitigation_off_df, pool_name='mBABA/UST')"
   ]
  },
  {
   "cell_type": "markdown",
   "metadata": {},
   "source": [
    "## MEV transactions extraction and analysis\n",
    "\n",
    "### MEV attacks and possible MEVs extraction\n",
    "\n",
    "There are 136 MEV attacks performed on the pool and 8789 possible attacks"
   ]
  },
  {
   "cell_type": "code",
   "execution_count": null,
   "metadata": {},
   "outputs": [],
   "source": [
    "mbaba_ust_filtered_swaps_df, mbaba_ust_mevs_df = mbaba_ust_sim.extract_filtered_and_mevs_dfs()"
   ]
  },
  {
   "cell_type": "code",
   "execution_count": null,
   "metadata": {},
   "outputs": [],
   "source": [
    "mbaba_ust_suspicious_filtered_swaps_df, mbaba_ust_possible_mevs_df = mbaba_ust_sim.extract_suspicious_and_filtered_swaps_dfs()"
   ]
  },
  {
   "cell_type": "markdown",
   "metadata": {},
   "source": [
    "### Plotting values of MEVs and possible MEVs with filtered swaps values"
   ]
  },
  {
   "cell_type": "code",
   "execution_count": null,
   "metadata": {},
   "outputs": [],
   "source": [
    "mbaba_ust_sim.show_swaps_and_mevs_by_token(mbaba_ust_filtered_swaps_df, mbaba_ust_mevs_df, width=15, height=5)"
   ]
  },
  {
   "cell_type": "code",
   "execution_count": null,
   "metadata": {},
   "outputs": [],
   "source": [
    "mbaba_ust_sim.show_swaps_and_mevs_by_token(mbaba_ust_suspicious_filtered_swaps_df, mbaba_ust_possible_mevs_df, width=15, height=5)"
   ]
  },
  {
   "cell_type": "markdown",
   "metadata": {},
   "source": [
    "### Plotting MEV transactions and possible MEV transactions with filtered swaps daily count distributions"
   ]
  },
  {
   "cell_type": "code",
   "execution_count": null,
   "metadata": {},
   "outputs": [],
   "source": [
    "mbaba_ust_sim.show_swaps_and_mevs_daily_count_by_token(mbaba_ust_filtered_swaps_df, mbaba_ust_mevs_df, mevs_alter_axis=True)"
   ]
  },
  {
   "cell_type": "code",
   "execution_count": null,
   "metadata": {},
   "outputs": [],
   "source": [
    "mbaba_ust_sim.show_swaps_and_mevs_daily_count_by_token(mbaba_ust_suspicious_filtered_swaps_df, mbaba_ust_possible_mevs_df, mevs_alter_axis=True)"
   ]
  },
  {
   "cell_type": "markdown",
   "metadata": {},
   "source": [
    "### Plotting ratio of MEV attacks to filtered swaps"
   ]
  },
  {
   "cell_type": "code",
   "execution_count": null,
   "metadata": {},
   "outputs": [],
   "source": [
    "mbaba_ust_sim.show_mevs_to_swaps_ratio(mbaba_ust_filtered_swaps_df, mbaba_ust_mevs_df)"
   ]
  },
  {
   "cell_type": "code",
   "execution_count": null,
   "metadata": {},
   "outputs": [],
   "source": [
    "mbaba_ust_sim.show_mevs_to_swaps_ratio(mbaba_ust_suspicious_filtered_swaps_df, mbaba_ust_possible_mevs_df)"
   ]
  },
  {
   "cell_type": "markdown",
   "metadata": {},
   "source": [
    "### Plotting ratio of MEVs and suspicious transactions to filtered swaps"
   ]
  },
  {
   "cell_type": "code",
   "execution_count": null,
   "metadata": {},
   "outputs": [],
   "source": [
    "mbaba_ust_sim.show_mevs_to_reserves_ratio(mbaba_ust_swaps_mitigation_off_df, mbaba_ust_mevs_df, width=15, height=10)\n",
    "mbaba_ust_sim.show_mevs_values_to_reserves_ratio(mbaba_ust_swaps_mitigation_off_df, mbaba_ust_mevs_df, width=15, height=10)"
   ]
  },
  {
   "cell_type": "markdown",
   "metadata": {},
   "source": [
    "### Plotting transaction values distribution of passed swaps, blocked swaps and not enough reserves swaps"
   ]
  },
  {
   "cell_type": "code",
   "execution_count": null,
   "metadata": {},
   "outputs": [],
   "source": [
    "mbaba_ust_sim.plot_transactions_by_type(mbaba_ust_swaps_mitigation_on_df, ignore_success=False, width=15, height=7)"
   ]
  },
  {
   "cell_type": "markdown",
   "metadata": {},
   "source": [
    "### Plotting mitigation comparison, slice factor distribution, reserves distributions, cumulative prices distributions, transaction frequency distributions, price impact after each transaction distributions"
   ]
  },
  {
   "cell_type": "code",
   "execution_count": null,
   "metadata": {},
   "outputs": [],
   "source": [
    "mbaba_ust_sim.show_mitigation_comparison(mbaba_ust_swaps_mitigation_off_df, mbaba_ust_swaps_mitigation_on_df)\n",
    "mbaba_ust_sim.px_hist_blocked_transactions_slice(mbaba_ust_swaps_mitigation_on_df)\n",
    "mbaba_ust_sim.px_hist_blocked_transactions_difference_from_oracle(mbaba_ust_swaps_mitigation_on_df)\n",
    "mbaba_ust_sim.plot_slice_distribution_and_diff_limit_line(mbaba_ust_swaps_mitigation_on_df)\n",
    "mbaba_ust_sim.plot_reserves_with_and_without_mitigation(mbaba_ust_swaps_mitigation_off_df, mbaba_ust_swaps_mitigation_on_df)\n",
    "mbaba_ust_sim.plot_cumulative_prices_with_and_without_mitigation(mbaba_ust_swaps_mitigation_off_df, mbaba_ust_swaps_mitigation_off_df, make_big_num_convert=True)\n",
    "mbaba_ust_sim.plot_price_distribution(mbaba_ust_swaps_mitigation_off_df, mbaba_ust_swaps_mitigation_on_df, separate_plots=True)\n",
    "mbaba_ust_sim.plot_frequency_distribution(mbaba_ust_swaps_mitigation_on_df)\n",
    "mbaba_ust_sim.plot_price_impact(mbaba_ust_swaps_mitigation_off_df, mbaba_ust_swaps_mitigation_on_df, \n",
    "                                smallest_y=mbaba_ust_swaps_mitigation_off_df['price_diff'].min(), \n",
    "                                biggest_y=mbaba_ust_swaps_mitigation_off_df['price_diff'].max())"
   ]
  },
  {
   "cell_type": "code",
   "execution_count": null,
   "metadata": {},
   "outputs": [],
   "source": [
    "mbaba_ust_blocked_df = mbaba_ust_swaps_mitigation_on_df[mbaba_ust_swaps_mitigation_on_df['status'] == 'BLOCKED_BY_VOLATILITY_MITIGATION']\n",
    "mbaba_ust_blocked_mevs_df = pd.merge(mbaba_ust_blocked_df, mbaba_ust_mevs_df, on='txd')\n",
    "mbaba_ust_blocked_mevs_df"
   ]
  },
  {
   "cell_type": "code",
   "execution_count": null,
   "metadata": {},
   "outputs": [],
   "source": [
    "mbaba_ust_blocked_df = mbaba_ust_swaps_mitigation_on_df[mbaba_ust_swaps_mitigation_on_df['status'] == 'BLOCKED_BY_VOLATILITY_MITIGATION']\n",
    "mbaba_ust_blocked_mevs_df = pd.merge(mbaba_ust_blocked_df, mbaba_ust_possible_mevs_df, on='txd')\n",
    "mbaba_ust_blocked_mevs_df"
   ]
  }
 ],
 "metadata": {
  "interpreter": {
   "hash": "d1f4798ab046152837485e0998e65fdc1c560a3a4e544c90666a00f98893967f"
  },
  "kernelspec": {
   "display_name": "Python 3",
   "language": "python",
   "name": "python3"
  },
  "language_info": {
   "codemirror_mode": {
    "name": "ipython",
    "version": 3
   },
   "file_extension": ".py",
   "mimetype": "text/x-python",
   "name": "python",
   "nbconvert_exporter": "python",
   "pygments_lexer": "ipython3",
   "version": "3.8.8"
  }
 },
 "nbformat": 4,
 "nbformat_minor": 2
}
