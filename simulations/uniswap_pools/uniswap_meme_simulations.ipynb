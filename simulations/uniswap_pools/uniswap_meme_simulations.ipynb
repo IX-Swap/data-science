{
 "cells": [
  {
   "cell_type": "code",
   "execution_count": null,
   "metadata": {},
   "outputs": [
    {
     "name": "stdout",
     "output_type": "stream",
     "text": [
      "86400 24 3600\n"
     ]
    }
   ],
   "source": [
    "import os\n",
    "import sys\n",
    "import pandas as pd\n",
    "import numpy as np\n",
    "import datetime\n",
    "import matplotlib.pyplot as plt\n",
    "sys.path.insert(0, \"C:/workspace/data-science//libs\")\n",
    "from simulation_core import Simulation\n",
    "\n",
    "pd.set_option('display.max_columns', None)"
   ]
  },
  {
   "cell_type": "markdown",
   "metadata": {},
   "source": [
    "The only plot function  left here, all other plotting functions related to the simulations are placed in the ```Simulation``` class of the ```simulation_core.py```"
   ]
  },
  {
   "cell_type": "code",
   "execution_count": null,
   "metadata": {},
   "outputs": [],
   "source": [
    "def plot_mints(mitigated_mints: pd.DataFrame, pure_mints: pd.DataFrame, pool_name: str, width: int=10, height: int=10):\n",
    "    \"\"\"plot red line of original mints and blue dots of mitigated ones\n",
    "\n",
    "    Args:\n",
    "        mitigated_mints (pd.DataFrame): dataset of mitigated mints\n",
    "        pure_mints (pd.DataFrame): pure dataset of mints without mitigation\n",
    "        width (int, optional): width. Defaults to 10.\n",
    "        height (int, optional): height. Defaults to 10.\n",
    "    \"\"\"\n",
    "    fig, ax = plt.subplots(figsize=(width, height))\n",
    "    ax2 = ax.twinx()\n",
    "\n",
    "    ax.plot(pd.to_datetime(pure_mints.timestamp, unit='s'), pure_mints.Y_amount, c='red', label='mitigation off')\n",
    "    ax2.plot_date(pd.to_datetime(mitigated_mints.timestamp, unit='s'), mitigated_mints.Y_amount, linestyle='--', c='blue', label='mitigation on')\n",
    "\n",
    "    ax.set_title(f'Scatterplot of the mints for {pool_name} pool')\n",
    "    plt.legend()\n",
    "    ax.set_xlabel('time')\n",
    "    ax.set_ylabel('Y token amount')\n",
    "    ax2.set_ylabel('Y token mitigated amount')\n",
    "    fig.autofmt_xdate(rotation=25)\n",
    "    ax.grid(True, linestyle='--')\n",
    "\n",
    "    plt.show()"
   ]
  },
  {
   "cell_type": "markdown",
   "metadata": {},
   "source": [
    "Setting up the simulations parameters, with identifying their paths"
   ]
  },
  {
   "cell_type": "markdown",
   "metadata": {},
   "source": [
    "**cell below is executed ONLY ONCE BECAUSE OF FOUND MINTS TABLE ERROR**\n",
    "\n",
    "In some unique cases pools set pairs in unexpected order of tokens, meaning that all mints and burns will differ from expected format and therefore it is required to set them back into expected order. Unexpected order can be found if during simulations most of the transactions are blocked by ```NOT_ENOUGH_RESERVES``` status."
   ]
  },
  {
   "cell_type": "code",
   "execution_count": null,
   "metadata": {},
   "outputs": [],
   "source": [
    "# mints_df = pd.read_pickle(f'{os.getcwd()}\\data\\pair_history\\PERL_WETH\\perl_weth_mints.pkl')\n",
    "# perl_series = mints_df.amount1.copy()   # copy placed, because otherwise reference is placed\n",
    "# weth_series = mints_df.amount0.copy()\n",
    "# mints_df.amount0 = perl_series\n",
    "# mints_df.amount1 = weth_series\n",
    "# mints_df.to_pickle(f'{os.getcwd()}\\data\\pair_history\\PERL_WETH\\perl_weth_mints.pkl')"
   ]
  },
  {
   "cell_type": "markdown",
   "metadata": {},
   "source": [
    "Each pool has its simulation parameters required to be set up in order to perform correct reading of the pickle files and where to save all simulation results."
   ]
  },
  {
   "cell_type": "code",
   "execution_count": null,
   "metadata": {},
   "outputs": [],
   "source": [
    "# Meme token pools\n",
    "doge_weth_sim = Simulation(experiment_id = 21, x_name = 'DOGE', y_name = 'WETH', window_size = 24, \n",
    "                           base_dir = fr\"{os.getcwd()}\\data\\real_transactions\\experiment_\")\n",
    "elon_weth_sim = Simulation(experiment_id = 22, x_name = 'ELON', y_name = 'WETH', window_size = 24, \n",
    "                           base_dir = fr\"{os.getcwd()}\\data\\real_transactions\\experiment_\")\n",
    "shib_weth_sim = Simulation(experiment_id = 23, x_name = 'SHIB', y_name = 'WETH', window_size = 24, \n",
    "                           base_dir = fr\"{os.getcwd()}\\data\\real_transactions\\experiment_\")\n",
    "squid_weth_sim = Simulation(experiment_id = 24, x_name = 'SQUID', y_name = 'WETH', window_size = 24, \n",
    "                           base_dir = fr\"{os.getcwd()}\\data\\real_transactions\\experiment_\")"
   ]
  },
  {
   "cell_type": "markdown",
   "metadata": {},
   "source": [
    "**IMPORTANT: launch those simulations only if there is no data in package ```data\\real_transactions```, otherwise skip this part (comment it)**"
   ]
  },
  {
   "cell_type": "code",
   "execution_count": null,
   "metadata": {},
   "outputs": [],
   "source": [
    "# # meme token pools\n",
    "# doge_weth_sim.run_simulation(isBurnAvailable = True, isMintAvailable = True)    # passed, experiment 21\n",
    "# elon_weth_sim.run_simulation(isBurnAvailable = True, isMintAvailable = True)    # passed, experiment 22\n",
    "# shib_weth_sim.run_simulation(isBurnAvailable = True, isMintAvailable = True)    # passed, experiment 23\n",
    "# squid_weth_sim.run_simulation(isBurnAvailable = False, isMintAvailable = True)  # passed, experiment 24"
   ]
  },
  {
   "cell_type": "markdown",
   "metadata": {},
   "source": [
    "## Meme-tokens pools (DOGE/WETH, SHIB/WETH, ELON/WETH, SQUID/WETH)"
   ]
  },
  {
   "cell_type": "code",
   "execution_count": null,
   "metadata": {},
   "outputs": [],
   "source": [
    "doge_weth_swaps_mitigation_off_df, doge_weth_mints_mitigation_off_df, doge_weth_burns_mitigation_off_df = doge_weth_sim.read_simulation(0)\n",
    "doge_weth_swaps_mitigation_on_df, doge_weth_mints_mitigation_on_df, doge_weth_burns_mitigation_on_df = doge_weth_sim.read_simulation(1)\n",
    "\n",
    "shib_weth_swaps_mitigation_off_df, shib_weth_mints_mitigation_off_df, shib_weth_burns_mitigation_off_df = shib_weth_sim.read_simulation(0)\n",
    "shib_weth_swaps_mitigation_on_df, shib_weth_mints_mitigation_on_df, shib_weth_burns_mitigation_on_df = shib_weth_sim.read_simulation(1)\n",
    "\n",
    "elon_weth_swaps_mitigation_off_df, elon_weth_mints_mitigation_off_df, elon_weth_burns_mitigation_off_df = elon_weth_sim.read_simulation(0)\n",
    "elon_weth_swaps_mitigation_on_df, elon_weth_mints_mitigation_on_df, elon_weth_burns_mitigation_on_df = elon_weth_sim.read_simulation(1)\n",
    "\n",
    "squid_weth_swaps_mitigation_off_df, squid_weth_mints_mitigation_off_df, squid_weth_burns_mitigation_off_df = squid_weth_sim.read_simulation(0)\n",
    "squid_weth_swaps_mitigation_on_df, squid_weth_mints_mitigation_on_df, squid_weth_burns_mitigation_on_df = squid_weth_sim.read_simulation(1)"
   ]
  },
  {
   "cell_type": "markdown",
   "metadata": {},
   "source": [
    "# DOGE/WETH"
   ]
  },
  {
   "cell_type": "code",
   "execution_count": null,
   "metadata": {},
   "outputs": [],
   "source": [
    "doge_weth_mints_mitigation_off_df"
   ]
  },
  {
   "cell_type": "code",
   "execution_count": null,
   "metadata": {},
   "outputs": [],
   "source": [
    "doge_weth_burns_mitigation_off_df"
   ]
  },
  {
   "cell_type": "code",
   "execution_count": null,
   "metadata": {},
   "outputs": [],
   "source": [
    "doge_weth_swaps_mitigation_off_df"
   ]
  },
  {
   "cell_type": "code",
   "execution_count": null,
   "metadata": {},
   "outputs": [],
   "source": [
    "plot_mints(doge_weth_mints_mitigation_on_df, doge_weth_mints_mitigation_off_df, pool_name='DOGE/WETH')"
   ]
  },
  {
   "cell_type": "markdown",
   "metadata": {},
   "source": [
    "## MEV transactions extraction and analysis\n",
    "\n",
    "### MEV attacks and possible MEVs extraction\n",
    "\n",
    "There are 136 MEV attacks performed on the pool and 8789 possible attacks"
   ]
  },
  {
   "cell_type": "code",
   "execution_count": null,
   "metadata": {},
   "outputs": [],
   "source": [
    "doge_weth_filtered_swaps_df, doge_weth_mevs_df = doge_weth_sim.extract_filtered_and_mevs_dfs()"
   ]
  },
  {
   "cell_type": "code",
   "execution_count": null,
   "metadata": {},
   "outputs": [],
   "source": [
    "doge_weth_suspicious_filtered_swaps_df, doge_weth_possible_mevs_df = doge_weth_sim.extract_suspicious_and_filtered_swaps_dfs()"
   ]
  },
  {
   "cell_type": "code",
   "execution_count": null,
   "metadata": {},
   "outputs": [],
   "source": [
    "doge_weth_mevs_df = doge_weth_sim.calculate_attack_profit(doge_weth_mevs_df)"
   ]
  },
  {
   "cell_type": "markdown",
   "metadata": {},
   "source": [
    "### Plotting values of MEVs and possible MEVs with filtered swaps values"
   ]
  },
  {
   "cell_type": "code",
   "execution_count": null,
   "metadata": {},
   "outputs": [],
   "source": [
    "doge_weth_sim.show_swaps_and_mevs_by_token(doge_weth_filtered_swaps_df, doge_weth_mevs_df, width=15, height=5)"
   ]
  },
  {
   "cell_type": "code",
   "execution_count": null,
   "metadata": {},
   "outputs": [],
   "source": [
    "doge_weth_sim.show_swaps_and_mevs_by_token(doge_weth_suspicious_filtered_swaps_df, doge_weth_possible_mevs_df, width=15, height=5)"
   ]
  },
  {
   "cell_type": "markdown",
   "metadata": {},
   "source": [
    "### Plotting MEV transactions and possible MEV transactions with filtered swaps daily count distributions"
   ]
  },
  {
   "cell_type": "code",
   "execution_count": null,
   "metadata": {},
   "outputs": [],
   "source": [
    "doge_weth_sim.show_swaps_and_mevs_daily_count_by_token(doge_weth_filtered_swaps_df, doge_weth_mevs_df, mevs_alter_axis=True)"
   ]
  },
  {
   "cell_type": "code",
   "execution_count": null,
   "metadata": {},
   "outputs": [],
   "source": [
    "doge_weth_sim.show_swaps_and_mevs_daily_count_by_token(doge_weth_suspicious_filtered_swaps_df, doge_weth_possible_mevs_df, mevs_alter_axis=True)"
   ]
  },
  {
   "cell_type": "markdown",
   "metadata": {},
   "source": [
    "### Plotting ratio of MEV attacks to filtered swaps"
   ]
  },
  {
   "cell_type": "code",
   "execution_count": null,
   "metadata": {},
   "outputs": [],
   "source": [
    "doge_weth_sim.show_mevs_to_swaps_ratio(doge_weth_filtered_swaps_df, doge_weth_mevs_df)"
   ]
  },
  {
   "cell_type": "code",
   "execution_count": null,
   "metadata": {},
   "outputs": [],
   "source": [
    "doge_weth_sim.show_mevs_to_swaps_ratio(doge_weth_suspicious_filtered_swaps_df, doge_weth_possible_mevs_df)"
   ]
  },
  {
   "cell_type": "markdown",
   "metadata": {},
   "source": [
    "### Plotting ratio of MEVs and suspicious transactions to filtered swaps"
   ]
  },
  {
   "cell_type": "code",
   "execution_count": null,
   "metadata": {},
   "outputs": [],
   "source": [
    "doge_weth_sim.show_mevs_to_reserves_ratio(doge_weth_swaps_mitigation_off_df, doge_weth_mevs_df, width=15, height=10)\n",
    "doge_weth_sim.show_mevs_values_to_reserves_ratio(doge_weth_swaps_mitigation_off_df, doge_weth_mevs_df, width=15, height=10)"
   ]
  },
  {
   "cell_type": "markdown",
   "metadata": {},
   "source": [
    "### Plotting transaction values distribution of passed swaps, blocked swaps and not enough reserves swaps"
   ]
  },
  {
   "cell_type": "code",
   "execution_count": null,
   "metadata": {},
   "outputs": [],
   "source": [
    "doge_weth_sim.plot_transactions_by_type(doge_weth_swaps_mitigation_on_df, ignore_success=False, width=15, height=7)"
   ]
  },
  {
   "cell_type": "markdown",
   "metadata": {},
   "source": [
    "### Plotting mitigation comparison, slice factor distribution, reserves distributions, cumulative prices distributions, transaction frequency distributions, price impact after each transaction distributions"
   ]
  },
  {
   "cell_type": "code",
   "execution_count": null,
   "metadata": {},
   "outputs": [],
   "source": [
    "doge_weth_sim.show_mitigation_comparison(doge_weth_swaps_mitigation_off_df, doge_weth_swaps_mitigation_on_df)\n",
    "doge_weth_sim.px_hist_blocked_transactions_slice(doge_weth_swaps_mitigation_on_df)\n",
    "doge_weth_sim.px_hist_blocked_transactions_difference_from_oracle(doge_weth_swaps_mitigation_on_df)\n",
    "doge_weth_sim.plot_slice_distribution_and_diff_limit_line(doge_weth_swaps_mitigation_on_df)\n",
    "doge_weth_sim.plot_reserves_with_and_without_mitigation(doge_weth_swaps_mitigation_off_df, doge_weth_swaps_mitigation_on_df)\n",
    "doge_weth_sim.plot_cumulative_prices_with_and_without_mitigation(doge_weth_swaps_mitigation_off_df, doge_weth_swaps_mitigation_off_df)\n",
    "doge_weth_sim.plot_price_distribution(doge_weth_swaps_mitigation_off_df, doge_weth_swaps_mitigation_on_df, separate_plots=True)\n",
    "doge_weth_sim.plot_frequency_distribution(doge_weth_swaps_mitigation_on_df)\n",
    "doge_weth_sim.plot_price_impact(doge_weth_swaps_mitigation_off_df, doge_weth_swaps_mitigation_on_df, \n",
    "                                smallest_y=doge_weth_swaps_mitigation_off_df['price_diff'].min(), \n",
    "                                biggest_y=doge_weth_swaps_mitigation_off_df['price_diff'].max())"
   ]
  },
  {
   "cell_type": "markdown",
   "metadata": {},
   "source": [
    "### MEVs blocked by mitigation mechanism"
   ]
  },
  {
   "cell_type": "code",
   "execution_count": null,
   "metadata": {},
   "outputs": [],
   "source": [
    "doge_weth_blocked_df = doge_weth_swaps_mitigation_on_df[doge_weth_swaps_mitigation_on_df['status'] == 'BLOCKED_BY_VOLATILITY_MITIGATION']\n",
    "doge_weth_blocked_mevs_df = pd.merge(doge_weth_blocked_df, doge_weth_mevs_df, on='txd')\n",
    "doge_weth_blocked_mevs_df"
   ]
  },
  {
   "cell_type": "code",
   "execution_count": null,
   "metadata": {},
   "outputs": [],
   "source": [
    "doge_weth_blocked_df = doge_weth_swaps_mitigation_on_df[doge_weth_swaps_mitigation_on_df['status'] == 'BLOCKED_BY_VOLATILITY_MITIGATION']\n",
    "doge_weth_blocked_mevs_df = pd.merge(doge_weth_blocked_df, doge_weth_possible_mevs_df, on='txd')\n",
    "doge_weth_blocked_mevs_df"
   ]
  },
  {
   "cell_type": "markdown",
   "metadata": {},
   "source": [
    "# SHIB/WETH"
   ]
  },
  {
   "cell_type": "code",
   "execution_count": null,
   "metadata": {},
   "outputs": [],
   "source": [
    "shib_weth_mints_mitigation_off_df"
   ]
  },
  {
   "cell_type": "code",
   "execution_count": null,
   "metadata": {},
   "outputs": [],
   "source": [
    "shib_weth_burns_mitigation_off_df"
   ]
  },
  {
   "cell_type": "code",
   "execution_count": null,
   "metadata": {},
   "outputs": [],
   "source": [
    "shib_weth_swaps_mitigation_off_df"
   ]
  },
  {
   "cell_type": "code",
   "execution_count": null,
   "metadata": {},
   "outputs": [],
   "source": [
    "plot_mints(shib_weth_mints_mitigation_on_df, shib_weth_mints_mitigation_off_df, pool_name='SHIB/WETH')"
   ]
  },
  {
   "cell_type": "markdown",
   "metadata": {},
   "source": [
    "## MEV transactions extraction and analysis\n",
    "\n",
    "### MEV attacks and possible MEVs extraction\n",
    "\n",
    "There are 136 MEV attacks performed on the pool and 8789 possible attacks"
   ]
  },
  {
   "cell_type": "code",
   "execution_count": null,
   "metadata": {},
   "outputs": [],
   "source": [
    "shib_weth_filtered_swaps_df, shib_weth_mevs_df = shib_weth_sim.extract_filtered_and_mevs_dfs()"
   ]
  },
  {
   "cell_type": "code",
   "execution_count": null,
   "metadata": {},
   "outputs": [],
   "source": [
    "shib_weth_suspicious_filtered_swaps_df, shib_weth_possible_mevs_df = shib_weth_sim.extract_suspicious_and_filtered_swaps_dfs()"
   ]
  },
  {
   "cell_type": "code",
   "execution_count": null,
   "metadata": {},
   "outputs": [],
   "source": [
    "shib_weth_mevs_df = shib_weth_sim.calculate_attack_profit(shib_weth_mevs_df)"
   ]
  },
  {
   "cell_type": "markdown",
   "metadata": {},
   "source": [
    "### Plotting values of MEVs and possible MEVs with filtered swaps values"
   ]
  },
  {
   "cell_type": "code",
   "execution_count": null,
   "metadata": {},
   "outputs": [],
   "source": [
    "shib_weth_sim.show_swaps_and_mevs_by_token(shib_weth_filtered_swaps_df, shib_weth_mevs_df, width=15, height=5)"
   ]
  },
  {
   "cell_type": "code",
   "execution_count": null,
   "metadata": {},
   "outputs": [],
   "source": [
    "shib_weth_sim.show_swaps_and_mevs_by_token(shib_weth_suspicious_filtered_swaps_df, shib_weth_possible_mevs_df, width=15, height=5)"
   ]
  },
  {
   "cell_type": "markdown",
   "metadata": {},
   "source": [
    "### Plotting MEV transactions and possible MEV transactions with filtered swaps daily count distributions"
   ]
  },
  {
   "cell_type": "code",
   "execution_count": null,
   "metadata": {},
   "outputs": [],
   "source": [
    "shib_weth_sim.show_swaps_and_mevs_daily_count_by_token(shib_weth_filtered_swaps_df, shib_weth_mevs_df, mevs_alter_axis=True)"
   ]
  },
  {
   "cell_type": "code",
   "execution_count": null,
   "metadata": {},
   "outputs": [],
   "source": [
    "shib_weth_sim.show_swaps_and_mevs_daily_count_by_token(shib_weth_suspicious_filtered_swaps_df, shib_weth_possible_mevs_df, mevs_alter_axis=True)"
   ]
  },
  {
   "cell_type": "markdown",
   "metadata": {},
   "source": [
    "### Plotting ratio of MEV attacks to filtered swaps"
   ]
  },
  {
   "cell_type": "code",
   "execution_count": null,
   "metadata": {},
   "outputs": [],
   "source": [
    "shib_weth_sim.show_mevs_to_swaps_ratio(shib_weth_filtered_swaps_df, shib_weth_mevs_df)"
   ]
  },
  {
   "cell_type": "code",
   "execution_count": null,
   "metadata": {},
   "outputs": [],
   "source": [
    "shib_weth_sim.show_mevs_to_swaps_ratio(shib_weth_suspicious_filtered_swaps_df, shib_weth_possible_mevs_df)"
   ]
  },
  {
   "cell_type": "markdown",
   "metadata": {},
   "source": [
    "### Plotting ratio of MEVs and suspicious transactions to filtered swaps"
   ]
  },
  {
   "cell_type": "code",
   "execution_count": null,
   "metadata": {},
   "outputs": [],
   "source": [
    "shib_weth_sim.show_mevs_to_reserves_ratio(shib_weth_swaps_mitigation_off_df, shib_weth_mevs_df, width=15, height=10)\n",
    "shib_weth_sim.show_mevs_values_to_reserves_ratio(shib_weth_swaps_mitigation_off_df, shib_weth_mevs_df, width=15, height=10)"
   ]
  },
  {
   "cell_type": "markdown",
   "metadata": {},
   "source": [
    "### Plotting transaction values distribution of passed swaps, blocked swaps and not enough reserves swaps"
   ]
  },
  {
   "cell_type": "code",
   "execution_count": null,
   "metadata": {},
   "outputs": [],
   "source": [
    "shib_weth_sim.plot_transactions_by_type(shib_weth_swaps_mitigation_on_df, ignore_success=False, width=15, height=7)"
   ]
  },
  {
   "cell_type": "markdown",
   "metadata": {},
   "source": [
    "### Plotting mitigation comparison, slice factor distribution, reserves distributions, cumulative prices distributions, transaction frequency distributions, price impact after each transaction distributions"
   ]
  },
  {
   "cell_type": "code",
   "execution_count": null,
   "metadata": {},
   "outputs": [],
   "source": [
    "shib_weth_sim.show_mitigation_comparison(shib_weth_swaps_mitigation_off_df, shib_weth_swaps_mitigation_on_df)\n",
    "shib_weth_sim.px_hist_blocked_transactions_slice(shib_weth_swaps_mitigation_on_df)\n",
    "shib_weth_sim.px_hist_blocked_transactions_difference_from_oracle(shib_weth_swaps_mitigation_on_df)\n",
    "shib_weth_sim.plot_slice_distribution_and_diff_limit_line(shib_weth_swaps_mitigation_on_df)\n",
    "shib_weth_sim.plot_reserves_with_and_without_mitigation(shib_weth_swaps_mitigation_off_df, shib_weth_swaps_mitigation_on_df)\n",
    "shib_weth_sim.plot_cumulative_prices_with_and_without_mitigation(shib_weth_swaps_mitigation_off_df, shib_weth_swaps_mitigation_off_df, make_big_num_convert=True)\n",
    "shib_weth_sim.plot_price_distribution(shib_weth_swaps_mitigation_off_df, shib_weth_swaps_mitigation_on_df, separate_plots=True)\n",
    "shib_weth_sim.plot_frequency_distribution(shib_weth_swaps_mitigation_on_df)\n",
    "shib_weth_sim.plot_price_impact(shib_weth_swaps_mitigation_off_df, shib_weth_swaps_mitigation_on_df, \n",
    "                                smallest_y=shib_weth_swaps_mitigation_off_df['price_diff'].min(), \n",
    "                                biggest_y=shib_weth_swaps_mitigation_off_df['price_diff'].max())"
   ]
  },
  {
   "cell_type": "code",
   "execution_count": null,
   "metadata": {},
   "outputs": [],
   "source": [
    "shib_weth_blocked_df = shib_weth_swaps_mitigation_on_df[shib_weth_swaps_mitigation_on_df['status'] == 'BLOCKED_BY_VOLATILITY_MITIGATION']\n",
    "shib_weth_blocked_mevs_df = pd.merge(shib_weth_blocked_df, shib_weth_mevs_df, on='txd')\n",
    "shib_weth_blocked_mevs_df"
   ]
  },
  {
   "cell_type": "code",
   "execution_count": null,
   "metadata": {},
   "outputs": [],
   "source": [
    "shib_weth_blocked_df = shib_weth_swaps_mitigation_on_df[shib_weth_swaps_mitigation_on_df['status'] == 'BLOCKED_BY_VOLATILITY_MITIGATION']\n",
    "shib_weth_blocked_mevs_df = pd.merge(shib_weth_blocked_df, shib_weth_possible_mevs_df, on='txd')\n",
    "shib_weth_blocked_mevs_df"
   ]
  },
  {
   "cell_type": "markdown",
   "metadata": {},
   "source": [
    "# ELON/WETH"
   ]
  },
  {
   "cell_type": "code",
   "execution_count": null,
   "metadata": {},
   "outputs": [],
   "source": [
    "elon_weth_mints_mitigation_off_df"
   ]
  },
  {
   "cell_type": "code",
   "execution_count": null,
   "metadata": {},
   "outputs": [],
   "source": [
    "elon_weth_burns_mitigation_off_df"
   ]
  },
  {
   "cell_type": "code",
   "execution_count": null,
   "metadata": {},
   "outputs": [],
   "source": [
    "elon_weth_swaps_mitigation_off_df"
   ]
  },
  {
   "cell_type": "code",
   "execution_count": null,
   "metadata": {},
   "outputs": [],
   "source": [
    "plot_mints(elon_weth_mints_mitigation_on_df, elon_weth_mints_mitigation_off_df, pool_name='ELON/WETH')"
   ]
  },
  {
   "cell_type": "markdown",
   "metadata": {},
   "source": [
    "## MEV transactions extraction and analysis\n",
    "\n",
    "### MEV attacks and possible MEVs extraction\n",
    "\n",
    "There are 136 MEV attacks performed on the pool and 8789 possible attacks"
   ]
  },
  {
   "cell_type": "code",
   "execution_count": null,
   "metadata": {},
   "outputs": [],
   "source": [
    "elon_weth_filtered_swaps_df, elon_weth_mevs_df = elon_weth_sim.extract_filtered_and_mevs_dfs()"
   ]
  },
  {
   "cell_type": "code",
   "execution_count": null,
   "metadata": {},
   "outputs": [],
   "source": [
    "elon_weth_suspicious_filtered_swaps_df, elon_weth_possible_mevs_df = elon_weth_sim.extract_suspicious_and_filtered_swaps_dfs()"
   ]
  },
  {
   "cell_type": "code",
   "execution_count": null,
   "metadata": {},
   "outputs": [],
   "source": [
    "elon_weth_mevs_df = elon_weth_sim.calculate_attack_profit(elon_weth_mevs_df)"
   ]
  },
  {
   "cell_type": "markdown",
   "metadata": {},
   "source": [
    "### Plotting values of MEVs and possible MEVs with filtered swaps values"
   ]
  },
  {
   "cell_type": "code",
   "execution_count": null,
   "metadata": {},
   "outputs": [],
   "source": [
    "elon_weth_sim.show_swaps_and_mevs_by_token(elon_weth_filtered_swaps_df, elon_weth_mevs_df, width=15, height=5)"
   ]
  },
  {
   "cell_type": "code",
   "execution_count": null,
   "metadata": {},
   "outputs": [],
   "source": [
    "elon_weth_sim.show_swaps_and_mevs_by_token(elon_weth_suspicious_filtered_swaps_df, elon_weth_possible_mevs_df, width=15, height=5)"
   ]
  },
  {
   "cell_type": "markdown",
   "metadata": {},
   "source": [
    "### Plotting MEV transactions and possible MEV transactions with filtered swaps daily count distributions"
   ]
  },
  {
   "cell_type": "code",
   "execution_count": null,
   "metadata": {},
   "outputs": [],
   "source": [
    "elon_weth_sim.show_swaps_and_mevs_daily_count_by_token(elon_weth_filtered_swaps_df, elon_weth_mevs_df, mevs_alter_axis=True)"
   ]
  },
  {
   "cell_type": "code",
   "execution_count": null,
   "metadata": {},
   "outputs": [],
   "source": [
    "elon_weth_sim.show_swaps_and_mevs_daily_count_by_token(elon_weth_suspicious_filtered_swaps_df, elon_weth_possible_mevs_df, mevs_alter_axis=True)"
   ]
  },
  {
   "cell_type": "markdown",
   "metadata": {},
   "source": [
    "### Plotting ratio of MEV attacks to filtered swaps"
   ]
  },
  {
   "cell_type": "code",
   "execution_count": null,
   "metadata": {},
   "outputs": [],
   "source": [
    "elon_weth_sim.show_mevs_to_swaps_ratio(elon_weth_filtered_swaps_df, elon_weth_mevs_df)"
   ]
  },
  {
   "cell_type": "code",
   "execution_count": null,
   "metadata": {},
   "outputs": [],
   "source": [
    "elon_weth_sim.show_mevs_to_swaps_ratio(elon_weth_suspicious_filtered_swaps_df, elon_weth_possible_mevs_df)"
   ]
  },
  {
   "cell_type": "markdown",
   "metadata": {},
   "source": [
    "### Plotting ratio of MEVs and suspicious transactions to filtered swaps"
   ]
  },
  {
   "cell_type": "code",
   "execution_count": null,
   "metadata": {},
   "outputs": [],
   "source": [
    "elon_weth_sim.show_mevs_to_reserves_ratio(elon_weth_swaps_mitigation_off_df, elon_weth_mevs_df, width=15, height=10)\n",
    "elon_weth_sim.show_mevs_values_to_reserves_ratio(elon_weth_swaps_mitigation_off_df, elon_weth_mevs_df, width=15, height=10)"
   ]
  },
  {
   "cell_type": "markdown",
   "metadata": {},
   "source": [
    "### Plotting transaction values distribution of passed swaps, blocked swaps and not enough reserves swaps"
   ]
  },
  {
   "cell_type": "code",
   "execution_count": null,
   "metadata": {},
   "outputs": [],
   "source": [
    "elon_weth_sim.plot_transactions_by_type(elon_weth_swaps_mitigation_on_df, ignore_success=False, width=15, height=7)"
   ]
  },
  {
   "cell_type": "markdown",
   "metadata": {},
   "source": [
    "### Plotting mitigation comparison, slice factor distribution, reserves distributions, cumulative prices distributions, transaction frequency distributions, price impact after each transaction distributions"
   ]
  },
  {
   "cell_type": "code",
   "execution_count": null,
   "metadata": {},
   "outputs": [],
   "source": [
    "elon_weth_sim.show_mitigation_comparison(elon_weth_swaps_mitigation_off_df, elon_weth_swaps_mitigation_on_df)\n",
    "elon_weth_sim.px_hist_blocked_transactions_slice(elon_weth_swaps_mitigation_on_df)\n",
    "elon_weth_sim.px_hist_blocked_transactions_difference_from_oracle(elon_weth_swaps_mitigation_on_df)\n",
    "elon_weth_sim.plot_slice_distribution_and_diff_limit_line(elon_weth_swaps_mitigation_on_df)\n",
    "elon_weth_sim.plot_reserves_with_and_without_mitigation(elon_weth_swaps_mitigation_off_df, elon_weth_swaps_mitigation_on_df)\n",
    "elon_weth_sim.plot_cumulative_prices_with_and_without_mitigation(elon_weth_swaps_mitigation_off_df, elon_weth_swaps_mitigation_off_df, make_big_num_convert=True)\n",
    "elon_weth_sim.plot_price_distribution(elon_weth_swaps_mitigation_off_df, elon_weth_swaps_mitigation_on_df, separate_plots=True)\n",
    "elon_weth_sim.plot_frequency_distribution(elon_weth_swaps_mitigation_on_df)\n",
    "elon_weth_sim.plot_price_impact(elon_weth_swaps_mitigation_off_df, elon_weth_swaps_mitigation_on_df, \n",
    "                                smallest_y=elon_weth_swaps_mitigation_off_df['price_diff'].min(), \n",
    "                                biggest_y=elon_weth_swaps_mitigation_off_df['price_diff'].max())"
   ]
  },
  {
   "cell_type": "code",
   "execution_count": null,
   "metadata": {},
   "outputs": [],
   "source": [
    "elon_weth_blocked_df = elon_weth_swaps_mitigation_on_df[elon_weth_swaps_mitigation_on_df['status'] == 'BLOCKED_BY_VOLATILITY_MITIGATION']\n",
    "elon_weth_blocked_mevs_df = pd.merge(elon_weth_blocked_df, elon_weth_mevs_df, on='txd')\n",
    "elon_weth_blocked_mevs_df"
   ]
  },
  {
   "cell_type": "code",
   "execution_count": null,
   "metadata": {},
   "outputs": [],
   "source": [
    "elon_weth_blocked_df = elon_weth_swaps_mitigation_on_df[elon_weth_swaps_mitigation_on_df['status'] == 'BLOCKED_BY_VOLATILITY_MITIGATION']\n",
    "elon_weth_blocked_mevs_df = pd.merge(elon_weth_blocked_df, elon_weth_possible_mevs_df, on='txd')\n",
    "elon_weth_blocked_mevs_df"
   ]
  },
  {
   "cell_type": "markdown",
   "metadata": {},
   "source": [
    "# SQUID/WETH"
   ]
  },
  {
   "cell_type": "code",
   "execution_count": null,
   "metadata": {},
   "outputs": [],
   "source": [
    "squid_weth_mints_mitigation_off_df"
   ]
  },
  {
   "cell_type": "code",
   "execution_count": null,
   "metadata": {},
   "outputs": [],
   "source": [
    "squid_weth_burns_mitigation_off_df"
   ]
  },
  {
   "cell_type": "code",
   "execution_count": null,
   "metadata": {},
   "outputs": [],
   "source": [
    "squid_weth_swaps_mitigation_off_df"
   ]
  },
  {
   "cell_type": "code",
   "execution_count": null,
   "metadata": {},
   "outputs": [],
   "source": [
    "plot_mints(squid_weth_mints_mitigation_on_df, squid_weth_mints_mitigation_off_df, pool_name='SQUID/WETH')"
   ]
  },
  {
   "cell_type": "markdown",
   "metadata": {},
   "source": [
    "## MEV transactions extraction and analysis\n",
    "\n",
    "### MEV attacks and possible MEVs extraction\n",
    "\n",
    "There are 136 MEV attacks performed on the pool and 8789 possible attacks"
   ]
  },
  {
   "cell_type": "code",
   "execution_count": null,
   "metadata": {},
   "outputs": [],
   "source": [
    "squid_weth_filtered_swaps_df, squid_weth_mevs_df = squid_weth_sim.extract_filtered_and_mevs_dfs()"
   ]
  },
  {
   "cell_type": "code",
   "execution_count": null,
   "metadata": {},
   "outputs": [],
   "source": [
    "squid_weth_suspicious_filtered_swaps_df, squid_weth_possible_mevs_df = squid_weth_sim.extract_suspicious_and_filtered_swaps_dfs()"
   ]
  },
  {
   "cell_type": "code",
   "execution_count": null,
   "metadata": {},
   "outputs": [],
   "source": [
    "squid_weth_mevs_df = squid_weth_sim.calculate_attack_profit(squid_weth_mevs_df)"
   ]
  },
  {
   "cell_type": "markdown",
   "metadata": {},
   "source": [
    "### Plotting transaction values distribution of passed swaps, blocked swaps and not enough reserves swaps"
   ]
  },
  {
   "cell_type": "code",
   "execution_count": null,
   "metadata": {},
   "outputs": [],
   "source": [
    "squid_weth_sim.plot_transactions_by_type(squid_weth_swaps_mitigation_on_df, ignore_success=False, width=15, height=7)"
   ]
  },
  {
   "cell_type": "markdown",
   "metadata": {},
   "source": [
    "### Plotting mitigation comparison, slice factor distribution, reserves distributions, cumulative prices distributions, transaction frequency distributions, price impact after each transaction distributions"
   ]
  },
  {
   "cell_type": "code",
   "execution_count": null,
   "metadata": {},
   "outputs": [],
   "source": [
    "squid_weth_sim.show_mitigation_comparison(squid_weth_swaps_mitigation_off_df, squid_weth_swaps_mitigation_on_df)\n",
    "squid_weth_sim.px_hist_blocked_transactions_slice(squid_weth_swaps_mitigation_on_df)\n",
    "squid_weth_sim.px_hist_blocked_transactions_difference_from_oracle(squid_weth_swaps_mitigation_on_df)\n",
    "squid_weth_sim.plot_slice_distribution_and_diff_limit_line(squid_weth_swaps_mitigation_on_df)\n",
    "squid_weth_sim.plot_reserves_with_and_without_mitigation(squid_weth_swaps_mitigation_off_df, squid_weth_swaps_mitigation_on_df)\n",
    "squid_weth_sim.plot_cumulative_prices_with_and_without_mitigation(squid_weth_swaps_mitigation_off_df, squid_weth_swaps_mitigation_off_df, make_big_num_convert=True)\n",
    "squid_weth_sim.plot_price_distribution(squid_weth_swaps_mitigation_off_df, squid_weth_swaps_mitigation_on_df, separate_plots=True)\n",
    "squid_weth_sim.plot_frequency_distribution(squid_weth_swaps_mitigation_on_df)\n",
    "squid_weth_sim.plot_price_impact(squid_weth_swaps_mitigation_off_df, squid_weth_swaps_mitigation_on_df, \n",
    "                                smallest_y=squid_weth_swaps_mitigation_off_df['price_diff'].min(), \n",
    "                                biggest_y=squid_weth_swaps_mitigation_off_df['price_diff'].max())\n"
   ]
  }
 ],
 "metadata": {
  "language_info": {
   "name": "python"
  },
  "orig_nbformat": 4
 },
 "nbformat": 4,
 "nbformat_minor": 2
}
