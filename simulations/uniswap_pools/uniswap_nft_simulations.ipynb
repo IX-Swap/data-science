{
 "cells": [
  {
   "cell_type": "code",
   "execution_count": null,
   "metadata": {},
   "outputs": [
    {
     "name": "stdout",
     "output_type": "stream",
     "text": [
      "86400 24 3600\n"
     ]
    }
   ],
   "source": [
    "import os\n",
    "import sys\n",
    "import pandas as pd\n",
    "import numpy as np\n",
    "import datetime\n",
    "import matplotlib.pyplot as plt\n",
    "sys.path.insert(0, \"C:/workspace/data-science//libs\")\n",
    "from simulation_core import Simulation\n",
    "\n",
    "pd.set_option('display.max_columns', None)"
   ]
  },
  {
   "cell_type": "markdown",
   "metadata": {},
   "source": [
    "The only plot function  left here, all other plotting functions related to the simulations are placed in the ```Simulation``` class of the ```simulation_core.py```"
   ]
  },
  {
   "cell_type": "code",
   "execution_count": null,
   "metadata": {},
   "outputs": [],
   "source": [
    "def plot_mints(mitigated_mints: pd.DataFrame, pure_mints: pd.DataFrame, pool_name: str, width: int=10, height: int=10):\n",
    "    \"\"\"plot red line of original mints and blue dots of mitigated ones\n",
    "\n",
    "    Args:\n",
    "        mitigated_mints (pd.DataFrame): dataset of mitigated mints\n",
    "        pure_mints (pd.DataFrame): pure dataset of mints without mitigation\n",
    "        width (int, optional): width. Defaults to 10.\n",
    "        height (int, optional): height. Defaults to 10.\n",
    "    \"\"\"\n",
    "    fig, ax = plt.subplots(figsize=(width, height))\n",
    "    ax2 = ax.twinx()\n",
    "\n",
    "    ax.plot(pd.to_datetime(pure_mints.timestamp, unit='s'), pure_mints.Y_amount, c='red', label='mitigation off')\n",
    "    ax2.plot_date(pd.to_datetime(mitigated_mints.timestamp, unit='s'), mitigated_mints.Y_amount, linestyle='--', c='blue', label='mitigation on')\n",
    "\n",
    "    ax.set_title(f'Scatterplot of the mints for {pool_name} pool')\n",
    "    plt.legend()\n",
    "    ax.set_xlabel('time')\n",
    "    ax.set_ylabel('Y token amount')\n",
    "    ax2.set_ylabel('Y token mitigated amount')\n",
    "    fig.autofmt_xdate(rotation=25)\n",
    "    ax.grid(True, linestyle='--')\n",
    "\n",
    "    plt.show()"
   ]
  },
  {
   "cell_type": "markdown",
   "metadata": {},
   "source": [
    "Setting up the simulations parameters, with identifying their paths"
   ]
  },
  {
   "cell_type": "markdown",
   "metadata": {},
   "source": [
    "**cell below is executed ONLY ONCE BECAUSE OF FOUND MINTS TABLE ERROR**\n",
    "\n",
    "In some unique cases pools set pairs in unexpected order of tokens, meaning that all mints and burns will differ from expected format and therefore it is required to set them back into expected order. Unexpected order can be found if during simulations most of the transactions are blocked by ```NOT_ENOUGH_RESERVES``` status."
   ]
  },
  {
   "cell_type": "markdown",
   "metadata": {},
   "source": [
    "Each pool has its simulation parameters required to be set up in order to perform correct reading of the pickle files and where to save all simulation results."
   ]
  },
  {
   "cell_type": "code",
   "execution_count": null,
   "metadata": {},
   "outputs": [],
   "source": [
    "# NFT token pools or NFT-related token pools\n",
    "axs_weth_sim = Simulation(experiment_id = 11, x_name = 'AXS', y_name = 'WETH', window_size = 24, \n",
    "                           base_dir = fr\"{os.getcwd()}\\data\\real_transactions\\experiment_\")\n",
    "mana_weth_sim = Simulation(experiment_id = 12, x_name = 'MANA', y_name = 'WETH', window_size = 24, \n",
    "                           base_dir = fr\"{os.getcwd()}\\data\\real_transactions\\experiment_\")\n",
    "enj_weth_sim = Simulation(experiment_id = 13, x_name = 'ENJ', y_name = 'WETH', window_size = 24, \n",
    "                           base_dir = fr\"{os.getcwd()}\\data\\real_transactions\\experiment_\", x_index = '1', y_index = '0')\n",
    "sand_weth_sim = Simulation(experiment_id = 14, x_name = 'SAND', y_name = 'WETH', window_size = 24, \n",
    "                           base_dir = fr\"{os.getcwd()}\\data\\real_transactions\\experiment_\")\n",
    "alice_weth_sim = Simulation(experiment_id = 15, x_name = 'ALICE', y_name = 'WETH', window_size = 24, \n",
    "                           base_dir = fr\"{os.getcwd()}\\data\\real_transactions\\experiment_\")"
   ]
  },
  {
   "cell_type": "markdown",
   "metadata": {},
   "source": [
    "**IMPORTANT: launch those simulations only if there is no data in package ```data\\real_transactions```, otherwise skip this part (comment it)**"
   ]
  },
  {
   "cell_type": "code",
   "execution_count": null,
   "metadata": {},
   "outputs": [],
   "source": [
    "# # NFT token or NFT related pools\n",
    "# axs_weth_sim.run_simulation(isBurnAvailable = True, isMintAvailable = True)     # passed, experiment 11\n",
    "# mana_weth_sim.run_simulation(isBurnAvailable = True, isMintAvailable = True)    # passed, experiment 12\n",
    "# enj_weth_sim.run_simulation(isBurnAvailable = True, isMintAvailable = True)     # passed, experiment 13\n",
    "# sand_weth_sim.run_simulation(isBurnAvailable = True, isMintAvailable = True)    # passed, experiment 14\n",
    "# alice_weth_sim.run_simulation(isBurnAvailable = True, isMintAvailable = True)   # passed, experiment 15"
   ]
  },
  {
   "cell_type": "markdown",
   "metadata": {},
   "source": [
    "## NFT and NFT related tokens pools (AXS/WETH, MANA/WETH, ENJ/WETH, SAND/WETH, ALICE/WETH)"
   ]
  },
  {
   "cell_type": "code",
   "execution_count": null,
   "metadata": {},
   "outputs": [],
   "source": [
    "axs_weth_swaps_mitigation_off_df, axs_weth_mints_mitigation_off_df, axs_weth_burns_mitigation_off_df = axs_weth_sim.read_simulation(0)\n",
    "axs_weth_swaps_mitigation_on_df, axs_weth_mints_mitigation_on_df, axs_weth_burns_mitigation_on_df = axs_weth_sim.read_simulation(1)\n",
    "\n",
    "mana_weth_swaps_mitigation_off_df, mana_weth_mints_mitigation_off_df, mana_weth_burns_mitigation_off_df = mana_weth_sim.read_simulation(0)\n",
    "mana_weth_swaps_mitigation_on_df, mana_weth_mints_mitigation_on_df, mana_weth_burns_mitigation_on_df = mana_weth_sim.read_simulation(1)\n",
    "\n",
    "enj_weth_swaps_mitigation_off_df, enj_weth_mints_mitigation_off_df, enj_weth_burns_mitigation_off_df = enj_weth_sim.read_simulation(0)\n",
    "enj_weth_swaps_mitigation_on_df, enj_weth_mints_mitigation_on_df, enj_weth_burns_mitigation_on_df = enj_weth_sim.read_simulation(1)\n",
    "\n",
    "sand_weth_swaps_mitigation_off_df, sand_weth_mints_mitigation_off_df, sand_weth_burns_mitigation_off_df = sand_weth_sim.read_simulation(0)\n",
    "sand_weth_swaps_mitigation_on_df, sand_weth_mints_mitigation_on_df, sand_weth_burns_mitigation_on_df = sand_weth_sim.read_simulation(1)\n",
    "\n",
    "alice_weth_swaps_mitigation_off_df, alice_weth_mints_mitigation_off_df, alice_weth_burns_mitigation_off_df = alice_weth_sim.read_simulation(0)\n",
    "alice_weth_swaps_mitigation_on_df, alice_weth_mints_mitigation_on_df, alice_weth_burns_mitigation_on_df = alice_weth_sim.read_simulation(1)"
   ]
  },
  {
   "cell_type": "markdown",
   "metadata": {},
   "source": [
    "# AXS/WETH (NFT)"
   ]
  },
  {
   "cell_type": "code",
   "execution_count": null,
   "metadata": {},
   "outputs": [],
   "source": [
    "axs_weth_mints_mitigation_off_df"
   ]
  },
  {
   "cell_type": "code",
   "execution_count": null,
   "metadata": {},
   "outputs": [],
   "source": [
    "axs_weth_burns_mitigation_off_df"
   ]
  },
  {
   "cell_type": "code",
   "execution_count": null,
   "metadata": {},
   "outputs": [],
   "source": [
    "axs_weth_swaps_mitigation_off_df"
   ]
  },
  {
   "cell_type": "code",
   "execution_count": null,
   "metadata": {},
   "outputs": [],
   "source": [
    "plot_mints(axs_weth_mints_mitigation_on_df, axs_weth_mints_mitigation_off_df, pool_name='AXS/WETH')"
   ]
  },
  {
   "cell_type": "markdown",
   "metadata": {},
   "source": [
    "## MEV transactions extraction and analysis\n",
    "\n",
    "### MEV attacks and possible MEVs extraction\n",
    "\n",
    "There are 77 MEV attacks performed on the pool"
   ]
  },
  {
   "cell_type": "code",
   "execution_count": null,
   "metadata": {},
   "outputs": [],
   "source": [
    "axs_weth_filtered_swaps_df, axs_weth_mevs_df = axs_weth_sim.extract_filtered_and_mevs_dfs()"
   ]
  },
  {
   "cell_type": "code",
   "execution_count": null,
   "metadata": {},
   "outputs": [],
   "source": [
    "axs_weth_suspicious_filtered_swaps_df, axs_weth_possible_mevs_df = axs_weth_sim.extract_suspicious_and_filtered_swaps_dfs()"
   ]
  },
  {
   "cell_type": "code",
   "execution_count": null,
   "metadata": {},
   "outputs": [],
   "source": [
    "axs_weth_mevs_df = axs_weth_sim.calculate_attack_profit(axs_weth_mevs_df)"
   ]
  },
  {
   "cell_type": "markdown",
   "metadata": {},
   "source": [
    "### Plotting values of MEVs and possible MEVs with filtered swaps values"
   ]
  },
  {
   "cell_type": "code",
   "execution_count": null,
   "metadata": {},
   "outputs": [],
   "source": [
    "axs_weth_sim.show_swaps_and_mevs_by_token(axs_weth_filtered_swaps_df, axs_weth_mevs_df, width=15, height=5)"
   ]
  },
  {
   "cell_type": "code",
   "execution_count": null,
   "metadata": {},
   "outputs": [],
   "source": [
    "axs_weth_sim.show_swaps_and_mevs_by_token(axs_weth_suspicious_filtered_swaps_df, axs_weth_possible_mevs_df, width=15, height=5)"
   ]
  },
  {
   "cell_type": "markdown",
   "metadata": {},
   "source": [
    "### Plotting MEV transactions and possible MEV transactions with filtered swaps daily count distributions"
   ]
  },
  {
   "cell_type": "code",
   "execution_count": null,
   "metadata": {},
   "outputs": [],
   "source": [
    "axs_weth_sim.show_swaps_and_mevs_daily_count_by_token(axs_weth_filtered_swaps_df, axs_weth_mevs_df, mevs_alter_axis=True)"
   ]
  },
  {
   "cell_type": "code",
   "execution_count": null,
   "metadata": {},
   "outputs": [],
   "source": [
    "axs_weth_sim.show_swaps_and_mevs_daily_count_by_token(axs_weth_suspicious_filtered_swaps_df, axs_weth_possible_mevs_df, mevs_alter_axis=True)"
   ]
  },
  {
   "cell_type": "markdown",
   "metadata": {},
   "source": [
    "### Plotting ratio of MEV attacks to filtered swaps"
   ]
  },
  {
   "cell_type": "code",
   "execution_count": null,
   "metadata": {},
   "outputs": [],
   "source": [
    "axs_weth_sim.show_mevs_to_swaps_ratio(axs_weth_filtered_swaps_df, axs_weth_mevs_df)"
   ]
  },
  {
   "cell_type": "code",
   "execution_count": null,
   "metadata": {},
   "outputs": [],
   "source": [
    "axs_weth_sim.show_mevs_to_swaps_ratio(axs_weth_suspicious_filtered_swaps_df, axs_weth_possible_mevs_df)"
   ]
  },
  {
   "cell_type": "markdown",
   "metadata": {},
   "source": [
    "### Plotting ratio of MEVs and suspicious transactions to filtered swaps"
   ]
  },
  {
   "cell_type": "code",
   "execution_count": null,
   "metadata": {},
   "outputs": [],
   "source": [
    "axs_weth_sim.show_mevs_to_reserves_ratio(axs_weth_swaps_mitigation_off_df, axs_weth_mevs_df, width=15, height=10)\n",
    "axs_weth_sim.show_mevs_values_to_reserves_ratio(axs_weth_swaps_mitigation_off_df, axs_weth_mevs_df, width=15, height=10)"
   ]
  },
  {
   "cell_type": "markdown",
   "metadata": {},
   "source": [
    "### Plotting transaction values distribution of passed swaps, blocked swaps and not enough reserves swaps"
   ]
  },
  {
   "cell_type": "code",
   "execution_count": null,
   "metadata": {},
   "outputs": [],
   "source": [
    "axs_weth_sim.plot_transactions_by_type(axs_weth_swaps_mitigation_on_df, ignore_success=False, width=15, height=7)"
   ]
  },
  {
   "cell_type": "markdown",
   "metadata": {},
   "source": [
    "### Plotting mitigation comparison, slice factor distribution, reserves distributions, cumulative prices distributions, transaction frequency distributions, price impact after each transaction distributions"
   ]
  },
  {
   "cell_type": "code",
   "execution_count": null,
   "metadata": {
    "scrolled": false
   },
   "outputs": [],
   "source": [
    "axs_weth_sim.show_mitigation_comparison(axs_weth_swaps_mitigation_off_df, axs_weth_swaps_mitigation_on_df)\n",
    "axs_weth_sim.px_hist_blocked_transactions_slice(axs_weth_swaps_mitigation_on_df)\n",
    "axs_weth_sim.px_hist_blocked_transactions_difference_from_oracle(axs_weth_swaps_mitigation_on_df)\n",
    "axs_weth_sim.plot_slice_distribution_and_diff_limit_line(axs_weth_swaps_mitigation_on_df)\n",
    "axs_weth_sim.plot_reserves_with_and_without_mitigation(axs_weth_swaps_mitigation_off_df, axs_weth_swaps_mitigation_on_df)\n",
    "axs_weth_sim.plot_cumulative_prices_with_and_without_mitigation(axs_weth_swaps_mitigation_off_df, axs_weth_swaps_mitigation_off_df)\n",
    "axs_weth_sim.plot_price_distribution(axs_weth_swaps_mitigation_off_df, axs_weth_swaps_mitigation_on_df, separate_plots=True)\n",
    "axs_weth_sim.plot_frequency_distribution(axs_weth_swaps_mitigation_on_df)\n",
    "axs_weth_sim.plot_price_impact(axs_weth_swaps_mitigation_off_df, axs_weth_swaps_mitigation_on_df, \n",
    "                                smallest_y=axs_weth_swaps_mitigation_off_df['price_diff'].min(), \n",
    "                                biggest_y=axs_weth_swaps_mitigation_off_df['price_diff'].max())"
   ]
  },
  {
   "cell_type": "code",
   "execution_count": null,
   "metadata": {},
   "outputs": [],
   "source": [
    "axs_weth_blocked_df = axs_weth_swaps_mitigation_on_df[axs_weth_swaps_mitigation_on_df['status'] == 'BLOCKED_BY_VOLATILITY_MITIGATION']\n",
    "axs_weth_blocked_mevs_df = pd.merge(axs_weth_blocked_df, axs_weth_mevs_df, on='txd')\n",
    "axs_weth_blocked_mevs_df"
   ]
  },
  {
   "cell_type": "markdown",
   "metadata": {},
   "source": [
    "# MANA/WETH (NFT)"
   ]
  },
  {
   "cell_type": "code",
   "execution_count": null,
   "metadata": {},
   "outputs": [],
   "source": [
    "mana_weth_mints_mitigation_off_df"
   ]
  },
  {
   "cell_type": "code",
   "execution_count": null,
   "metadata": {},
   "outputs": [],
   "source": [
    "mana_weth_burns_mitigation_off_df"
   ]
  },
  {
   "cell_type": "code",
   "execution_count": null,
   "metadata": {},
   "outputs": [],
   "source": [
    "mana_weth_swaps_mitigation_off_df"
   ]
  },
  {
   "cell_type": "code",
   "execution_count": null,
   "metadata": {},
   "outputs": [],
   "source": [
    "plot_mints(mana_weth_mints_mitigation_on_df, mana_weth_mints_mitigation_off_df, pool_name='MANA/WETH')"
   ]
  },
  {
   "cell_type": "markdown",
   "metadata": {},
   "source": [
    "## MEV transactions extraction and analysis\n",
    "\n",
    "### MEV attacks and possible MEVs extraction\n",
    "\n",
    "There are 136 MEV attacks performed on the pool and 8789 possible attacks"
   ]
  },
  {
   "cell_type": "code",
   "execution_count": null,
   "metadata": {},
   "outputs": [],
   "source": [
    "mana_weth_filtered_swaps_df, mana_weth_mevs_df = mana_weth_sim.extract_filtered_and_mevs_dfs()"
   ]
  },
  {
   "cell_type": "code",
   "execution_count": null,
   "metadata": {},
   "outputs": [],
   "source": [
    "mana_weth_suspicious_filtered_swaps_df, mana_weth_possible_mevs_df = mana_weth_sim.extract_suspicious_and_filtered_swaps_dfs()"
   ]
  },
  {
   "cell_type": "code",
   "execution_count": null,
   "metadata": {},
   "outputs": [],
   "source": [
    "mana_weth_mevs_df = mana_weth_sim.calculate_attack_profit(mana_weth_mevs_df)"
   ]
  },
  {
   "cell_type": "markdown",
   "metadata": {},
   "source": [
    "### Plotting values of MEVs and possible MEVs with filtered swaps values"
   ]
  },
  {
   "cell_type": "code",
   "execution_count": null,
   "metadata": {},
   "outputs": [],
   "source": [
    "mana_weth_sim.show_swaps_and_mevs_by_token(mana_weth_filtered_swaps_df, mana_weth_mevs_df, width=15, height=5)"
   ]
  },
  {
   "cell_type": "code",
   "execution_count": null,
   "metadata": {},
   "outputs": [],
   "source": [
    "mana_weth_sim.show_swaps_and_mevs_by_token(mana_weth_suspicious_filtered_swaps_df, mana_weth_possible_mevs_df, width=15, height=5)"
   ]
  },
  {
   "cell_type": "markdown",
   "metadata": {},
   "source": [
    "### Plotting MEV transactions and possible MEV transactions with filtered swaps daily count distributions"
   ]
  },
  {
   "cell_type": "code",
   "execution_count": null,
   "metadata": {},
   "outputs": [],
   "source": [
    "mana_weth_sim.show_swaps_and_mevs_daily_count_by_token(mana_weth_filtered_swaps_df, mana_weth_mevs_df, mevs_alter_axis=True)"
   ]
  },
  {
   "cell_type": "code",
   "execution_count": null,
   "metadata": {},
   "outputs": [],
   "source": [
    "mana_weth_sim.show_swaps_and_mevs_daily_count_by_token(mana_weth_suspicious_filtered_swaps_df, mana_weth_possible_mevs_df, mevs_alter_axis=True)"
   ]
  },
  {
   "cell_type": "markdown",
   "metadata": {},
   "source": [
    "### Plotting ratio of MEV attacks to filtered swaps"
   ]
  },
  {
   "cell_type": "code",
   "execution_count": null,
   "metadata": {},
   "outputs": [],
   "source": [
    "mana_weth_sim.show_mevs_to_swaps_ratio(mana_weth_filtered_swaps_df, mana_weth_mevs_df)"
   ]
  },
  {
   "cell_type": "code",
   "execution_count": null,
   "metadata": {},
   "outputs": [],
   "source": [
    "mana_weth_sim.show_mevs_to_swaps_ratio(mana_weth_suspicious_filtered_swaps_df, mana_weth_possible_mevs_df)"
   ]
  },
  {
   "cell_type": "markdown",
   "metadata": {},
   "source": [
    "### Plotting ratio of MEVs and suspicious transactions to filtered swaps"
   ]
  },
  {
   "cell_type": "code",
   "execution_count": null,
   "metadata": {},
   "outputs": [],
   "source": [
    "mana_weth_sim.show_mevs_to_reserves_ratio(mana_weth_swaps_mitigation_off_df, mana_weth_mevs_df, width=15, height=10)\n",
    "mana_weth_sim.show_mevs_values_to_reserves_ratio(mana_weth_swaps_mitigation_off_df, mana_weth_mevs_df, width=15, height=10)"
   ]
  },
  {
   "cell_type": "markdown",
   "metadata": {},
   "source": [
    "### Plotting transaction values distribution of passed swaps, blocked swaps and not enough reserves swaps"
   ]
  },
  {
   "cell_type": "code",
   "execution_count": null,
   "metadata": {},
   "outputs": [],
   "source": [
    "mana_weth_sim.plot_transactions_by_type(mana_weth_swaps_mitigation_on_df, ignore_success=False, width=15, height=7)"
   ]
  },
  {
   "cell_type": "markdown",
   "metadata": {},
   "source": [
    "### Plotting mitigation comparison, slice factor distribution, reserves distributions, cumulative prices distributions, transaction frequency distributions, price impact after each transaction distributions"
   ]
  },
  {
   "cell_type": "code",
   "execution_count": null,
   "metadata": {
    "scrolled": false
   },
   "outputs": [],
   "source": [
    "mana_weth_sim.show_mitigation_comparison(mana_weth_swaps_mitigation_off_df, mana_weth_swaps_mitigation_on_df)\n",
    "mana_weth_sim.px_hist_blocked_transactions_slice(mana_weth_swaps_mitigation_on_df)\n",
    "mana_weth_sim.px_hist_blocked_transactions_difference_from_oracle(mana_weth_swaps_mitigation_on_df)\n",
    "mana_weth_sim.plot_slice_distribution_and_diff_limit_line(mana_weth_swaps_mitigation_on_df)\n",
    "mana_weth_sim.plot_reserves_with_and_without_mitigation(mana_weth_swaps_mitigation_off_df, mana_weth_swaps_mitigation_on_df)\n",
    "mana_weth_sim.plot_cumulative_prices_with_and_without_mitigation(mana_weth_swaps_mitigation_off_df, mana_weth_swaps_mitigation_off_df)\n",
    "mana_weth_sim.plot_price_distribution(mana_weth_swaps_mitigation_off_df, mana_weth_swaps_mitigation_on_df, separate_plots=True)\n",
    "mana_weth_sim.plot_frequency_distribution(mana_weth_swaps_mitigation_on_df)\n",
    "mana_weth_sim.plot_price_impact(mana_weth_swaps_mitigation_off_df, mana_weth_swaps_mitigation_on_df, \n",
    "                                smallest_y=mana_weth_swaps_mitigation_off_df['price_diff'].min(), \n",
    "                                biggest_y=mana_weth_swaps_mitigation_off_df['price_diff'].max())"
   ]
  },
  {
   "cell_type": "code",
   "execution_count": null,
   "metadata": {},
   "outputs": [],
   "source": [
    "mana_weth_blocked_df = mana_weth_swaps_mitigation_on_df[mana_weth_swaps_mitigation_on_df['status'] == 'BLOCKED_BY_VOLATILITY_MITIGATION']\n",
    "mana_weth_blocked_mevs_df = pd.merge(mana_weth_blocked_df, mana_weth_mevs_df, on='txd')\n",
    "mana_weth_blocked_mevs_df"
   ]
  },
  {
   "cell_type": "markdown",
   "metadata": {},
   "source": [
    "# ENJ/WETH (NFT)"
   ]
  },
  {
   "cell_type": "code",
   "execution_count": null,
   "metadata": {},
   "outputs": [],
   "source": [
    "enj_weth_mints_mitigation_off_df"
   ]
  },
  {
   "cell_type": "code",
   "execution_count": null,
   "metadata": {},
   "outputs": [],
   "source": [
    "enj_weth_burns_mitigation_off_df"
   ]
  },
  {
   "cell_type": "code",
   "execution_count": null,
   "metadata": {},
   "outputs": [],
   "source": [
    "enj_weth_swaps_mitigation_off_df"
   ]
  },
  {
   "cell_type": "code",
   "execution_count": null,
   "metadata": {},
   "outputs": [],
   "source": [
    "plot_mints(enj_weth_mints_mitigation_on_df, enj_weth_mints_mitigation_off_df, pool_name='ENJ/WETH')"
   ]
  },
  {
   "cell_type": "markdown",
   "metadata": {},
   "source": [
    "## MEV transactions extraction and analysis\n",
    "\n",
    "### MEV attacks and possible MEVs extraction\n",
    "\n",
    "There are 136 MEV attacks performed on the pool and 8789 possible attacks"
   ]
  },
  {
   "cell_type": "code",
   "execution_count": null,
   "metadata": {},
   "outputs": [],
   "source": [
    "enj_weth_filtered_swaps_df, enj_weth_mevs_df = enj_weth_sim.extract_filtered_and_mevs_dfs()"
   ]
  },
  {
   "cell_type": "code",
   "execution_count": null,
   "metadata": {},
   "outputs": [],
   "source": [
    "enj_weth_suspicious_filtered_swaps_df, enj_weth_possible_mevs_df = enj_weth_sim.extract_suspicious_and_filtered_swaps_dfs()"
   ]
  },
  {
   "cell_type": "code",
   "execution_count": null,
   "metadata": {},
   "outputs": [],
   "source": [
    "enj_weth_mevs_df = enj_weth_sim.calculate_attack_profit(enj_weth_mevs_df)"
   ]
  },
  {
   "cell_type": "markdown",
   "metadata": {},
   "source": [
    "### Plotting values of MEVs and possible MEVs with filtered swaps values"
   ]
  },
  {
   "cell_type": "code",
   "execution_count": null,
   "metadata": {},
   "outputs": [],
   "source": [
    "enj_weth_sim.show_swaps_and_mevs_by_token(enj_weth_filtered_swaps_df, enj_weth_mevs_df, width=15, height=5)"
   ]
  },
  {
   "cell_type": "code",
   "execution_count": null,
   "metadata": {},
   "outputs": [],
   "source": [
    "enj_weth_sim.show_swaps_and_mevs_by_token(enj_weth_suspicious_filtered_swaps_df, enj_weth_possible_mevs_df, width=15, height=5)"
   ]
  },
  {
   "cell_type": "markdown",
   "metadata": {},
   "source": [
    "### Plotting MEV transactions and possible MEV transactions with filtered swaps daily count distributions"
   ]
  },
  {
   "cell_type": "code",
   "execution_count": null,
   "metadata": {},
   "outputs": [],
   "source": [
    "enj_weth_sim.show_swaps_and_mevs_daily_count_by_token(enj_weth_filtered_swaps_df, enj_weth_mevs_df, mevs_alter_axis=True)"
   ]
  },
  {
   "cell_type": "code",
   "execution_count": null,
   "metadata": {},
   "outputs": [],
   "source": [
    "enj_weth_sim.show_swaps_and_mevs_daily_count_by_token(enj_weth_suspicious_filtered_swaps_df, enj_weth_possible_mevs_df, mevs_alter_axis=True)"
   ]
  },
  {
   "cell_type": "markdown",
   "metadata": {},
   "source": [
    "### Plotting ratio of MEV attacks to filtered swaps"
   ]
  },
  {
   "cell_type": "code",
   "execution_count": null,
   "metadata": {},
   "outputs": [],
   "source": [
    "enj_weth_sim.show_mevs_to_swaps_ratio(enj_weth_filtered_swaps_df, enj_weth_mevs_df)"
   ]
  },
  {
   "cell_type": "code",
   "execution_count": null,
   "metadata": {},
   "outputs": [],
   "source": [
    "enj_weth_sim.show_mevs_to_swaps_ratio(enj_weth_suspicious_filtered_swaps_df, enj_weth_possible_mevs_df)"
   ]
  },
  {
   "cell_type": "markdown",
   "metadata": {},
   "source": [
    "### Plotting ratio of MEVs and suspicious transactions to filtered swaps"
   ]
  },
  {
   "cell_type": "code",
   "execution_count": null,
   "metadata": {},
   "outputs": [],
   "source": [
    "enj_weth_sim.show_mevs_to_reserves_ratio(enj_weth_swaps_mitigation_off_df, enj_weth_mevs_df, width=15, height=10)\n",
    "enj_weth_sim.show_mevs_values_to_reserves_ratio(enj_weth_swaps_mitigation_off_df, enj_weth_mevs_df, width=15, height=10)"
   ]
  },
  {
   "cell_type": "markdown",
   "metadata": {},
   "source": [
    "### Plotting transaction values distribution of passed swaps, blocked swaps and not enough reserves swaps"
   ]
  },
  {
   "cell_type": "code",
   "execution_count": null,
   "metadata": {},
   "outputs": [],
   "source": [
    "enj_weth_sim.plot_transactions_by_type(enj_weth_swaps_mitigation_on_df, ignore_success=False, width=15, height=7)"
   ]
  },
  {
   "cell_type": "markdown",
   "metadata": {},
   "source": [
    "### Plotting mitigation comparison, slice factor distribution, reserves distributions, cumulative prices distributions, transaction frequency distributions, price impact after each transaction distributions"
   ]
  },
  {
   "cell_type": "code",
   "execution_count": null,
   "metadata": {
    "scrolled": false
   },
   "outputs": [],
   "source": [
    "enj_weth_sim.show_mitigation_comparison(enj_weth_swaps_mitigation_off_df, enj_weth_swaps_mitigation_on_df)\n",
    "enj_weth_sim.px_hist_blocked_transactions_slice(enj_weth_swaps_mitigation_on_df)\n",
    "enj_weth_sim.px_hist_blocked_transactions_difference_from_oracle(enj_weth_swaps_mitigation_on_df)\n",
    "enj_weth_sim.plot_slice_distribution_and_diff_limit_line(enj_weth_swaps_mitigation_on_df)\n",
    "enj_weth_sim.plot_reserves_with_and_without_mitigation(enj_weth_swaps_mitigation_off_df, enj_weth_swaps_mitigation_on_df)\n",
    "enj_weth_sim.plot_cumulative_prices_with_and_without_mitigation(enj_weth_swaps_mitigation_off_df, enj_weth_swaps_mitigation_off_df, make_big_num_convert=True)\n",
    "enj_weth_sim.plot_price_distribution(enj_weth_swaps_mitigation_off_df, enj_weth_swaps_mitigation_on_df, separate_plots=True)\n",
    "enj_weth_sim.plot_frequency_distribution(enj_weth_swaps_mitigation_on_df)\n",
    "enj_weth_sim.plot_price_impact(enj_weth_swaps_mitigation_off_df, enj_weth_swaps_mitigation_on_df, \n",
    "                                smallest_y=enj_weth_swaps_mitigation_off_df['price_diff'].min(), \n",
    "                                biggest_y=enj_weth_swaps_mitigation_off_df['price_diff'].max())"
   ]
  },
  {
   "cell_type": "code",
   "execution_count": null,
   "metadata": {},
   "outputs": [],
   "source": [
    "enj_weth_blocked_df = enj_weth_swaps_mitigation_on_df[enj_weth_swaps_mitigation_on_df['status'] == 'BLOCKED_BY_VOLATILITY_MITIGATION']\n",
    "enj_weth_blocked_mevs_df = pd.merge(enj_weth_blocked_df, enj_weth_mevs_df, on='txd')\n",
    "enj_weth_blocked_mevs_df"
   ]
  },
  {
   "cell_type": "markdown",
   "metadata": {},
   "source": [
    "# SAND/WETH (NFT)"
   ]
  },
  {
   "cell_type": "code",
   "execution_count": null,
   "metadata": {},
   "outputs": [],
   "source": [
    "sand_weth_mints_mitigation_off_df"
   ]
  },
  {
   "cell_type": "code",
   "execution_count": null,
   "metadata": {},
   "outputs": [],
   "source": [
    "sand_weth_burns_mitigation_off_df"
   ]
  },
  {
   "cell_type": "code",
   "execution_count": null,
   "metadata": {},
   "outputs": [],
   "source": [
    "sand_weth_swaps_mitigation_off_df"
   ]
  },
  {
   "cell_type": "code",
   "execution_count": null,
   "metadata": {},
   "outputs": [],
   "source": [
    "plot_mints(sand_weth_mints_mitigation_on_df, sand_weth_mints_mitigation_off_df, pool_name='SAND/WETH')"
   ]
  },
  {
   "cell_type": "markdown",
   "metadata": {},
   "source": [
    "## MEV transactions extraction and analysis\n",
    "\n",
    "### MEV attacks and possible MEVs extraction\n",
    "\n",
    "There are 77 MEV attacks performed on the pool"
   ]
  },
  {
   "cell_type": "code",
   "execution_count": null,
   "metadata": {},
   "outputs": [],
   "source": [
    "sand_weth_filtered_swaps_df, sand_weth_mevs_df = sand_weth_sim.extract_filtered_and_mevs_dfs()"
   ]
  },
  {
   "cell_type": "code",
   "execution_count": null,
   "metadata": {},
   "outputs": [],
   "source": [
    "sand_weth_suspicious_filtered_swaps_df, sand_weth_possible_mevs_df = sand_weth_sim.extract_suspicious_and_filtered_swaps_dfs()"
   ]
  },
  {
   "cell_type": "code",
   "execution_count": null,
   "metadata": {},
   "outputs": [],
   "source": [
    "sand_weth_mevs_df = sand_weth_sim.calculate_attack_profit(sand_weth_mevs_df)"
   ]
  },
  {
   "cell_type": "markdown",
   "metadata": {},
   "source": [
    "### Plotting values of MEVs and possible MEVs with filtered swaps values"
   ]
  },
  {
   "cell_type": "code",
   "execution_count": null,
   "metadata": {},
   "outputs": [],
   "source": [
    "sand_weth_sim.show_swaps_and_mevs_by_token(sand_weth_filtered_swaps_df, sand_weth_mevs_df, width=15, height=5)"
   ]
  },
  {
   "cell_type": "code",
   "execution_count": null,
   "metadata": {},
   "outputs": [],
   "source": [
    "sand_weth_sim.show_swaps_and_mevs_by_token(sand_weth_suspicious_filtered_swaps_df, sand_weth_possible_mevs_df, width=15, height=5)"
   ]
  },
  {
   "cell_type": "markdown",
   "metadata": {},
   "source": [
    "### Plotting MEV transactions and possible MEV transactions with filtered swaps daily count distributions"
   ]
  },
  {
   "cell_type": "code",
   "execution_count": null,
   "metadata": {},
   "outputs": [],
   "source": [
    "sand_weth_sim.show_swaps_and_mevs_daily_count_by_token(sand_weth_filtered_swaps_df, sand_weth_mevs_df, mevs_alter_axis=True)"
   ]
  },
  {
   "cell_type": "code",
   "execution_count": null,
   "metadata": {},
   "outputs": [],
   "source": [
    "sand_weth_sim.show_swaps_and_mevs_daily_count_by_token(sand_weth_suspicious_filtered_swaps_df, sand_weth_possible_mevs_df, mevs_alter_axis=True)"
   ]
  },
  {
   "cell_type": "markdown",
   "metadata": {},
   "source": [
    "### Plotting ratio of MEV attacks to filtered swaps"
   ]
  },
  {
   "cell_type": "code",
   "execution_count": null,
   "metadata": {},
   "outputs": [],
   "source": [
    "sand_weth_sim.show_mevs_to_swaps_ratio(sand_weth_filtered_swaps_df, sand_weth_mevs_df)"
   ]
  },
  {
   "cell_type": "code",
   "execution_count": null,
   "metadata": {},
   "outputs": [],
   "source": [
    "sand_weth_sim.show_mevs_to_swaps_ratio(sand_weth_suspicious_filtered_swaps_df, sand_weth_possible_mevs_df)"
   ]
  },
  {
   "cell_type": "markdown",
   "metadata": {},
   "source": [
    "### Plotting ratio of MEVs and suspicious transactions to filtered swaps"
   ]
  },
  {
   "cell_type": "code",
   "execution_count": null,
   "metadata": {},
   "outputs": [],
   "source": [
    "sand_weth_sim.show_mevs_to_reserves_ratio(sand_weth_swaps_mitigation_off_df, sand_weth_mevs_df, width=15, height=10)\n",
    "sand_weth_sim.show_mevs_values_to_reserves_ratio(sand_weth_swaps_mitigation_off_df, sand_weth_mevs_df, width=15, height=10)"
   ]
  },
  {
   "cell_type": "markdown",
   "metadata": {},
   "source": [
    "### Plotting transaction values distribution of passed swaps, blocked swaps and not enough reserves swaps"
   ]
  },
  {
   "cell_type": "code",
   "execution_count": null,
   "metadata": {},
   "outputs": [],
   "source": [
    "sand_weth_sim.plot_transactions_by_type(sand_weth_swaps_mitigation_on_df, ignore_success=False, width=15, height=7)"
   ]
  },
  {
   "cell_type": "markdown",
   "metadata": {},
   "source": [
    "### Plotting mitigation comparison, slice factor distribution, reserves distributions, cumulative prices distributions, transaction frequency distributions, price impact after each transaction distributions"
   ]
  },
  {
   "cell_type": "code",
   "execution_count": null,
   "metadata": {
    "scrolled": false
   },
   "outputs": [],
   "source": [
    "sand_weth_sim.show_mitigation_comparison(sand_weth_swaps_mitigation_off_df, sand_weth_swaps_mitigation_on_df)\n",
    "sand_weth_sim.px_hist_blocked_transactions_slice(sand_weth_swaps_mitigation_on_df)\n",
    "sand_weth_sim.px_hist_blocked_transactions_difference_from_oracle(sand_weth_swaps_mitigation_on_df)\n",
    "sand_weth_sim.plot_slice_distribution_and_diff_limit_line(sand_weth_swaps_mitigation_on_df)\n",
    "sand_weth_sim.plot_reserves_with_and_without_mitigation(sand_weth_swaps_mitigation_off_df, sand_weth_swaps_mitigation_on_df)\n",
    "sand_weth_sim.plot_cumulative_prices_with_and_without_mitigation(sand_weth_swaps_mitigation_off_df, sand_weth_swaps_mitigation_off_df, make_big_num_convert=True)\n",
    "sand_weth_sim.plot_price_distribution(sand_weth_swaps_mitigation_off_df, sand_weth_swaps_mitigation_on_df, separate_plots=True)\n",
    "sand_weth_sim.plot_frequency_distribution(sand_weth_swaps_mitigation_on_df)\n",
    "sand_weth_sim.plot_price_impact(sand_weth_swaps_mitigation_off_df, sand_weth_swaps_mitigation_on_df, \n",
    "                                smallest_y=sand_weth_swaps_mitigation_off_df['price_diff'].min(), \n",
    "                                biggest_y=sand_weth_swaps_mitigation_off_df['price_diff'].max())"
   ]
  },
  {
   "cell_type": "code",
   "execution_count": null,
   "metadata": {},
   "outputs": [],
   "source": [
    "sand_weth_blocked_df = sand_weth_swaps_mitigation_on_df[sand_weth_swaps_mitigation_on_df['status'] == 'BLOCKED_BY_VOLATILITY_MITIGATION']\n",
    "sand_weth_blocked_mevs_df = pd.merge(sand_weth_blocked_df, sand_weth_mevs_df, on='txd')\n",
    "sand_weth_blocked_mevs_df"
   ]
  },
  {
   "cell_type": "markdown",
   "metadata": {},
   "source": [
    "# ALICE/WETH (NFT)"
   ]
  },
  {
   "cell_type": "code",
   "execution_count": null,
   "metadata": {},
   "outputs": [],
   "source": [
    "alice_weth_mints_mitigation_off_df"
   ]
  },
  {
   "cell_type": "code",
   "execution_count": null,
   "metadata": {},
   "outputs": [],
   "source": [
    "alice_weth_burns_mitigation_off_df"
   ]
  },
  {
   "cell_type": "code",
   "execution_count": null,
   "metadata": {},
   "outputs": [],
   "source": [
    "alice_weth_swaps_mitigation_off_df"
   ]
  },
  {
   "cell_type": "code",
   "execution_count": null,
   "metadata": {},
   "outputs": [],
   "source": [
    "plot_mints(alice_weth_mints_mitigation_on_df, alice_weth_mints_mitigation_off_df, pool_name='ALICE/WETH')"
   ]
  },
  {
   "cell_type": "markdown",
   "metadata": {},
   "source": [
    "## MEV transactions extraction and analysis\n",
    "\n",
    "### MEV attacks and possible MEVs extraction\n",
    "\n",
    "There are 77 MEV attacks performed on the pool"
   ]
  },
  {
   "cell_type": "code",
   "execution_count": null,
   "metadata": {},
   "outputs": [],
   "source": [
    "alice_weth_filtered_swaps_df, alice_weth_mevs_df = alice_weth_sim.extract_filtered_and_mevs_dfs()"
   ]
  },
  {
   "cell_type": "code",
   "execution_count": null,
   "metadata": {},
   "outputs": [],
   "source": [
    "alice_weth_suspicious_filtered_swaps_df, alice_weth_possible_mevs_df = alice_weth_sim.extract_suspicious_and_filtered_swaps_dfs()"
   ]
  },
  {
   "cell_type": "code",
   "execution_count": null,
   "metadata": {},
   "outputs": [],
   "source": [
    "alice_weth_mevs_df = alice_weth_sim.calculate_attack_profit(alice_weth_mevs_df)"
   ]
  },
  {
   "cell_type": "markdown",
   "metadata": {},
   "source": [
    "### Plotting values of MEVs and possible MEVs with filtered swaps values"
   ]
  },
  {
   "cell_type": "code",
   "execution_count": null,
   "metadata": {},
   "outputs": [],
   "source": [
    "alice_weth_sim.show_swaps_and_mevs_by_token(alice_weth_filtered_swaps_df, alice_weth_mevs_df, width=15, height=5)"
   ]
  },
  {
   "cell_type": "code",
   "execution_count": null,
   "metadata": {},
   "outputs": [],
   "source": [
    "alice_weth_sim.show_swaps_and_mevs_by_token(alice_weth_suspicious_filtered_swaps_df, alice_weth_possible_mevs_df, width=15, height=5)"
   ]
  },
  {
   "cell_type": "markdown",
   "metadata": {},
   "source": [
    "### Plotting MEV transactions and possible MEV transactions with filtered swaps daily count distributions"
   ]
  },
  {
   "cell_type": "code",
   "execution_count": null,
   "metadata": {},
   "outputs": [],
   "source": [
    "alice_weth_sim.show_swaps_and_mevs_daily_count_by_token(alice_weth_filtered_swaps_df, alice_weth_mevs_df, mevs_alter_axis=True)"
   ]
  },
  {
   "cell_type": "code",
   "execution_count": null,
   "metadata": {},
   "outputs": [],
   "source": [
    "alice_weth_sim.show_swaps_and_mevs_daily_count_by_token(alice_weth_suspicious_filtered_swaps_df, alice_weth_possible_mevs_df, mevs_alter_axis=True)"
   ]
  },
  {
   "cell_type": "markdown",
   "metadata": {},
   "source": [
    "### Plotting ratio of MEV attacks to filtered swaps"
   ]
  },
  {
   "cell_type": "code",
   "execution_count": null,
   "metadata": {},
   "outputs": [],
   "source": [
    "alice_weth_sim.show_mevs_to_swaps_ratio(alice_weth_filtered_swaps_df, alice_weth_mevs_df)"
   ]
  },
  {
   "cell_type": "code",
   "execution_count": null,
   "metadata": {},
   "outputs": [],
   "source": [
    "alice_weth_sim.show_mevs_to_swaps_ratio(alice_weth_suspicious_filtered_swaps_df, alice_weth_possible_mevs_df)"
   ]
  },
  {
   "cell_type": "markdown",
   "metadata": {},
   "source": [
    "### Plotting ratio of MEVs and suspicious transactions to filtered swaps"
   ]
  },
  {
   "cell_type": "code",
   "execution_count": null,
   "metadata": {},
   "outputs": [],
   "source": [
    "alice_weth_sim.show_mevs_to_reserves_ratio(alice_weth_swaps_mitigation_off_df, alice_weth_mevs_df, width=15, height=10)\n",
    "alice_weth_sim.show_mevs_values_to_reserves_ratio(alice_weth_swaps_mitigation_off_df, alice_weth_mevs_df, width=15, height=10)"
   ]
  },
  {
   "cell_type": "markdown",
   "metadata": {},
   "source": [
    "### Plotting transaction values distribution of passed swaps, blocked swaps and not enough reserves swaps"
   ]
  },
  {
   "cell_type": "code",
   "execution_count": null,
   "metadata": {},
   "outputs": [],
   "source": [
    "alice_weth_sim.plot_transactions_by_type(alice_weth_swaps_mitigation_on_df, ignore_success=False, width=15, height=7)"
   ]
  },
  {
   "cell_type": "markdown",
   "metadata": {},
   "source": [
    "### Plotting mitigation comparison, slice factor distribution, reserves distributions, cumulative prices distributions, transaction frequency distributions, price impact after each transaction distributions"
   ]
  },
  {
   "cell_type": "code",
   "execution_count": null,
   "metadata": {},
   "outputs": [],
   "source": [
    "alice_weth_sim.show_mitigation_comparison(alice_weth_swaps_mitigation_off_df, alice_weth_swaps_mitigation_on_df)\n",
    "alice_weth_sim.px_hist_blocked_transactions_slice(alice_weth_swaps_mitigation_on_df)\n",
    "alice_weth_sim.px_hist_blocked_transactions_difference_from_oracle(alice_weth_swaps_mitigation_on_df)\n",
    "alice_weth_sim.plot_slice_distribution_and_diff_limit_line(alice_weth_swaps_mitigation_on_df)\n",
    "alice_weth_sim.plot_reserves_with_and_without_mitigation(alice_weth_swaps_mitigation_off_df, alice_weth_swaps_mitigation_on_df)\n",
    "alice_weth_sim.plot_cumulative_prices_with_and_without_mitigation(alice_weth_swaps_mitigation_off_df, alice_weth_swaps_mitigation_off_df)\n",
    "alice_weth_sim.plot_price_distribution(alice_weth_swaps_mitigation_off_df, alice_weth_swaps_mitigation_on_df, separate_plots=True)\n",
    "alice_weth_sim.plot_frequency_distribution(alice_weth_swaps_mitigation_on_df)\n",
    "alice_weth_sim.plot_price_impact(alice_weth_swaps_mitigation_off_df, alice_weth_swaps_mitigation_on_df, \n",
    "                                smallest_y=alice_weth_swaps_mitigation_off_df['price_diff'].min(), \n",
    "                                biggest_y=alice_weth_swaps_mitigation_off_df['price_diff'].max())"
   ]
  },
  {
   "cell_type": "code",
   "execution_count": null,
   "metadata": {},
   "outputs": [],
   "source": [
    "alice_weth_blocked_df = alice_weth_swaps_mitigation_on_df[alice_weth_swaps_mitigation_on_df['status'] == 'BLOCKED_BY_VOLATILITY_MITIGATION']\n",
    "alice_weth_blocked_mevs_df = pd.merge(alice_weth_blocked_df, alice_weth_mevs_df, on='txd')\n",
    "alice_weth_blocked_mevs_df"
   ]
  }
 ],
 "metadata": {
  "language_info": {
   "name": "python"
  },
  "orig_nbformat": 4
 },
 "nbformat": 4,
 "nbformat_minor": 2
}
